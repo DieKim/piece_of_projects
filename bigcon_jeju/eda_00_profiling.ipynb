{
 "cells": [
  {
   "cell_type": "markdown",
   "id": "70037721",
   "metadata": {},
   "source": [
    "# Goal\n",
    "* 주제: 음식물쓰레기 배출 요인에 따른 제주 읍면동별 배출량 예측 및 감소방안 도출\n",
    "* 예상요인\n",
    "> 거주인구, 유동인구, 계절/분기, 배달 카드소비량, 코로나 전후/단계별, 관광객 수, 요일/평일주말, 관광시기(성수기/비수기), 날씨변화(강수량, 습도, 기온)\n",
    "\n",
    "* 고려할점\n",
    "> 거주지 중심 발생 쓰레기 만으로 전체 음식물 쓰레기 배출량 예측 -> 음식점 쓰레기는?"
   ]
  },
  {
   "cell_type": "markdown",
   "id": "042dc40f",
   "metadata": {},
   "source": [
    "# import data"
   ]
  },
  {
   "cell_type": "code",
   "execution_count": 1,
   "id": "e67c2bdb",
   "metadata": {},
   "outputs": [],
   "source": [
    "import pandas as pd\n",
    "# import os \n",
    "# #path = os.getcwd()\n",
    "# os.chdir('/content/drive/MyDrive/BigCon')"
   ]
  },
  {
   "cell_type": "code",
   "execution_count": 1,
   "id": "fa30dc2f",
   "metadata": {},
   "outputs": [
    {
     "name": "stderr",
     "output_type": "stream",
     "text": [
      "C:\\Users\\user\\anaconda3\\lib\\site-packages\\IPython\\core\\interactiveshell.py:3165: DtypeWarning: Columns (2) have mixed types.Specify dtype option on import or set low_memory=False.\n",
      "  has_raised = await self.run_ast_nodes(code_ast.body, cell_name,\n"
     ]
    }
   ],
   "source": [
    "foodwaste = pd.read_csv('01_음식물쓰레기_FOOD_WASTE.CSV.csv', encoding='cp949')"
   ]
  },
  {
   "cell_type": "code",
   "execution_count": 2,
   "id": "1fec225a",
   "metadata": {},
   "outputs": [],
   "source": [
    "korean = pd.read_csv('02-1_내국인유동인구_KOREAN.CSV.csv', encoding='cp949')"
   ]
  },
  {
   "cell_type": "code",
   "execution_count": 3,
   "id": "0ee3f5e7",
   "metadata": {},
   "outputs": [],
   "source": [
    "longfrgn = pd.read_csv('02-2_장기체류 외국인 유동인구_LONG_TERM_FRGN.CSV.csv', encoding='cp949')"
   ]
  },
  {
   "cell_type": "code",
   "execution_count": 4,
   "id": "7ce478d0",
   "metadata": {},
   "outputs": [],
   "source": [
    "shortfrgn = pd.read_csv('02-3_단기체류 외국인 유동인구_SHORT_TERM_FRGN.CSV.csv', encoding='cp949')"
   ]
  },
  {
   "cell_type": "code",
   "execution_count": 5,
   "id": "151bbfb0",
   "metadata": {},
   "outputs": [],
   "source": [
    "residpop = pd.read_csv('03_거주인구_RESIDENT_POP.CSV.csv', encoding='cp949')"
   ]
  },
  {
   "cell_type": "code",
   "execution_count": 6,
   "id": "ecf354c7",
   "metadata": {},
   "outputs": [],
   "source": [
    "card = pd.read_csv('04_음식관련 카드소비_CARD_SPENDING.CSV.csv', encoding='cp949')"
   ]
  },
  {
   "cell_type": "markdown",
   "id": "f481ae9c",
   "metadata": {},
   "source": [
    "### 01 음식물쓰레기\n",
    "* 행정동=읍면동\n",
    "* 읍면동별이니까 배출거점지역은 필요없지 않을까? 매핑 정보도 없음\n",
    "* 배출건수/배출량/지불금액 모두 읍면동 단위로 합치기"
   ]
  },
  {
   "attachments": {
    "111.PNG": {
     "image/png": "[encoded data removed]"
    }
   },
   "cell_type": "markdown",
   "id": "08984102",
   "metadata": {},
   "source": [
    "![111.PNG](attachment:111.PNG)"
   ]
  },
  {
   "cell_type": "code",
   "execution_count": 18,
   "id": "99ded8c1",
   "metadata": {},
   "outputs": [
    {
     "data": {
      "text/html": [
       "<div>\n",
       "<style scoped>\n",
       "    .dataframe tbody tr th:only-of-type {\n",
       "        vertical-align: middle;\n",
       "    }\n",
       "\n",
       "    .dataframe tbody tr th {\n",
       "        vertical-align: top;\n",
       "    }\n",
       "\n",
       "    .dataframe thead th {\n",
       "        text-align: right;\n",
       "    }\n",
       "</style>\n",
       "<table border=\"1\" class=\"dataframe\">\n",
       "  <thead>\n",
       "    <tr style=\"text-align: right;\">\n",
       "      <th></th>\n",
       "      <th>base_date</th>\n",
       "      <th>city</th>\n",
       "      <th>emd_cd</th>\n",
       "      <th>emd_nm</th>\n",
       "      <th>em_area_cd</th>\n",
       "      <th>em_cnt</th>\n",
       "      <th>em_g</th>\n",
       "      <th>pay_amt</th>\n",
       "    </tr>\n",
       "  </thead>\n",
       "  <tbody>\n",
       "    <tr>\n",
       "      <th>0</th>\n",
       "      <td>2018-01-01</td>\n",
       "      <td>제주시</td>\n",
       "      <td>50110670</td>\n",
       "      <td>외도동</td>\n",
       "      <td>W6X062</td>\n",
       "      <td>2</td>\n",
       "      <td>15500</td>\n",
       "      <td>464</td>\n",
       "    </tr>\n",
       "    <tr>\n",
       "      <th>1</th>\n",
       "      <td>2018-01-01</td>\n",
       "      <td>제주시</td>\n",
       "      <td>50110540</td>\n",
       "      <td>이도2동</td>\n",
       "      <td>W6X063</td>\n",
       "      <td>26</td>\n",
       "      <td>64650</td>\n",
       "      <td>1933</td>\n",
       "    </tr>\n",
       "    <tr>\n",
       "      <th>2</th>\n",
       "      <td>2018-01-01</td>\n",
       "      <td>제주시</td>\n",
       "      <td>50110630</td>\n",
       "      <td>아라동</td>\n",
       "      <td>W6X064</td>\n",
       "      <td>15</td>\n",
       "      <td>33500</td>\n",
       "      <td>1001</td>\n",
       "    </tr>\n",
       "    <tr>\n",
       "      <th>3</th>\n",
       "      <td>2018-01-01</td>\n",
       "      <td>제주시</td>\n",
       "      <td>50110610</td>\n",
       "      <td>삼양동</td>\n",
       "      <td>W6X065</td>\n",
       "      <td>4</td>\n",
       "      <td>8400</td>\n",
       "      <td>252</td>\n",
       "    </tr>\n",
       "    <tr>\n",
       "      <th>4</th>\n",
       "      <td>2018-01-01</td>\n",
       "      <td>제주시</td>\n",
       "      <td>50110540</td>\n",
       "      <td>이도2동</td>\n",
       "      <td>W6X066</td>\n",
       "      <td>21</td>\n",
       "      <td>51450</td>\n",
       "      <td>1538</td>\n",
       "    </tr>\n",
       "  </tbody>\n",
       "</table>\n",
       "</div>"
      ],
      "text/plain": [
       "    base_date city    emd_cd emd_nm em_area_cd  em_cnt   em_g  pay_amt\n",
       "0  2018-01-01  제주시  50110670    외도동     W6X062       2  15500      464\n",
       "1  2018-01-01  제주시  50110540   이도2동     W6X063      26  64650     1933\n",
       "2  2018-01-01  제주시  50110630    아라동     W6X064      15  33500     1001\n",
       "3  2018-01-01  제주시  50110610    삼양동     W6X065       4   8400      252\n",
       "4  2018-01-01  제주시  50110540   이도2동     W6X066      21  51450     1538"
      ]
     },
     "execution_count": 18,
     "metadata": {},
     "output_type": "execute_result"
    }
   ],
   "source": [
    "foodwaste.head()"
   ]
  },
  {
   "cell_type": "code",
   "execution_count": 43,
   "id": "89bdeae7",
   "metadata": {},
   "outputs": [
    {
     "name": "stdout",
     "output_type": "stream",
     "text": [
      "<class 'pandas.core.frame.DataFrame'>\n",
      "RangeIndex: 2209861 entries, 0 to 2209860\n",
      "Data columns (total 8 columns):\n",
      " #   Column      Dtype \n",
      "---  ------      ----- \n",
      " 0   base_date   object\n",
      " 1   city        object\n",
      " 2   emd_cd      object\n",
      " 3   emd_nm      object\n",
      " 4   em_area_cd  object\n",
      " 5   em_cnt      int64 \n",
      " 6   em_g        int64 \n",
      " 7   pay_amt     int64 \n",
      "dtypes: int64(3), object(5)\n",
      "memory usage: 134.9+ MB\n"
     ]
    }
   ],
   "source": [
    "foodwaste.info()"
   ]
  },
  {
   "cell_type": "markdown",
   "id": "cd26e9b6",
   "metadata": {},
   "source": [
    "* 알수없음이 꽤 많은데 얘를 어떻게 처리할지"
   ]
  },
  {
   "cell_type": "code",
   "execution_count": 40,
   "id": "5ebdb358",
   "metadata": {},
   "outputs": [
    {
     "data": {
      "text/html": [
       "<div>\n",
       "<style scoped>\n",
       "    .dataframe tbody tr th:only-of-type {\n",
       "        vertical-align: middle;\n",
       "    }\n",
       "\n",
       "    .dataframe tbody tr th {\n",
       "        vertical-align: top;\n",
       "    }\n",
       "\n",
       "    .dataframe thead th {\n",
       "        text-align: right;\n",
       "    }\n",
       "</style>\n",
       "<table border=\"1\" class=\"dataframe\">\n",
       "  <thead>\n",
       "    <tr style=\"text-align: right;\">\n",
       "      <th></th>\n",
       "      <th>base_date</th>\n",
       "      <th>city</th>\n",
       "      <th>emd_cd</th>\n",
       "      <th>emd_nm</th>\n",
       "      <th>em_area_cd</th>\n",
       "      <th>em_cnt</th>\n",
       "      <th>em_g</th>\n",
       "      <th>pay_amt</th>\n",
       "    </tr>\n",
       "  </thead>\n",
       "  <tbody>\n",
       "    <tr>\n",
       "      <th>1399</th>\n",
       "      <td>2018-01-01</td>\n",
       "      <td>알수없음</td>\n",
       "      <td>알수없음</td>\n",
       "      <td>알수없음</td>\n",
       "      <td>W6Y402</td>\n",
       "      <td>21</td>\n",
       "      <td>142950</td>\n",
       "      <td>4283</td>\n",
       "    </tr>\n",
       "    <tr>\n",
       "      <th>1404</th>\n",
       "      <td>2018-01-01</td>\n",
       "      <td>알수없음</td>\n",
       "      <td>알수없음</td>\n",
       "      <td>알수없음</td>\n",
       "      <td>W6Y407</td>\n",
       "      <td>13</td>\n",
       "      <td>211050</td>\n",
       "      <td>6329</td>\n",
       "    </tr>\n",
       "    <tr>\n",
       "      <th>1406</th>\n",
       "      <td>2018-01-01</td>\n",
       "      <td>알수없음</td>\n",
       "      <td>알수없음</td>\n",
       "      <td>알수없음</td>\n",
       "      <td>W6Y409</td>\n",
       "      <td>7</td>\n",
       "      <td>44950</td>\n",
       "      <td>1348</td>\n",
       "    </tr>\n",
       "    <tr>\n",
       "      <th>2849</th>\n",
       "      <td>2018-01-02</td>\n",
       "      <td>알수없음</td>\n",
       "      <td>알수없음</td>\n",
       "      <td>알수없음</td>\n",
       "      <td>W6Y402</td>\n",
       "      <td>20</td>\n",
       "      <td>104250</td>\n",
       "      <td>3123</td>\n",
       "    </tr>\n",
       "    <tr>\n",
       "      <th>2854</th>\n",
       "      <td>2018-01-02</td>\n",
       "      <td>알수없음</td>\n",
       "      <td>알수없음</td>\n",
       "      <td>알수없음</td>\n",
       "      <td>W6Y407</td>\n",
       "      <td>9</td>\n",
       "      <td>99250</td>\n",
       "      <td>2975</td>\n",
       "    </tr>\n",
       "  </tbody>\n",
       "</table>\n",
       "</div>"
      ],
      "text/plain": [
       "       base_date  city emd_cd emd_nm em_area_cd  em_cnt    em_g  pay_amt\n",
       "1399  2018-01-01  알수없음   알수없음   알수없음     W6Y402      21  142950     4283\n",
       "1404  2018-01-01  알수없음   알수없음   알수없음     W6Y407      13  211050     6329\n",
       "1406  2018-01-01  알수없음   알수없음   알수없음     W6Y409       7   44950     1348\n",
       "2849  2018-01-02  알수없음   알수없음   알수없음     W6Y402      20  104250     3123\n",
       "2854  2018-01-02  알수없음   알수없음   알수없음     W6Y407       9   99250     2975"
      ]
     },
     "execution_count": 40,
     "metadata": {},
     "output_type": "execute_result"
    }
   ],
   "source": [
    "none = foodwaste[foodwaste['city']=='알수없음']\n",
    "none.head()"
   ]
  },
  {
   "cell_type": "code",
   "execution_count": 42,
   "id": "a017b54e",
   "metadata": {},
   "outputs": [
    {
     "data": {
      "text/html": [
       "<div>\n",
       "<style scoped>\n",
       "    .dataframe tbody tr th:only-of-type {\n",
       "        vertical-align: middle;\n",
       "    }\n",
       "\n",
       "    .dataframe tbody tr th {\n",
       "        vertical-align: top;\n",
       "    }\n",
       "\n",
       "    .dataframe thead th {\n",
       "        text-align: right;\n",
       "    }\n",
       "</style>\n",
       "<table border=\"1\" class=\"dataframe\">\n",
       "  <thead>\n",
       "    <tr style=\"text-align: right;\">\n",
       "      <th></th>\n",
       "      <th>em_cnt</th>\n",
       "      <th>em_g</th>\n",
       "      <th>pay_amt</th>\n",
       "    </tr>\n",
       "  </thead>\n",
       "  <tbody>\n",
       "    <tr>\n",
       "      <th>count</th>\n",
       "      <td>4.200000e+01</td>\n",
       "      <td>4.200000e+01</td>\n",
       "      <td>4.200000e+01</td>\n",
       "    </tr>\n",
       "    <tr>\n",
       "      <th>mean</th>\n",
       "      <td>1.118182e+06</td>\n",
       "      <td>2.526506e+09</td>\n",
       "      <td>7.560787e+07</td>\n",
       "    </tr>\n",
       "    <tr>\n",
       "      <th>std</th>\n",
       "      <td>1.273046e+06</td>\n",
       "      <td>2.433049e+09</td>\n",
       "      <td>7.258623e+07</td>\n",
       "    </tr>\n",
       "    <tr>\n",
       "      <th>min</th>\n",
       "      <td>3.276800e+04</td>\n",
       "      <td>1.708031e+08</td>\n",
       "      <td>5.115933e+06</td>\n",
       "    </tr>\n",
       "    <tr>\n",
       "      <th>25%</th>\n",
       "      <td>3.174018e+05</td>\n",
       "      <td>9.926641e+08</td>\n",
       "      <td>2.988371e+07</td>\n",
       "    </tr>\n",
       "    <tr>\n",
       "      <th>50%</th>\n",
       "      <td>6.985720e+05</td>\n",
       "      <td>1.786809e+09</td>\n",
       "      <td>5.333555e+07</td>\n",
       "    </tr>\n",
       "    <tr>\n",
       "      <th>75%</th>\n",
       "      <td>1.283520e+06</td>\n",
       "      <td>2.764417e+09</td>\n",
       "      <td>8.258705e+07</td>\n",
       "    </tr>\n",
       "    <tr>\n",
       "      <th>max</th>\n",
       "      <td>5.373862e+06</td>\n",
       "      <td>1.059136e+10</td>\n",
       "      <td>3.161831e+08</td>\n",
       "    </tr>\n",
       "  </tbody>\n",
       "</table>\n",
       "</div>"
      ],
      "text/plain": [
       "             em_cnt          em_g       pay_amt\n",
       "count  4.200000e+01  4.200000e+01  4.200000e+01\n",
       "mean   1.118182e+06  2.526506e+09  7.560787e+07\n",
       "std    1.273046e+06  2.433049e+09  7.258623e+07\n",
       "min    3.276800e+04  1.708031e+08  5.115933e+06\n",
       "25%    3.174018e+05  9.926641e+08  2.988371e+07\n",
       "50%    6.985720e+05  1.786809e+09  5.333555e+07\n",
       "75%    1.283520e+06  2.764417e+09  8.258705e+07\n",
       "max    5.373862e+06  1.059136e+10  3.161831e+08"
      ]
     },
     "execution_count": 42,
     "metadata": {},
     "output_type": "execute_result"
    }
   ],
   "source": [
    "# 행정동별 배출건수/배출량/지불금액 합계\n",
    "a1 = foodwaste.groupby('emd_nm')[['em_cnt', 'em_g', 'pay_amt']].sum()\n",
    "a1.describe()"
   ]
  },
  {
   "cell_type": "markdown",
   "id": "d2297f4f",
   "metadata": {},
   "source": [
    "### 02 내국인 유동인구\n",
    "* 제주/그외로 나누기 -> 내국인 관광객 수 파악\n",
    "* 거주인구/근무인구/방문인구 -> 관광 위주 행정동인지 아닌지 파악"
   ]
  },
  {
   "attachments": {
    "222.PNG": {
     "image/png": "[encoded data removed]"
    }
   },
   "cell_type": "markdown",
   "id": "3b22b9e3",
   "metadata": {},
   "source": [
    "![222.PNG](attachment:222.PNG)"
   ]
  },
  {
   "cell_type": "code",
   "execution_count": 20,
   "id": "3a4ef94c",
   "metadata": {},
   "outputs": [
    {
     "data": {
      "text/html": [
       "<div>\n",
       "<style scoped>\n",
       "    .dataframe tbody tr th:only-of-type {\n",
       "        vertical-align: middle;\n",
       "    }\n",
       "\n",
       "    .dataframe tbody tr th {\n",
       "        vertical-align: top;\n",
       "    }\n",
       "\n",
       "    .dataframe thead th {\n",
       "        text-align: right;\n",
       "    }\n",
       "</style>\n",
       "<table border=\"1\" class=\"dataframe\">\n",
       "  <thead>\n",
       "    <tr style=\"text-align: right;\">\n",
       "      <th></th>\n",
       "      <th>base_date</th>\n",
       "      <th>time</th>\n",
       "      <th>city</th>\n",
       "      <th>emd_cd</th>\n",
       "      <th>emd_nm</th>\n",
       "      <th>sex</th>\n",
       "      <th>age</th>\n",
       "      <th>resd_pop_cnt</th>\n",
       "      <th>work_pop_cnt</th>\n",
       "      <th>visit_pop_cnt</th>\n",
       "      <th>resd</th>\n",
       "    </tr>\n",
       "  </thead>\n",
       "  <tbody>\n",
       "    <tr>\n",
       "      <th>0</th>\n",
       "      <td>2018-01-01</td>\n",
       "      <td>1</td>\n",
       "      <td>제주시</td>\n",
       "      <td>50110250</td>\n",
       "      <td>한림읍</td>\n",
       "      <td>여성</td>\n",
       "      <td>0</td>\n",
       "      <td>638.5509</td>\n",
       "      <td>15.5400</td>\n",
       "      <td>151.5149</td>\n",
       "      <td>제주</td>\n",
       "    </tr>\n",
       "    <tr>\n",
       "      <th>1</th>\n",
       "      <td>2018-01-01</td>\n",
       "      <td>1</td>\n",
       "      <td>제주시</td>\n",
       "      <td>50110250</td>\n",
       "      <td>한림읍</td>\n",
       "      <td>여성</td>\n",
       "      <td>0</td>\n",
       "      <td>0.0000</td>\n",
       "      <td>3.7249</td>\n",
       "      <td>171.3458</td>\n",
       "      <td>그외</td>\n",
       "    </tr>\n",
       "    <tr>\n",
       "      <th>2</th>\n",
       "      <td>2018-01-01</td>\n",
       "      <td>1</td>\n",
       "      <td>제주시</td>\n",
       "      <td>50110250</td>\n",
       "      <td>한림읍</td>\n",
       "      <td>여성</td>\n",
       "      <td>10</td>\n",
       "      <td>668.4577</td>\n",
       "      <td>17.0308</td>\n",
       "      <td>166.0500</td>\n",
       "      <td>제주</td>\n",
       "    </tr>\n",
       "    <tr>\n",
       "      <th>3</th>\n",
       "      <td>2018-01-01</td>\n",
       "      <td>1</td>\n",
       "      <td>제주시</td>\n",
       "      <td>50110250</td>\n",
       "      <td>한림읍</td>\n",
       "      <td>여성</td>\n",
       "      <td>10</td>\n",
       "      <td>0.0000</td>\n",
       "      <td>4.2577</td>\n",
       "      <td>195.8539</td>\n",
       "      <td>그외</td>\n",
       "    </tr>\n",
       "    <tr>\n",
       "      <th>4</th>\n",
       "      <td>2018-01-01</td>\n",
       "      <td>1</td>\n",
       "      <td>제주시</td>\n",
       "      <td>50110250</td>\n",
       "      <td>한림읍</td>\n",
       "      <td>여성</td>\n",
       "      <td>20</td>\n",
       "      <td>609.7710</td>\n",
       "      <td>5.9490</td>\n",
       "      <td>148.7246</td>\n",
       "      <td>제주</td>\n",
       "    </tr>\n",
       "  </tbody>\n",
       "</table>\n",
       "</div>"
      ],
      "text/plain": [
       "    base_date  time city    emd_cd emd_nm sex  age  resd_pop_cnt  \\\n",
       "0  2018-01-01     1  제주시  50110250    한림읍  여성    0      638.5509   \n",
       "1  2018-01-01     1  제주시  50110250    한림읍  여성    0        0.0000   \n",
       "2  2018-01-01     1  제주시  50110250    한림읍  여성   10      668.4577   \n",
       "3  2018-01-01     1  제주시  50110250    한림읍  여성   10        0.0000   \n",
       "4  2018-01-01     1  제주시  50110250    한림읍  여성   20      609.7710   \n",
       "\n",
       "   work_pop_cnt  visit_pop_cnt resd  \n",
       "0       15.5400       151.5149   제주  \n",
       "1        3.7249       171.3458   그외  \n",
       "2       17.0308       166.0500   제주  \n",
       "3        4.2577       195.8539   그외  \n",
       "4        5.9490       148.7246   제주  "
      ]
     },
     "execution_count": 20,
     "metadata": {},
     "output_type": "execute_result"
    }
   ],
   "source": [
    "korean.head()"
   ]
  },
  {
   "cell_type": "markdown",
   "id": "f73121ff",
   "metadata": {},
   "source": [
    "### 03 장기체류 외국인 유동인구"
   ]
  },
  {
   "attachments": {
    "333.PNG": {
     "image/png": "[encoded data removed]"
    }
   },
   "cell_type": "markdown",
   "id": "27402dfa",
   "metadata": {},
   "source": [
    "![333.PNG](attachment:333.PNG)"
   ]
  },
  {
   "cell_type": "code",
   "execution_count": 21,
   "id": "3f8669fa",
   "metadata": {},
   "outputs": [
    {
     "data": {
      "text/html": [
       "<div>\n",
       "<style scoped>\n",
       "    .dataframe tbody tr th:only-of-type {\n",
       "        vertical-align: middle;\n",
       "    }\n",
       "\n",
       "    .dataframe tbody tr th {\n",
       "        vertical-align: top;\n",
       "    }\n",
       "\n",
       "    .dataframe thead th {\n",
       "        text-align: right;\n",
       "    }\n",
       "</style>\n",
       "<table border=\"1\" class=\"dataframe\">\n",
       "  <thead>\n",
       "    <tr style=\"text-align: right;\">\n",
       "      <th></th>\n",
       "      <th>base_date</th>\n",
       "      <th>time</th>\n",
       "      <th>nationality</th>\n",
       "      <th>city</th>\n",
       "      <th>emd_cd</th>\n",
       "      <th>emd_nm</th>\n",
       "      <th>resd_pop_cnt</th>\n",
       "      <th>work_pop_cnt</th>\n",
       "      <th>visit_pop_cnt</th>\n",
       "      <th>resd</th>\n",
       "    </tr>\n",
       "  </thead>\n",
       "  <tbody>\n",
       "    <tr>\n",
       "      <th>0</th>\n",
       "      <td>2018-01-01</td>\n",
       "      <td>1</td>\n",
       "      <td>CAN</td>\n",
       "      <td>제주시</td>\n",
       "      <td>50110250</td>\n",
       "      <td>한림읍</td>\n",
       "      <td>6.3381</td>\n",
       "      <td>0.0000</td>\n",
       "      <td>4.5802</td>\n",
       "      <td>제주</td>\n",
       "    </tr>\n",
       "    <tr>\n",
       "      <th>1</th>\n",
       "      <td>2018-01-01</td>\n",
       "      <td>1</td>\n",
       "      <td>CHN</td>\n",
       "      <td>제주시</td>\n",
       "      <td>50110250</td>\n",
       "      <td>한림읍</td>\n",
       "      <td>442.1091</td>\n",
       "      <td>0.0000</td>\n",
       "      <td>5.7051</td>\n",
       "      <td>제주</td>\n",
       "    </tr>\n",
       "    <tr>\n",
       "      <th>2</th>\n",
       "      <td>2018-01-01</td>\n",
       "      <td>1</td>\n",
       "      <td>CHN</td>\n",
       "      <td>제주시</td>\n",
       "      <td>50110250</td>\n",
       "      <td>한림읍</td>\n",
       "      <td>0.0000</td>\n",
       "      <td>7.8695</td>\n",
       "      <td>51.3461</td>\n",
       "      <td>그외</td>\n",
       "    </tr>\n",
       "    <tr>\n",
       "      <th>3</th>\n",
       "      <td>2018-01-01</td>\n",
       "      <td>1</td>\n",
       "      <td>DEU</td>\n",
       "      <td>제주시</td>\n",
       "      <td>50110250</td>\n",
       "      <td>한림읍</td>\n",
       "      <td>0.0000</td>\n",
       "      <td>0.0000</td>\n",
       "      <td>8.2099</td>\n",
       "      <td>그외</td>\n",
       "    </tr>\n",
       "    <tr>\n",
       "      <th>4</th>\n",
       "      <td>2018-01-01</td>\n",
       "      <td>1</td>\n",
       "      <td>ETC</td>\n",
       "      <td>제주시</td>\n",
       "      <td>50110250</td>\n",
       "      <td>한림읍</td>\n",
       "      <td>15.9184</td>\n",
       "      <td>0.0000</td>\n",
       "      <td>2.8758</td>\n",
       "      <td>제주</td>\n",
       "    </tr>\n",
       "  </tbody>\n",
       "</table>\n",
       "</div>"
      ],
      "text/plain": [
       "    base_date  time nationality city    emd_cd emd_nm  resd_pop_cnt  \\\n",
       "0  2018-01-01     1         CAN  제주시  50110250    한림읍        6.3381   \n",
       "1  2018-01-01     1         CHN  제주시  50110250    한림읍      442.1091   \n",
       "2  2018-01-01     1         CHN  제주시  50110250    한림읍        0.0000   \n",
       "3  2018-01-01     1         DEU  제주시  50110250    한림읍        0.0000   \n",
       "4  2018-01-01     1         ETC  제주시  50110250    한림읍       15.9184   \n",
       "\n",
       "   work_pop_cnt  visit_pop_cnt resd  \n",
       "0        0.0000         4.5802   제주  \n",
       "1        0.0000         5.7051   제주  \n",
       "2        7.8695        51.3461   그외  \n",
       "3        0.0000         8.2099   그외  \n",
       "4        0.0000         2.8758   제주  "
      ]
     },
     "execution_count": 21,
     "metadata": {},
     "output_type": "execute_result"
    }
   ],
   "source": [
    "longfrgn.head()"
   ]
  },
  {
   "cell_type": "markdown",
   "id": "61f5f3db",
   "metadata": {},
   "source": [
    "### 04 단기체류 외국인 유동인구"
   ]
  },
  {
   "attachments": {
    "444.PNG": {
     "image/png": "[encoded data removed]"
    }
   },
   "cell_type": "markdown",
   "id": "a1f770c5",
   "metadata": {},
   "source": [
    "![444.PNG](attachment:444.PNG)"
   ]
  },
  {
   "cell_type": "code",
   "execution_count": 23,
   "id": "46ce8b7f",
   "metadata": {},
   "outputs": [
    {
     "data": {
      "text/html": [
       "<div>\n",
       "<style scoped>\n",
       "    .dataframe tbody tr th:only-of-type {\n",
       "        vertical-align: middle;\n",
       "    }\n",
       "\n",
       "    .dataframe tbody tr th {\n",
       "        vertical-align: top;\n",
       "    }\n",
       "\n",
       "    .dataframe thead th {\n",
       "        text-align: right;\n",
       "    }\n",
       "</style>\n",
       "<table border=\"1\" class=\"dataframe\">\n",
       "  <thead>\n",
       "    <tr style=\"text-align: right;\">\n",
       "      <th></th>\n",
       "      <th>base_date</th>\n",
       "      <th>time</th>\n",
       "      <th>nationality</th>\n",
       "      <th>city</th>\n",
       "      <th>emd_cd</th>\n",
       "      <th>emd_nm</th>\n",
       "      <th>visit_pop_cnt</th>\n",
       "    </tr>\n",
       "  </thead>\n",
       "  <tbody>\n",
       "    <tr>\n",
       "      <th>0</th>\n",
       "      <td>2018-01-01</td>\n",
       "      <td>1</td>\n",
       "      <td>CHN</td>\n",
       "      <td>제주시</td>\n",
       "      <td>50110250</td>\n",
       "      <td>한림읍</td>\n",
       "      <td>66.3170</td>\n",
       "    </tr>\n",
       "    <tr>\n",
       "      <th>1</th>\n",
       "      <td>2018-01-01</td>\n",
       "      <td>1</td>\n",
       "      <td>ETC</td>\n",
       "      <td>제주시</td>\n",
       "      <td>50110250</td>\n",
       "      <td>한림읍</td>\n",
       "      <td>21.1308</td>\n",
       "    </tr>\n",
       "    <tr>\n",
       "      <th>2</th>\n",
       "      <td>2018-01-01</td>\n",
       "      <td>1</td>\n",
       "      <td>HKG</td>\n",
       "      <td>제주시</td>\n",
       "      <td>50110250</td>\n",
       "      <td>한림읍</td>\n",
       "      <td>3.6771</td>\n",
       "    </tr>\n",
       "    <tr>\n",
       "      <th>3</th>\n",
       "      <td>2018-01-01</td>\n",
       "      <td>1</td>\n",
       "      <td>JPN</td>\n",
       "      <td>제주시</td>\n",
       "      <td>50110250</td>\n",
       "      <td>한림읍</td>\n",
       "      <td>5.5962</td>\n",
       "    </tr>\n",
       "    <tr>\n",
       "      <th>4</th>\n",
       "      <td>2018-01-01</td>\n",
       "      <td>1</td>\n",
       "      <td>USA</td>\n",
       "      <td>제주시</td>\n",
       "      <td>50110250</td>\n",
       "      <td>한림읍</td>\n",
       "      <td>3.9078</td>\n",
       "    </tr>\n",
       "  </tbody>\n",
       "</table>\n",
       "</div>"
      ],
      "text/plain": [
       "    base_date  time nationality city    emd_cd emd_nm  visit_pop_cnt\n",
       "0  2018-01-01     1         CHN  제주시  50110250    한림읍        66.3170\n",
       "1  2018-01-01     1         ETC  제주시  50110250    한림읍        21.1308\n",
       "2  2018-01-01     1         HKG  제주시  50110250    한림읍         3.6771\n",
       "3  2018-01-01     1         JPN  제주시  50110250    한림읍         5.5962\n",
       "4  2018-01-01     1         USA  제주시  50110250    한림읍         3.9078"
      ]
     },
     "execution_count": 23,
     "metadata": {},
     "output_type": "execute_result"
    }
   ],
   "source": [
    "shortfrgn.head()"
   ]
  },
  {
   "cell_type": "markdown",
   "id": "9117bef8",
   "metadata": {},
   "source": [
    "### 05 거주인구\n",
    "* 거주인구가 많다고 음식물 쓰레기 배출량이 많지는 않을 수도 \n",
    "* 음식물 쓰레기 주된 배출 요인이 거주민인지 관광객인지 구분 필요\n",
    "* 근데 주여진 음쓰 데이터는 거주민밖에 없는게 문제"
   ]
  },
  {
   "attachments": {
    "555.PNG": {
     "image/png": "[encoded data removed]"
    }
   },
   "cell_type": "markdown",
   "id": "6b6bf610",
   "metadata": {},
   "source": [
    "![555.PNG](attachment:555.PNG)"
   ]
  },
  {
   "cell_type": "code",
   "execution_count": 24,
   "id": "99d1a953",
   "metadata": {},
   "outputs": [
    {
     "data": {
      "text/html": [
       "<div>\n",
       "<style scoped>\n",
       "    .dataframe tbody tr th:only-of-type {\n",
       "        vertical-align: middle;\n",
       "    }\n",
       "\n",
       "    .dataframe tbody tr th {\n",
       "        vertical-align: top;\n",
       "    }\n",
       "\n",
       "    .dataframe thead th {\n",
       "        text-align: right;\n",
       "    }\n",
       "</style>\n",
       "<table border=\"1\" class=\"dataframe\">\n",
       "  <thead>\n",
       "    <tr style=\"text-align: right;\">\n",
       "      <th></th>\n",
       "      <th>base_year</th>\n",
       "      <th>base_month</th>\n",
       "      <th>city</th>\n",
       "      <th>emd_cd</th>\n",
       "      <th>emd_nm</th>\n",
       "      <th>sex</th>\n",
       "      <th>resid_reg_pop</th>\n",
       "      <th>foreign_pop</th>\n",
       "      <th>total_pop</th>\n",
       "    </tr>\n",
       "  </thead>\n",
       "  <tbody>\n",
       "    <tr>\n",
       "      <th>0</th>\n",
       "      <td>2018</td>\n",
       "      <td>1</td>\n",
       "      <td>제주시</td>\n",
       "      <td>50110590</td>\n",
       "      <td>건입동</td>\n",
       "      <td>남성</td>\n",
       "      <td>5085</td>\n",
       "      <td>146</td>\n",
       "      <td>5231</td>\n",
       "    </tr>\n",
       "    <tr>\n",
       "      <th>1</th>\n",
       "      <td>2018</td>\n",
       "      <td>1</td>\n",
       "      <td>제주시</td>\n",
       "      <td>50110590</td>\n",
       "      <td>건입동</td>\n",
       "      <td>여성</td>\n",
       "      <td>4715</td>\n",
       "      <td>82</td>\n",
       "      <td>4797</td>\n",
       "    </tr>\n",
       "    <tr>\n",
       "      <th>2</th>\n",
       "      <td>2018</td>\n",
       "      <td>1</td>\n",
       "      <td>제주시</td>\n",
       "      <td>50110256</td>\n",
       "      <td>구좌읍</td>\n",
       "      <td>남성</td>\n",
       "      <td>7965</td>\n",
       "      <td>368</td>\n",
       "      <td>8333</td>\n",
       "    </tr>\n",
       "    <tr>\n",
       "      <th>3</th>\n",
       "      <td>2018</td>\n",
       "      <td>1</td>\n",
       "      <td>제주시</td>\n",
       "      <td>50110256</td>\n",
       "      <td>구좌읍</td>\n",
       "      <td>여성</td>\n",
       "      <td>7609</td>\n",
       "      <td>184</td>\n",
       "      <td>7793</td>\n",
       "    </tr>\n",
       "    <tr>\n",
       "      <th>4</th>\n",
       "      <td>2018</td>\n",
       "      <td>1</td>\n",
       "      <td>서귀포시</td>\n",
       "      <td>50130253</td>\n",
       "      <td>남원읍</td>\n",
       "      <td>남성</td>\n",
       "      <td>9806</td>\n",
       "      <td>428</td>\n",
       "      <td>10234</td>\n",
       "    </tr>\n",
       "  </tbody>\n",
       "</table>\n",
       "</div>"
      ],
      "text/plain": [
       "   base_year  base_month  city    emd_cd emd_nm sex  resid_reg_pop  \\\n",
       "0       2018           1   제주시  50110590    건입동  남성           5085   \n",
       "1       2018           1   제주시  50110590    건입동  여성           4715   \n",
       "2       2018           1   제주시  50110256    구좌읍  남성           7965   \n",
       "3       2018           1   제주시  50110256    구좌읍  여성           7609   \n",
       "4       2018           1  서귀포시  50130253    남원읍  남성           9806   \n",
       "\n",
       "   foreign_pop  total_pop  \n",
       "0          146       5231  \n",
       "1           82       4797  \n",
       "2          368       8333  \n",
       "3          184       7793  \n",
       "4          428      10234  "
      ]
     },
     "execution_count": 24,
     "metadata": {},
     "output_type": "execute_result"
    }
   ],
   "source": [
    "residpop.head()"
   ]
  },
  {
   "cell_type": "markdown",
   "id": "0de7f67a",
   "metadata": {},
   "source": [
    "### 06 음식관련 카드 소비\n",
    "* 카드소비량과 음식물쓰레기 배출량이 비례하는지 확인"
   ]
  },
  {
   "attachments": {
    "666.PNG": {
     "image/png": "[encoded data removed]"
    }
   },
   "cell_type": "markdown",
   "id": "b3004dd1",
   "metadata": {},
   "source": [
    "![666.PNG](attachment:666.PNG)"
   ]
  },
  {
   "cell_type": "code",
   "execution_count": 25,
   "id": "a0bc98b9",
   "metadata": {},
   "outputs": [
    {
     "data": {
      "text/html": [
       "<div>\n",
       "<style scoped>\n",
       "    .dataframe tbody tr th:only-of-type {\n",
       "        vertical-align: middle;\n",
       "    }\n",
       "\n",
       "    .dataframe tbody tr th {\n",
       "        vertical-align: top;\n",
       "    }\n",
       "\n",
       "    .dataframe thead th {\n",
       "        text-align: right;\n",
       "    }\n",
       "</style>\n",
       "<table border=\"1\" class=\"dataframe\">\n",
       "  <thead>\n",
       "    <tr style=\"text-align: right;\">\n",
       "      <th></th>\n",
       "      <th>base_date</th>\n",
       "      <th>city</th>\n",
       "      <th>emd_cd</th>\n",
       "      <th>emd_nm</th>\n",
       "      <th>mct_cat_cd</th>\n",
       "      <th>mct_cat_nm</th>\n",
       "      <th>use_cnt</th>\n",
       "      <th>use_amt</th>\n",
       "    </tr>\n",
       "  </thead>\n",
       "  <tbody>\n",
       "    <tr>\n",
       "      <th>0</th>\n",
       "      <td>2018-01-06</td>\n",
       "      <td>제주시</td>\n",
       "      <td>50110650</td>\n",
       "      <td>연동</td>\n",
       "      <td>C00100</td>\n",
       "      <td>한식</td>\n",
       "      <td>3643</td>\n",
       "      <td>127777300</td>\n",
       "    </tr>\n",
       "    <tr>\n",
       "      <th>1</th>\n",
       "      <td>2018-01-09</td>\n",
       "      <td>제주시</td>\n",
       "      <td>50110650</td>\n",
       "      <td>연동</td>\n",
       "      <td>C00500</td>\n",
       "      <td>패스트푸드</td>\n",
       "      <td>432</td>\n",
       "      <td>6711675</td>\n",
       "    </tr>\n",
       "    <tr>\n",
       "      <th>2</th>\n",
       "      <td>2018-01-15</td>\n",
       "      <td>제주시</td>\n",
       "      <td>50110650</td>\n",
       "      <td>연동</td>\n",
       "      <td>C01200</td>\n",
       "      <td>농축수산물</td>\n",
       "      <td>236</td>\n",
       "      <td>16089579</td>\n",
       "    </tr>\n",
       "    <tr>\n",
       "      <th>3</th>\n",
       "      <td>2018-01-15</td>\n",
       "      <td>제주시</td>\n",
       "      <td>50110650</td>\n",
       "      <td>연동</td>\n",
       "      <td>A00200</td>\n",
       "      <td>마트/슈퍼마켓</td>\n",
       "      <td>4031</td>\n",
       "      <td>121979867</td>\n",
       "    </tr>\n",
       "    <tr>\n",
       "      <th>4</th>\n",
       "      <td>2018-01-20</td>\n",
       "      <td>제주시</td>\n",
       "      <td>50110650</td>\n",
       "      <td>연동</td>\n",
       "      <td>C01000</td>\n",
       "      <td>식품</td>\n",
       "      <td>633</td>\n",
       "      <td>30410674</td>\n",
       "    </tr>\n",
       "  </tbody>\n",
       "</table>\n",
       "</div>"
      ],
      "text/plain": [
       "    base_date city    emd_cd emd_nm mct_cat_cd mct_cat_nm  use_cnt    use_amt\n",
       "0  2018-01-06  제주시  50110650     연동     C00100         한식     3643  127777300\n",
       "1  2018-01-09  제주시  50110650     연동     C00500      패스트푸드      432    6711675\n",
       "2  2018-01-15  제주시  50110650     연동     C01200      농축수산물      236   16089579\n",
       "3  2018-01-15  제주시  50110650     연동     A00200    마트/슈퍼마켓     4031  121979867\n",
       "4  2018-01-20  제주시  50110650     연동     C01000         식품      633   30410674"
      ]
     },
     "execution_count": 25,
     "metadata": {},
     "output_type": "execute_result"
    }
   ],
   "source": [
    "card.head()"
   ]
  },
  {
   "cell_type": "markdown",
   "id": "c6905c55",
   "metadata": {},
   "source": [
    "# EDA\n",
    "* profile: https://pandas-profiling.github.io/pandas-profiling/docs/master/rtd/\n",
    "* sweetviz: https://github.com/fbdesignpro/sweetviz"
   ]
  },
  {
   "cell_type": "code",
   "execution_count": 3,
   "id": "5f5c3e5d",
   "metadata": {},
   "outputs": [],
   "source": [
    "import pandas as pd\n",
    "from pandas_profiling import ProfileReport"
   ]
  },
  {
   "cell_type": "code",
   "execution_count": 36,
   "id": "6db709de",
   "metadata": {},
   "outputs": [
    {
     "name": "stderr",
     "output_type": "stream",
     "text": [
      "C:\\Users\\user\\anaconda3\\lib\\site-packages\\scipy\\stats\\stats.py:4594: RuntimeWarning: overflow encountered in longlong_scalars\n",
      "  (2 * xtie * ytie) / m + x0 * y0 / (9 * m * (size - 2)))\n",
      "C:\\Users\\user\\anaconda3\\lib\\site-packages\\matplotlib\\textpath.py:74: RuntimeWarning: Glyph 51228 missing from current font.\n",
      "  font.set_text(s, 0.0, flags=LOAD_NO_HINTING)\n",
      "C:\\Users\\user\\anaconda3\\lib\\site-packages\\matplotlib\\textpath.py:74: RuntimeWarning: Glyph 51452 missing from current font.\n",
      "  font.set_text(s, 0.0, flags=LOAD_NO_HINTING)\n",
      "C:\\Users\\user\\anaconda3\\lib\\site-packages\\matplotlib\\textpath.py:74: RuntimeWarning: Glyph 49884 missing from current font.\n",
      "  font.set_text(s, 0.0, flags=LOAD_NO_HINTING)\n",
      "C:\\Users\\user\\anaconda3\\lib\\site-packages\\matplotlib\\textpath.py:74: RuntimeWarning: Glyph 49436 missing from current font.\n",
      "  font.set_text(s, 0.0, flags=LOAD_NO_HINTING)\n",
      "C:\\Users\\user\\anaconda3\\lib\\site-packages\\matplotlib\\textpath.py:74: RuntimeWarning: Glyph 44480 missing from current font.\n",
      "  font.set_text(s, 0.0, flags=LOAD_NO_HINTING)\n",
      "C:\\Users\\user\\anaconda3\\lib\\site-packages\\matplotlib\\textpath.py:74: RuntimeWarning: Glyph 54252 missing from current font.\n",
      "  font.set_text(s, 0.0, flags=LOAD_NO_HINTING)\n",
      "C:\\Users\\user\\anaconda3\\lib\\site-packages\\matplotlib\\textpath.py:74: RuntimeWarning: Glyph 50508 missing from current font.\n",
      "  font.set_text(s, 0.0, flags=LOAD_NO_HINTING)\n",
      "C:\\Users\\user\\anaconda3\\lib\\site-packages\\matplotlib\\textpath.py:74: RuntimeWarning: Glyph 49688 missing from current font.\n",
      "  font.set_text(s, 0.0, flags=LOAD_NO_HINTING)\n",
      "C:\\Users\\user\\anaconda3\\lib\\site-packages\\matplotlib\\textpath.py:74: RuntimeWarning: Glyph 50630 missing from current font.\n",
      "  font.set_text(s, 0.0, flags=LOAD_NO_HINTING)\n",
      "C:\\Users\\user\\anaconda3\\lib\\site-packages\\matplotlib\\textpath.py:74: RuntimeWarning: Glyph 51020 missing from current font.\n",
      "  font.set_text(s, 0.0, flags=LOAD_NO_HINTING)\n",
      "C:\\Users\\user\\anaconda3\\lib\\site-packages\\matplotlib\\backends\\backend_agg.py:238: RuntimeWarning: Glyph 51228 missing from current font.\n",
      "  font.set_text(s, 0.0, flags=flags)\n",
      "C:\\Users\\user\\anaconda3\\lib\\site-packages\\matplotlib\\backends\\backend_agg.py:238: RuntimeWarning: Glyph 51452 missing from current font.\n",
      "  font.set_text(s, 0.0, flags=flags)\n",
      "C:\\Users\\user\\anaconda3\\lib\\site-packages\\matplotlib\\backends\\backend_agg.py:238: RuntimeWarning: Glyph 49884 missing from current font.\n",
      "  font.set_text(s, 0.0, flags=flags)\n",
      "C:\\Users\\user\\anaconda3\\lib\\site-packages\\matplotlib\\backends\\backend_agg.py:238: RuntimeWarning: Glyph 49436 missing from current font.\n",
      "  font.set_text(s, 0.0, flags=flags)\n",
      "C:\\Users\\user\\anaconda3\\lib\\site-packages\\matplotlib\\backends\\backend_agg.py:238: RuntimeWarning: Glyph 44480 missing from current font.\n",
      "  font.set_text(s, 0.0, flags=flags)\n",
      "C:\\Users\\user\\anaconda3\\lib\\site-packages\\matplotlib\\backends\\backend_agg.py:238: RuntimeWarning: Glyph 54252 missing from current font.\n",
      "  font.set_text(s, 0.0, flags=flags)\n",
      "C:\\Users\\user\\anaconda3\\lib\\site-packages\\matplotlib\\backends\\backend_agg.py:238: RuntimeWarning: Glyph 50508 missing from current font.\n",
      "  font.set_text(s, 0.0, flags=flags)\n",
      "C:\\Users\\user\\anaconda3\\lib\\site-packages\\matplotlib\\backends\\backend_agg.py:238: RuntimeWarning: Glyph 49688 missing from current font.\n",
      "  font.set_text(s, 0.0, flags=flags)\n",
      "C:\\Users\\user\\anaconda3\\lib\\site-packages\\matplotlib\\backends\\backend_agg.py:238: RuntimeWarning: Glyph 50630 missing from current font.\n",
      "  font.set_text(s, 0.0, flags=flags)\n",
      "C:\\Users\\user\\anaconda3\\lib\\site-packages\\matplotlib\\backends\\backend_agg.py:238: RuntimeWarning: Glyph 51020 missing from current font.\n",
      "  font.set_text(s, 0.0, flags=flags)\n",
      "C:\\Users\\user\\anaconda3\\lib\\site-packages\\matplotlib\\backends\\backend_agg.py:201: RuntimeWarning: Glyph 51228 missing from current font.\n",
      "  font.set_text(s, 0, flags=flags)\n",
      "C:\\Users\\user\\anaconda3\\lib\\site-packages\\matplotlib\\backends\\backend_agg.py:201: RuntimeWarning: Glyph 51452 missing from current font.\n",
      "  font.set_text(s, 0, flags=flags)\n",
      "C:\\Users\\user\\anaconda3\\lib\\site-packages\\matplotlib\\backends\\backend_agg.py:201: RuntimeWarning: Glyph 49884 missing from current font.\n",
      "  font.set_text(s, 0, flags=flags)\n",
      "C:\\Users\\user\\anaconda3\\lib\\site-packages\\matplotlib\\backends\\backend_agg.py:201: RuntimeWarning: Glyph 49436 missing from current font.\n",
      "  font.set_text(s, 0, flags=flags)\n",
      "C:\\Users\\user\\anaconda3\\lib\\site-packages\\matplotlib\\backends\\backend_agg.py:201: RuntimeWarning: Glyph 44480 missing from current font.\n",
      "  font.set_text(s, 0, flags=flags)\n",
      "C:\\Users\\user\\anaconda3\\lib\\site-packages\\matplotlib\\backends\\backend_agg.py:201: RuntimeWarning: Glyph 54252 missing from current font.\n",
      "  font.set_text(s, 0, flags=flags)\n",
      "C:\\Users\\user\\anaconda3\\lib\\site-packages\\matplotlib\\backends\\backend_agg.py:201: RuntimeWarning: Glyph 50508 missing from current font.\n",
      "  font.set_text(s, 0, flags=flags)\n",
      "C:\\Users\\user\\anaconda3\\lib\\site-packages\\matplotlib\\backends\\backend_agg.py:201: RuntimeWarning: Glyph 49688 missing from current font.\n",
      "  font.set_text(s, 0, flags=flags)\n",
      "C:\\Users\\user\\anaconda3\\lib\\site-packages\\matplotlib\\backends\\backend_agg.py:201: RuntimeWarning: Glyph 50630 missing from current font.\n",
      "  font.set_text(s, 0, flags=flags)\n",
      "C:\\Users\\user\\anaconda3\\lib\\site-packages\\matplotlib\\backends\\backend_agg.py:201: RuntimeWarning: Glyph 51020 missing from current font.\n",
      "  font.set_text(s, 0, flags=flags)\n"
     ]
    }
   ],
   "source": [
    "# EDA Report 생성\n",
    "profile = ProfileReport(\n",
    "            foodwaste,\n",
    "            minimal=False,\n",
    "            explorative=True,\n",
    "            title='Food Waste Profiling',\n",
    "            plot={'histogram': {'bins': 8}},\n",
    "            pool_size=4,\n",
    "            progress_bar=True)\n",
    "\n",
    "# Report 결과 경로에 저장\n",
    "profile.to_file(output_file=\"foodwaste_profiling.html\")"
   ]
  },
  {
   "cell_type": "code",
   "execution_count": 4,
   "id": "a70044de",
   "metadata": {},
   "outputs": [
    {
     "data": {
      "application/vnd.jupyter.widget-view+json": {
       "model_id": "0ca641e3130344ec93d6a61a5b4c1d60",
       "version_major": 2,
       "version_minor": 0
      },
      "text/plain": [
       "Summarize dataset:   0%|          | 0/24 [00:00<?, ?it/s]"
      ]
     },
     "metadata": {},
     "output_type": "display_data"
    },
    {
     "name": "stderr",
     "output_type": "stream",
     "text": [
      "C:\\Users\\user\\anaconda3\\lib\\site-packages\\scipy\\stats\\stats.py:4594: RuntimeWarning: overflow encountered in longlong_scalars\n",
      "  (2 * xtie * ytie) / m + x0 * y0 / (9 * m * (size - 2)))\n",
      "exception calling callback for <Future at 0x1949e93c880 state=finished returned list>\n",
      "Traceback (most recent call last):\n",
      "  File \"C:\\Users\\user\\anaconda3\\lib\\site-packages\\joblib\\parallel.py\", line 820, in dispatch_one_batch\n",
      "    tasks = self._ready_batches.get(block=False)\n",
      "  File \"C:\\Users\\user\\anaconda3\\lib\\queue.py\", line 167, in get\n",
      "    raise Empty\n",
      "_queue.Empty\n",
      "\n",
      "During handling of the above exception, another exception occurred:\n",
      "\n",
      "Traceback (most recent call last):\n",
      "  File \"C:\\Users\\user\\anaconda3\\lib\\site-packages\\joblib\\externals\\loky\\_base.py\", line 625, in _invoke_callbacks\n",
      "    callback(self)\n",
      "  File \"C:\\Users\\user\\anaconda3\\lib\\site-packages\\joblib\\parallel.py\", line 359, in __call__\n",
      "    self.parallel.dispatch_next()\n",
      "  File \"C:\\Users\\user\\anaconda3\\lib\\site-packages\\joblib\\parallel.py\", line 792, in dispatch_next\n",
      "    if not self.dispatch_one_batch(self._original_iterator):\n",
      "  File \"C:\\Users\\user\\anaconda3\\lib\\site-packages\\joblib\\parallel.py\", line 831, in dispatch_one_batch\n",
      "    islice = list(itertools.islice(iterator, big_batch_size))\n",
      "  File \"C:\\Users\\user\\anaconda3\\lib\\site-packages\\phik\\phik.py\", line 167, in <genexpr>\n",
      "    delayed(_calc_phik)(co, data_binned[list(co)], noise_correction)\n",
      "  File \"C:\\Users\\user\\anaconda3\\lib\\site-packages\\pandas\\core\\frame.py\", line 3036, in __getitem__\n",
      "    data = self._take_with_is_copy(indexer, axis=1)\n",
      "  File \"C:\\Users\\user\\anaconda3\\lib\\site-packages\\pandas\\core\\generic.py\", line 3600, in _take_with_is_copy\n",
      "    result = self.take(indices=indices, axis=axis)\n",
      "  File \"C:\\Users\\user\\anaconda3\\lib\\site-packages\\pandas\\core\\generic.py\", line 3586, in take\n",
      "    new_data = self._mgr.take(\n",
      "  File \"C:\\Users\\user\\anaconda3\\lib\\site-packages\\pandas\\core\\internals\\managers.py\", line 1474, in take\n",
      "    return self.reindex_indexer(\n",
      "  File \"C:\\Users\\user\\anaconda3\\lib\\site-packages\\pandas\\core\\internals\\managers.py\", line 1307, in reindex_indexer\n",
      "    new_blocks = self._slice_take_blocks_ax0(\n",
      "  File \"C:\\Users\\user\\anaconda3\\lib\\site-packages\\pandas\\core\\internals\\managers.py\", line 1437, in _slice_take_blocks_ax0\n",
      "    nb = blk.take_nd(taker, axis=0, new_mgr_locs=mgr_locs)\n",
      "  File \"C:\\Users\\user\\anaconda3\\lib\\site-packages\\pandas\\core\\internals\\blocks.py\", line 1395, in take_nd\n",
      "    new_values = algos.take_nd(\n",
      "  File \"C:\\Users\\user\\anaconda3\\lib\\site-packages\\pandas\\core\\algorithms.py\", line 1754, in take_nd\n",
      "    out = np.empty(out_shape, dtype=dtype)\n",
      "numpy.core._exceptions._ArrayMemoryError: Unable to allocate 360. MiB for an array with shape (1, 47250196) and data type int64\n"
     ]
    },
    {
     "data": {
      "application/vnd.jupyter.widget-view+json": {
       "model_id": "78bc84a62ffd4d4c897b0cf00aa2f488",
       "version_major": 2,
       "version_minor": 0
      },
      "text/plain": [
       "Generate report structure:   0%|          | 0/1 [00:00<?, ?it/s]"
      ]
     },
     "metadata": {},
     "output_type": "display_data"
    },
    {
     "name": "stderr",
     "output_type": "stream",
     "text": [
      "C:\\Users\\user\\anaconda3\\lib\\site-packages\\matplotlib\\textpath.py:74: RuntimeWarning: Glyph 51228 missing from current font.\n",
      "  font.set_text(s, 0.0, flags=LOAD_NO_HINTING)\n",
      "C:\\Users\\user\\anaconda3\\lib\\site-packages\\matplotlib\\textpath.py:74: RuntimeWarning: Glyph 51452 missing from current font.\n",
      "  font.set_text(s, 0.0, flags=LOAD_NO_HINTING)\n",
      "C:\\Users\\user\\anaconda3\\lib\\site-packages\\matplotlib\\textpath.py:74: RuntimeWarning: Glyph 49884 missing from current font.\n",
      "  font.set_text(s, 0.0, flags=LOAD_NO_HINTING)\n",
      "C:\\Users\\user\\anaconda3\\lib\\site-packages\\matplotlib\\textpath.py:74: RuntimeWarning: Glyph 49436 missing from current font.\n",
      "  font.set_text(s, 0.0, flags=LOAD_NO_HINTING)\n",
      "C:\\Users\\user\\anaconda3\\lib\\site-packages\\matplotlib\\textpath.py:74: RuntimeWarning: Glyph 44480 missing from current font.\n",
      "  font.set_text(s, 0.0, flags=LOAD_NO_HINTING)\n",
      "C:\\Users\\user\\anaconda3\\lib\\site-packages\\matplotlib\\textpath.py:74: RuntimeWarning: Glyph 54252 missing from current font.\n",
      "  font.set_text(s, 0.0, flags=LOAD_NO_HINTING)\n",
      "C:\\Users\\user\\anaconda3\\lib\\site-packages\\matplotlib\\backends\\backend_agg.py:238: RuntimeWarning: Glyph 51228 missing from current font.\n",
      "  font.set_text(s, 0.0, flags=flags)\n",
      "C:\\Users\\user\\anaconda3\\lib\\site-packages\\matplotlib\\backends\\backend_agg.py:238: RuntimeWarning: Glyph 51452 missing from current font.\n",
      "  font.set_text(s, 0.0, flags=flags)\n",
      "C:\\Users\\user\\anaconda3\\lib\\site-packages\\matplotlib\\backends\\backend_agg.py:238: RuntimeWarning: Glyph 49884 missing from current font.\n",
      "  font.set_text(s, 0.0, flags=flags)\n",
      "C:\\Users\\user\\anaconda3\\lib\\site-packages\\matplotlib\\backends\\backend_agg.py:238: RuntimeWarning: Glyph 49436 missing from current font.\n",
      "  font.set_text(s, 0.0, flags=flags)\n",
      "C:\\Users\\user\\anaconda3\\lib\\site-packages\\matplotlib\\backends\\backend_agg.py:238: RuntimeWarning: Glyph 44480 missing from current font.\n",
      "  font.set_text(s, 0.0, flags=flags)\n",
      "C:\\Users\\user\\anaconda3\\lib\\site-packages\\matplotlib\\backends\\backend_agg.py:238: RuntimeWarning: Glyph 54252 missing from current font.\n",
      "  font.set_text(s, 0.0, flags=flags)\n",
      "C:\\Users\\user\\anaconda3\\lib\\site-packages\\matplotlib\\backends\\backend_agg.py:201: RuntimeWarning: Glyph 51228 missing from current font.\n",
      "  font.set_text(s, 0, flags=flags)\n",
      "C:\\Users\\user\\anaconda3\\lib\\site-packages\\matplotlib\\backends\\backend_agg.py:201: RuntimeWarning: Glyph 51452 missing from current font.\n",
      "  font.set_text(s, 0, flags=flags)\n",
      "C:\\Users\\user\\anaconda3\\lib\\site-packages\\matplotlib\\backends\\backend_agg.py:201: RuntimeWarning: Glyph 49884 missing from current font.\n",
      "  font.set_text(s, 0, flags=flags)\n",
      "C:\\Users\\user\\anaconda3\\lib\\site-packages\\matplotlib\\backends\\backend_agg.py:201: RuntimeWarning: Glyph 49436 missing from current font.\n",
      "  font.set_text(s, 0, flags=flags)\n",
      "C:\\Users\\user\\anaconda3\\lib\\site-packages\\matplotlib\\backends\\backend_agg.py:201: RuntimeWarning: Glyph 44480 missing from current font.\n",
      "  font.set_text(s, 0, flags=flags)\n",
      "C:\\Users\\user\\anaconda3\\lib\\site-packages\\matplotlib\\backends\\backend_agg.py:201: RuntimeWarning: Glyph 54252 missing from current font.\n",
      "  font.set_text(s, 0, flags=flags)\n",
      "C:\\Users\\user\\anaconda3\\lib\\site-packages\\matplotlib\\textpath.py:74: RuntimeWarning: Glyph 45224 missing from current font.\n",
      "  font.set_text(s, 0.0, flags=LOAD_NO_HINTING)\n",
      "C:\\Users\\user\\anaconda3\\lib\\site-packages\\matplotlib\\textpath.py:74: RuntimeWarning: Glyph 49457 missing from current font.\n",
      "  font.set_text(s, 0.0, flags=LOAD_NO_HINTING)\n",
      "C:\\Users\\user\\anaconda3\\lib\\site-packages\\matplotlib\\textpath.py:74: RuntimeWarning: Glyph 50668 missing from current font.\n",
      "  font.set_text(s, 0.0, flags=LOAD_NO_HINTING)\n",
      "C:\\Users\\user\\anaconda3\\lib\\site-packages\\matplotlib\\backends\\backend_agg.py:238: RuntimeWarning: Glyph 45224 missing from current font.\n",
      "  font.set_text(s, 0.0, flags=flags)\n",
      "C:\\Users\\user\\anaconda3\\lib\\site-packages\\matplotlib\\backends\\backend_agg.py:238: RuntimeWarning: Glyph 49457 missing from current font.\n",
      "  font.set_text(s, 0.0, flags=flags)\n",
      "C:\\Users\\user\\anaconda3\\lib\\site-packages\\matplotlib\\backends\\backend_agg.py:238: RuntimeWarning: Glyph 50668 missing from current font.\n",
      "  font.set_text(s, 0.0, flags=flags)\n",
      "C:\\Users\\user\\anaconda3\\lib\\site-packages\\matplotlib\\backends\\backend_agg.py:201: RuntimeWarning: Glyph 45224 missing from current font.\n",
      "  font.set_text(s, 0, flags=flags)\n",
      "C:\\Users\\user\\anaconda3\\lib\\site-packages\\matplotlib\\backends\\backend_agg.py:201: RuntimeWarning: Glyph 49457 missing from current font.\n",
      "  font.set_text(s, 0, flags=flags)\n",
      "C:\\Users\\user\\anaconda3\\lib\\site-packages\\matplotlib\\backends\\backend_agg.py:201: RuntimeWarning: Glyph 50668 missing from current font.\n",
      "  font.set_text(s, 0, flags=flags)\n",
      "C:\\Users\\user\\anaconda3\\lib\\site-packages\\matplotlib\\textpath.py:74: RuntimeWarning: Glyph 51228 missing from current font.\n",
      "  font.set_text(s, 0.0, flags=LOAD_NO_HINTING)\n",
      "C:\\Users\\user\\anaconda3\\lib\\site-packages\\matplotlib\\textpath.py:74: RuntimeWarning: Glyph 51452 missing from current font.\n",
      "  font.set_text(s, 0.0, flags=LOAD_NO_HINTING)\n",
      "C:\\Users\\user\\anaconda3\\lib\\site-packages\\matplotlib\\textpath.py:74: RuntimeWarning: Glyph 44536 missing from current font.\n",
      "  font.set_text(s, 0.0, flags=LOAD_NO_HINTING)\n",
      "C:\\Users\\user\\anaconda3\\lib\\site-packages\\matplotlib\\textpath.py:74: RuntimeWarning: Glyph 50808 missing from current font.\n",
      "  font.set_text(s, 0.0, flags=LOAD_NO_HINTING)\n",
      "C:\\Users\\user\\anaconda3\\lib\\site-packages\\matplotlib\\backends\\backend_agg.py:238: RuntimeWarning: Glyph 51228 missing from current font.\n",
      "  font.set_text(s, 0.0, flags=flags)\n",
      "C:\\Users\\user\\anaconda3\\lib\\site-packages\\matplotlib\\backends\\backend_agg.py:238: RuntimeWarning: Glyph 51452 missing from current font.\n",
      "  font.set_text(s, 0.0, flags=flags)\n",
      "C:\\Users\\user\\anaconda3\\lib\\site-packages\\matplotlib\\backends\\backend_agg.py:238: RuntimeWarning: Glyph 44536 missing from current font.\n",
      "  font.set_text(s, 0.0, flags=flags)\n",
      "C:\\Users\\user\\anaconda3\\lib\\site-packages\\matplotlib\\backends\\backend_agg.py:238: RuntimeWarning: Glyph 50808 missing from current font.\n",
      "  font.set_text(s, 0.0, flags=flags)\n",
      "C:\\Users\\user\\anaconda3\\lib\\site-packages\\matplotlib\\backends\\backend_agg.py:201: RuntimeWarning: Glyph 51228 missing from current font.\n",
      "  font.set_text(s, 0, flags=flags)\n",
      "C:\\Users\\user\\anaconda3\\lib\\site-packages\\matplotlib\\backends\\backend_agg.py:201: RuntimeWarning: Glyph 51452 missing from current font.\n",
      "  font.set_text(s, 0, flags=flags)\n",
      "C:\\Users\\user\\anaconda3\\lib\\site-packages\\matplotlib\\backends\\backend_agg.py:201: RuntimeWarning: Glyph 44536 missing from current font.\n",
      "  font.set_text(s, 0, flags=flags)\n",
      "C:\\Users\\user\\anaconda3\\lib\\site-packages\\matplotlib\\backends\\backend_agg.py:201: RuntimeWarning: Glyph 50808 missing from current font.\n",
      "  font.set_text(s, 0, flags=flags)\n"
     ]
    },
    {
     "data": {
      "application/vnd.jupyter.widget-view+json": {
       "model_id": "0f39c88e6f4e4df088c916f388e65604",
       "version_major": 2,
       "version_minor": 0
      },
      "text/plain": [
       "Render HTML:   0%|          | 0/1 [00:00<?, ?it/s]"
      ]
     },
     "metadata": {},
     "output_type": "display_data"
    },
    {
     "data": {
      "application/vnd.jupyter.widget-view+json": {
       "model_id": "b2a68801ecd14d979027e3af66f51adb",
       "version_major": 2,
       "version_minor": 0
      },
      "text/plain": [
       "Export report to file:   0%|          | 0/1 [00:00<?, ?it/s]"
      ]
     },
     "metadata": {},
     "output_type": "display_data"
    }
   ],
   "source": [
    "# EDA Report 생성\n",
    "profile = ProfileReport(\n",
    "            korean,\n",
    "            minimal=False,\n",
    "            explorative=True,\n",
    "            title='Korean Profiling',\n",
    "            plot={'histogram': {'bins': 8}},\n",
    "            pool_size=4,\n",
    "            progress_bar=True)\n",
    "\n",
    "# Report 결과 경로에 저장\n",
    "profile.to_file(output_file=\"korean_profiling.html\")"
   ]
  },
  {
   "cell_type": "code",
   "execution_count": 12,
   "id": "c95e685d",
   "metadata": {},
   "outputs": [
    {
     "data": {
      "application/vnd.jupyter.widget-view+json": {
       "model_id": "f69bced70b204e37990caa213bcba086",
       "version_major": 2,
       "version_minor": 0
      },
      "text/plain": [
       "Summarize dataset:   0%|          | 0/23 [00:00<?, ?it/s]"
      ]
     },
     "metadata": {},
     "output_type": "display_data"
    },
    {
     "name": "stderr",
     "output_type": "stream",
     "text": [
      "C:\\Users\\user\\anaconda3\\lib\\site-packages\\scipy\\stats\\stats.py:4594: RuntimeWarning: overflow encountered in longlong_scalars\n",
      "  (2 * xtie * ytie) / m + x0 * y0 / (9 * m * (size - 2)))\n"
     ]
    },
    {
     "data": {
      "application/vnd.jupyter.widget-view+json": {
       "model_id": "6de3d094bf7a4017a431f85f833fd739",
       "version_major": 2,
       "version_minor": 0
      },
      "text/plain": [
       "Generate report structure:   0%|          | 0/1 [00:00<?, ?it/s]"
      ]
     },
     "metadata": {},
     "output_type": "display_data"
    },
    {
     "name": "stderr",
     "output_type": "stream",
     "text": [
      "C:\\Users\\user\\anaconda3\\lib\\site-packages\\matplotlib\\textpath.py:74: RuntimeWarning: Glyph 51228 missing from current font.\n",
      "  font.set_text(s, 0.0, flags=LOAD_NO_HINTING)\n",
      "C:\\Users\\user\\anaconda3\\lib\\site-packages\\matplotlib\\textpath.py:74: RuntimeWarning: Glyph 51452 missing from current font.\n",
      "  font.set_text(s, 0.0, flags=LOAD_NO_HINTING)\n",
      "C:\\Users\\user\\anaconda3\\lib\\site-packages\\matplotlib\\textpath.py:74: RuntimeWarning: Glyph 49884 missing from current font.\n",
      "  font.set_text(s, 0.0, flags=LOAD_NO_HINTING)\n",
      "C:\\Users\\user\\anaconda3\\lib\\site-packages\\matplotlib\\textpath.py:74: RuntimeWarning: Glyph 49436 missing from current font.\n",
      "  font.set_text(s, 0.0, flags=LOAD_NO_HINTING)\n",
      "C:\\Users\\user\\anaconda3\\lib\\site-packages\\matplotlib\\textpath.py:74: RuntimeWarning: Glyph 44480 missing from current font.\n",
      "  font.set_text(s, 0.0, flags=LOAD_NO_HINTING)\n",
      "C:\\Users\\user\\anaconda3\\lib\\site-packages\\matplotlib\\textpath.py:74: RuntimeWarning: Glyph 54252 missing from current font.\n",
      "  font.set_text(s, 0.0, flags=LOAD_NO_HINTING)\n",
      "C:\\Users\\user\\anaconda3\\lib\\site-packages\\matplotlib\\backends\\backend_agg.py:238: RuntimeWarning: Glyph 51228 missing from current font.\n",
      "  font.set_text(s, 0.0, flags=flags)\n",
      "C:\\Users\\user\\anaconda3\\lib\\site-packages\\matplotlib\\backends\\backend_agg.py:238: RuntimeWarning: Glyph 51452 missing from current font.\n",
      "  font.set_text(s, 0.0, flags=flags)\n",
      "C:\\Users\\user\\anaconda3\\lib\\site-packages\\matplotlib\\backends\\backend_agg.py:238: RuntimeWarning: Glyph 49884 missing from current font.\n",
      "  font.set_text(s, 0.0, flags=flags)\n",
      "C:\\Users\\user\\anaconda3\\lib\\site-packages\\matplotlib\\backends\\backend_agg.py:238: RuntimeWarning: Glyph 49436 missing from current font.\n",
      "  font.set_text(s, 0.0, flags=flags)\n",
      "C:\\Users\\user\\anaconda3\\lib\\site-packages\\matplotlib\\backends\\backend_agg.py:238: RuntimeWarning: Glyph 44480 missing from current font.\n",
      "  font.set_text(s, 0.0, flags=flags)\n",
      "C:\\Users\\user\\anaconda3\\lib\\site-packages\\matplotlib\\backends\\backend_agg.py:238: RuntimeWarning: Glyph 54252 missing from current font.\n",
      "  font.set_text(s, 0.0, flags=flags)\n",
      "C:\\Users\\user\\anaconda3\\lib\\site-packages\\matplotlib\\backends\\backend_agg.py:201: RuntimeWarning: Glyph 51228 missing from current font.\n",
      "  font.set_text(s, 0, flags=flags)\n",
      "C:\\Users\\user\\anaconda3\\lib\\site-packages\\matplotlib\\backends\\backend_agg.py:201: RuntimeWarning: Glyph 51452 missing from current font.\n",
      "  font.set_text(s, 0, flags=flags)\n",
      "C:\\Users\\user\\anaconda3\\lib\\site-packages\\matplotlib\\backends\\backend_agg.py:201: RuntimeWarning: Glyph 49884 missing from current font.\n",
      "  font.set_text(s, 0, flags=flags)\n",
      "C:\\Users\\user\\anaconda3\\lib\\site-packages\\matplotlib\\backends\\backend_agg.py:201: RuntimeWarning: Glyph 49436 missing from current font.\n",
      "  font.set_text(s, 0, flags=flags)\n",
      "C:\\Users\\user\\anaconda3\\lib\\site-packages\\matplotlib\\backends\\backend_agg.py:201: RuntimeWarning: Glyph 44480 missing from current font.\n",
      "  font.set_text(s, 0, flags=flags)\n",
      "C:\\Users\\user\\anaconda3\\lib\\site-packages\\matplotlib\\backends\\backend_agg.py:201: RuntimeWarning: Glyph 54252 missing from current font.\n",
      "  font.set_text(s, 0, flags=flags)\n",
      "C:\\Users\\user\\anaconda3\\lib\\site-packages\\matplotlib\\textpath.py:74: RuntimeWarning: Glyph 51228 missing from current font.\n",
      "  font.set_text(s, 0.0, flags=LOAD_NO_HINTING)\n",
      "C:\\Users\\user\\anaconda3\\lib\\site-packages\\matplotlib\\textpath.py:74: RuntimeWarning: Glyph 51452 missing from current font.\n",
      "  font.set_text(s, 0.0, flags=LOAD_NO_HINTING)\n",
      "C:\\Users\\user\\anaconda3\\lib\\site-packages\\matplotlib\\textpath.py:74: RuntimeWarning: Glyph 44536 missing from current font.\n",
      "  font.set_text(s, 0.0, flags=LOAD_NO_HINTING)\n",
      "C:\\Users\\user\\anaconda3\\lib\\site-packages\\matplotlib\\textpath.py:74: RuntimeWarning: Glyph 50808 missing from current font.\n",
      "  font.set_text(s, 0.0, flags=LOAD_NO_HINTING)\n",
      "C:\\Users\\user\\anaconda3\\lib\\site-packages\\matplotlib\\backends\\backend_agg.py:238: RuntimeWarning: Glyph 51228 missing from current font.\n",
      "  font.set_text(s, 0.0, flags=flags)\n",
      "C:\\Users\\user\\anaconda3\\lib\\site-packages\\matplotlib\\backends\\backend_agg.py:238: RuntimeWarning: Glyph 51452 missing from current font.\n",
      "  font.set_text(s, 0.0, flags=flags)\n",
      "C:\\Users\\user\\anaconda3\\lib\\site-packages\\matplotlib\\backends\\backend_agg.py:238: RuntimeWarning: Glyph 44536 missing from current font.\n",
      "  font.set_text(s, 0.0, flags=flags)\n",
      "C:\\Users\\user\\anaconda3\\lib\\site-packages\\matplotlib\\backends\\backend_agg.py:238: RuntimeWarning: Glyph 50808 missing from current font.\n",
      "  font.set_text(s, 0.0, flags=flags)\n",
      "C:\\Users\\user\\anaconda3\\lib\\site-packages\\matplotlib\\backends\\backend_agg.py:201: RuntimeWarning: Glyph 51228 missing from current font.\n",
      "  font.set_text(s, 0, flags=flags)\n",
      "C:\\Users\\user\\anaconda3\\lib\\site-packages\\matplotlib\\backends\\backend_agg.py:201: RuntimeWarning: Glyph 51452 missing from current font.\n",
      "  font.set_text(s, 0, flags=flags)\n",
      "C:\\Users\\user\\anaconda3\\lib\\site-packages\\matplotlib\\backends\\backend_agg.py:201: RuntimeWarning: Glyph 44536 missing from current font.\n",
      "  font.set_text(s, 0, flags=flags)\n",
      "C:\\Users\\user\\anaconda3\\lib\\site-packages\\matplotlib\\backends\\backend_agg.py:201: RuntimeWarning: Glyph 50808 missing from current font.\n",
      "  font.set_text(s, 0, flags=flags)\n"
     ]
    },
    {
     "data": {
      "application/vnd.jupyter.widget-view+json": {
       "model_id": "b177656d18c342379d17b0ffcebc4902",
       "version_major": 2,
       "version_minor": 0
      },
      "text/plain": [
       "Render HTML:   0%|          | 0/1 [00:00<?, ?it/s]"
      ]
     },
     "metadata": {},
     "output_type": "display_data"
    },
    {
     "data": {
      "application/vnd.jupyter.widget-view+json": {
       "model_id": "0f091e5397f94796a7f61b0bd7a1c18a",
       "version_major": 2,
       "version_minor": 0
      },
      "text/plain": [
       "Export report to file:   0%|          | 0/1 [00:00<?, ?it/s]"
      ]
     },
     "metadata": {},
     "output_type": "display_data"
    }
   ],
   "source": [
    "# EDA Report 생성\n",
    "profile = ProfileReport(\n",
    "            longfrgn,\n",
    "            minimal=False,\n",
    "            explorative=True,\n",
    "            title='Long term Foreign Profiling',\n",
    "            plot={'histogram': {'bins': 8}},\n",
    "            pool_size=4,\n",
    "            progress_bar=True)\n",
    "\n",
    "# Report 결과 경로에 저장\n",
    "profile.to_file(output_file=\"longfrgn_profiling.html\")"
   ]
  },
  {
   "cell_type": "code",
   "execution_count": 11,
   "id": "60156df4",
   "metadata": {},
   "outputs": [
    {
     "data": {
      "application/vnd.jupyter.widget-view+json": {
       "model_id": "bc143595a99147c5b2435883957ddb36",
       "version_major": 2,
       "version_minor": 0
      },
      "text/plain": [
       "Summarize dataset:   0%|          | 0/20 [00:00<?, ?it/s]"
      ]
     },
     "metadata": {},
     "output_type": "display_data"
    },
    {
     "name": "stderr",
     "output_type": "stream",
     "text": [
      "C:\\Users\\user\\anaconda3\\lib\\site-packages\\scipy\\stats\\stats.py:4594: RuntimeWarning: overflow encountered in longlong_scalars\n",
      "  (2 * xtie * ytie) / m + x0 * y0 / (9 * m * (size - 2)))\n"
     ]
    },
    {
     "data": {
      "application/vnd.jupyter.widget-view+json": {
       "model_id": "4aa41da5106949349f8365373c13dce6",
       "version_major": 2,
       "version_minor": 0
      },
      "text/plain": [
       "Generate report structure:   0%|          | 0/1 [00:00<?, ?it/s]"
      ]
     },
     "metadata": {},
     "output_type": "display_data"
    },
    {
     "name": "stderr",
     "output_type": "stream",
     "text": [
      "C:\\Users\\user\\anaconda3\\lib\\site-packages\\matplotlib\\textpath.py:74: RuntimeWarning: Glyph 51228 missing from current font.\n",
      "  font.set_text(s, 0.0, flags=LOAD_NO_HINTING)\n",
      "C:\\Users\\user\\anaconda3\\lib\\site-packages\\matplotlib\\textpath.py:74: RuntimeWarning: Glyph 51452 missing from current font.\n",
      "  font.set_text(s, 0.0, flags=LOAD_NO_HINTING)\n",
      "C:\\Users\\user\\anaconda3\\lib\\site-packages\\matplotlib\\textpath.py:74: RuntimeWarning: Glyph 49884 missing from current font.\n",
      "  font.set_text(s, 0.0, flags=LOAD_NO_HINTING)\n",
      "C:\\Users\\user\\anaconda3\\lib\\site-packages\\matplotlib\\textpath.py:74: RuntimeWarning: Glyph 49436 missing from current font.\n",
      "  font.set_text(s, 0.0, flags=LOAD_NO_HINTING)\n",
      "C:\\Users\\user\\anaconda3\\lib\\site-packages\\matplotlib\\textpath.py:74: RuntimeWarning: Glyph 44480 missing from current font.\n",
      "  font.set_text(s, 0.0, flags=LOAD_NO_HINTING)\n",
      "C:\\Users\\user\\anaconda3\\lib\\site-packages\\matplotlib\\textpath.py:74: RuntimeWarning: Glyph 54252 missing from current font.\n",
      "  font.set_text(s, 0.0, flags=LOAD_NO_HINTING)\n",
      "C:\\Users\\user\\anaconda3\\lib\\site-packages\\matplotlib\\backends\\backend_agg.py:238: RuntimeWarning: Glyph 51228 missing from current font.\n",
      "  font.set_text(s, 0.0, flags=flags)\n",
      "C:\\Users\\user\\anaconda3\\lib\\site-packages\\matplotlib\\backends\\backend_agg.py:238: RuntimeWarning: Glyph 51452 missing from current font.\n",
      "  font.set_text(s, 0.0, flags=flags)\n",
      "C:\\Users\\user\\anaconda3\\lib\\site-packages\\matplotlib\\backends\\backend_agg.py:238: RuntimeWarning: Glyph 49884 missing from current font.\n",
      "  font.set_text(s, 0.0, flags=flags)\n",
      "C:\\Users\\user\\anaconda3\\lib\\site-packages\\matplotlib\\backends\\backend_agg.py:238: RuntimeWarning: Glyph 49436 missing from current font.\n",
      "  font.set_text(s, 0.0, flags=flags)\n",
      "C:\\Users\\user\\anaconda3\\lib\\site-packages\\matplotlib\\backends\\backend_agg.py:238: RuntimeWarning: Glyph 44480 missing from current font.\n",
      "  font.set_text(s, 0.0, flags=flags)\n",
      "C:\\Users\\user\\anaconda3\\lib\\site-packages\\matplotlib\\backends\\backend_agg.py:238: RuntimeWarning: Glyph 54252 missing from current font.\n",
      "  font.set_text(s, 0.0, flags=flags)\n",
      "C:\\Users\\user\\anaconda3\\lib\\site-packages\\matplotlib\\backends\\backend_agg.py:201: RuntimeWarning: Glyph 51228 missing from current font.\n",
      "  font.set_text(s, 0, flags=flags)\n",
      "C:\\Users\\user\\anaconda3\\lib\\site-packages\\matplotlib\\backends\\backend_agg.py:201: RuntimeWarning: Glyph 51452 missing from current font.\n",
      "  font.set_text(s, 0, flags=flags)\n",
      "C:\\Users\\user\\anaconda3\\lib\\site-packages\\matplotlib\\backends\\backend_agg.py:201: RuntimeWarning: Glyph 49884 missing from current font.\n",
      "  font.set_text(s, 0, flags=flags)\n",
      "C:\\Users\\user\\anaconda3\\lib\\site-packages\\matplotlib\\backends\\backend_agg.py:201: RuntimeWarning: Glyph 49436 missing from current font.\n",
      "  font.set_text(s, 0, flags=flags)\n",
      "C:\\Users\\user\\anaconda3\\lib\\site-packages\\matplotlib\\backends\\backend_agg.py:201: RuntimeWarning: Glyph 44480 missing from current font.\n",
      "  font.set_text(s, 0, flags=flags)\n",
      "C:\\Users\\user\\anaconda3\\lib\\site-packages\\matplotlib\\backends\\backend_agg.py:201: RuntimeWarning: Glyph 54252 missing from current font.\n",
      "  font.set_text(s, 0, flags=flags)\n"
     ]
    },
    {
     "data": {
      "application/vnd.jupyter.widget-view+json": {
       "model_id": "85d758473b054765b73fc5b52b3c7dbd",
       "version_major": 2,
       "version_minor": 0
      },
      "text/plain": [
       "Render HTML:   0%|          | 0/1 [00:00<?, ?it/s]"
      ]
     },
     "metadata": {},
     "output_type": "display_data"
    },
    {
     "data": {
      "application/vnd.jupyter.widget-view+json": {
       "model_id": "96c9b7cb35dd407483cea3e317e22c86",
       "version_major": 2,
       "version_minor": 0
      },
      "text/plain": [
       "Export report to file:   0%|          | 0/1 [00:00<?, ?it/s]"
      ]
     },
     "metadata": {},
     "output_type": "display_data"
    }
   ],
   "source": [
    "# EDA Report 생성\n",
    "profile = ProfileReport(\n",
    "            shortfrgn,\n",
    "            minimal=False,\n",
    "            explorative=True,\n",
    "            title='Short term Foreign Profiling',\n",
    "            plot={'histogram': {'bins': 8}},\n",
    "            pool_size=4,\n",
    "            progress_bar=True)\n",
    "\n",
    "# Report 결과 경로에 저장\n",
    "profile.to_file(output_file=\"shortfrgn_profiling.html\")"
   ]
  },
  {
   "cell_type": "code",
   "execution_count": 10,
   "id": "129be55d",
   "metadata": {},
   "outputs": [
    {
     "data": {
      "application/vnd.jupyter.widget-view+json": {
       "model_id": "d3c3eaa2b59d48b89f5d090327aa0c69",
       "version_major": 2,
       "version_minor": 0
      },
      "text/plain": [
       "Summarize dataset:   0%|          | 0/22 [00:00<?, ?it/s]"
      ]
     },
     "metadata": {},
     "output_type": "display_data"
    },
    {
     "data": {
      "application/vnd.jupyter.widget-view+json": {
       "model_id": "be44ff1ff3384532bce092ab53db328c",
       "version_major": 2,
       "version_minor": 0
      },
      "text/plain": [
       "Generate report structure:   0%|          | 0/1 [00:00<?, ?it/s]"
      ]
     },
     "metadata": {},
     "output_type": "display_data"
    },
    {
     "name": "stderr",
     "output_type": "stream",
     "text": [
      "C:\\Users\\user\\anaconda3\\lib\\site-packages\\matplotlib\\textpath.py:74: RuntimeWarning: Glyph 51228 missing from current font.\n",
      "  font.set_text(s, 0.0, flags=LOAD_NO_HINTING)\n",
      "C:\\Users\\user\\anaconda3\\lib\\site-packages\\matplotlib\\textpath.py:74: RuntimeWarning: Glyph 51452 missing from current font.\n",
      "  font.set_text(s, 0.0, flags=LOAD_NO_HINTING)\n",
      "C:\\Users\\user\\anaconda3\\lib\\site-packages\\matplotlib\\textpath.py:74: RuntimeWarning: Glyph 49884 missing from current font.\n",
      "  font.set_text(s, 0.0, flags=LOAD_NO_HINTING)\n",
      "C:\\Users\\user\\anaconda3\\lib\\site-packages\\matplotlib\\textpath.py:74: RuntimeWarning: Glyph 49436 missing from current font.\n",
      "  font.set_text(s, 0.0, flags=LOAD_NO_HINTING)\n",
      "C:\\Users\\user\\anaconda3\\lib\\site-packages\\matplotlib\\textpath.py:74: RuntimeWarning: Glyph 44480 missing from current font.\n",
      "  font.set_text(s, 0.0, flags=LOAD_NO_HINTING)\n",
      "C:\\Users\\user\\anaconda3\\lib\\site-packages\\matplotlib\\textpath.py:74: RuntimeWarning: Glyph 54252 missing from current font.\n",
      "  font.set_text(s, 0.0, flags=LOAD_NO_HINTING)\n",
      "C:\\Users\\user\\anaconda3\\lib\\site-packages\\matplotlib\\backends\\backend_agg.py:238: RuntimeWarning: Glyph 51228 missing from current font.\n",
      "  font.set_text(s, 0.0, flags=flags)\n",
      "C:\\Users\\user\\anaconda3\\lib\\site-packages\\matplotlib\\backends\\backend_agg.py:238: RuntimeWarning: Glyph 51452 missing from current font.\n",
      "  font.set_text(s, 0.0, flags=flags)\n",
      "C:\\Users\\user\\anaconda3\\lib\\site-packages\\matplotlib\\backends\\backend_agg.py:238: RuntimeWarning: Glyph 49884 missing from current font.\n",
      "  font.set_text(s, 0.0, flags=flags)\n",
      "C:\\Users\\user\\anaconda3\\lib\\site-packages\\matplotlib\\backends\\backend_agg.py:238: RuntimeWarning: Glyph 49436 missing from current font.\n",
      "  font.set_text(s, 0.0, flags=flags)\n",
      "C:\\Users\\user\\anaconda3\\lib\\site-packages\\matplotlib\\backends\\backend_agg.py:238: RuntimeWarning: Glyph 44480 missing from current font.\n",
      "  font.set_text(s, 0.0, flags=flags)\n",
      "C:\\Users\\user\\anaconda3\\lib\\site-packages\\matplotlib\\backends\\backend_agg.py:238: RuntimeWarning: Glyph 54252 missing from current font.\n",
      "  font.set_text(s, 0.0, flags=flags)\n",
      "C:\\Users\\user\\anaconda3\\lib\\site-packages\\matplotlib\\backends\\backend_agg.py:201: RuntimeWarning: Glyph 51228 missing from current font.\n",
      "  font.set_text(s, 0, flags=flags)\n",
      "C:\\Users\\user\\anaconda3\\lib\\site-packages\\matplotlib\\backends\\backend_agg.py:201: RuntimeWarning: Glyph 51452 missing from current font.\n",
      "  font.set_text(s, 0, flags=flags)\n",
      "C:\\Users\\user\\anaconda3\\lib\\site-packages\\matplotlib\\backends\\backend_agg.py:201: RuntimeWarning: Glyph 49884 missing from current font.\n",
      "  font.set_text(s, 0, flags=flags)\n",
      "C:\\Users\\user\\anaconda3\\lib\\site-packages\\matplotlib\\backends\\backend_agg.py:201: RuntimeWarning: Glyph 49436 missing from current font.\n",
      "  font.set_text(s, 0, flags=flags)\n",
      "C:\\Users\\user\\anaconda3\\lib\\site-packages\\matplotlib\\backends\\backend_agg.py:201: RuntimeWarning: Glyph 44480 missing from current font.\n",
      "  font.set_text(s, 0, flags=flags)\n",
      "C:\\Users\\user\\anaconda3\\lib\\site-packages\\matplotlib\\backends\\backend_agg.py:201: RuntimeWarning: Glyph 54252 missing from current font.\n",
      "  font.set_text(s, 0, flags=flags)\n",
      "C:\\Users\\user\\anaconda3\\lib\\site-packages\\matplotlib\\textpath.py:74: RuntimeWarning: Glyph 50668 missing from current font.\n",
      "  font.set_text(s, 0.0, flags=LOAD_NO_HINTING)\n",
      "C:\\Users\\user\\anaconda3\\lib\\site-packages\\matplotlib\\textpath.py:74: RuntimeWarning: Glyph 49457 missing from current font.\n",
      "  font.set_text(s, 0.0, flags=LOAD_NO_HINTING)\n",
      "C:\\Users\\user\\anaconda3\\lib\\site-packages\\matplotlib\\textpath.py:74: RuntimeWarning: Glyph 45224 missing from current font.\n",
      "  font.set_text(s, 0.0, flags=LOAD_NO_HINTING)\n",
      "C:\\Users\\user\\anaconda3\\lib\\site-packages\\matplotlib\\backends\\backend_agg.py:238: RuntimeWarning: Glyph 50668 missing from current font.\n",
      "  font.set_text(s, 0.0, flags=flags)\n",
      "C:\\Users\\user\\anaconda3\\lib\\site-packages\\matplotlib\\backends\\backend_agg.py:238: RuntimeWarning: Glyph 49457 missing from current font.\n",
      "  font.set_text(s, 0.0, flags=flags)\n",
      "C:\\Users\\user\\anaconda3\\lib\\site-packages\\matplotlib\\backends\\backend_agg.py:238: RuntimeWarning: Glyph 45224 missing from current font.\n",
      "  font.set_text(s, 0.0, flags=flags)\n",
      "C:\\Users\\user\\anaconda3\\lib\\site-packages\\matplotlib\\backends\\backend_agg.py:201: RuntimeWarning: Glyph 50668 missing from current font.\n",
      "  font.set_text(s, 0, flags=flags)\n",
      "C:\\Users\\user\\anaconda3\\lib\\site-packages\\matplotlib\\backends\\backend_agg.py:201: RuntimeWarning: Glyph 49457 missing from current font.\n",
      "  font.set_text(s, 0, flags=flags)\n",
      "C:\\Users\\user\\anaconda3\\lib\\site-packages\\matplotlib\\backends\\backend_agg.py:201: RuntimeWarning: Glyph 45224 missing from current font.\n",
      "  font.set_text(s, 0, flags=flags)\n"
     ]
    },
    {
     "data": {
      "application/vnd.jupyter.widget-view+json": {
       "model_id": "b62589962b954cc8b8af82d473d29834",
       "version_major": 2,
       "version_minor": 0
      },
      "text/plain": [
       "Render HTML:   0%|          | 0/1 [00:00<?, ?it/s]"
      ]
     },
     "metadata": {},
     "output_type": "display_data"
    },
    {
     "data": {
      "application/vnd.jupyter.widget-view+json": {
       "model_id": "018b0faa777f44fcb9dfaf33f3c0e7c8",
       "version_major": 2,
       "version_minor": 0
      },
      "text/plain": [
       "Export report to file:   0%|          | 0/1 [00:00<?, ?it/s]"
      ]
     },
     "metadata": {},
     "output_type": "display_data"
    }
   ],
   "source": [
    "# EDA Report 생성\n",
    "profile = ProfileReport(\n",
    "            residpop,\n",
    "            minimal=False,\n",
    "            explorative=True,\n",
    "            title='Resident Population Profiling',\n",
    "            plot={'histogram': {'bins': 8}},\n",
    "            pool_size=4,\n",
    "            progress_bar=True)\n",
    "\n",
    "# Report 결과 경로에 저장\n",
    "profile.to_file(output_file=\"residpop_profiling.html\")"
   ]
  },
  {
   "cell_type": "code",
   "execution_count": 9,
   "id": "ba243149",
   "metadata": {},
   "outputs": [
    {
     "data": {
      "application/vnd.jupyter.widget-view+json": {
       "model_id": "459b8ee436054c2291280e73ef017efd",
       "version_major": 2,
       "version_minor": 0
      },
      "text/plain": [
       "Summarize dataset:   0%|          | 0/21 [00:00<?, ?it/s]"
      ]
     },
     "metadata": {},
     "output_type": "display_data"
    },
    {
     "data": {
      "application/vnd.jupyter.widget-view+json": {
       "model_id": "927a8f5d6526447bbd0b901ea5eeb8b9",
       "version_major": 2,
       "version_minor": 0
      },
      "text/plain": [
       "Generate report structure:   0%|          | 0/1 [00:00<?, ?it/s]"
      ]
     },
     "metadata": {},
     "output_type": "display_data"
    },
    {
     "name": "stderr",
     "output_type": "stream",
     "text": [
      "C:\\Users\\user\\anaconda3\\lib\\site-packages\\matplotlib\\textpath.py:74: RuntimeWarning: Glyph 51228 missing from current font.\n",
      "  font.set_text(s, 0.0, flags=LOAD_NO_HINTING)\n",
      "C:\\Users\\user\\anaconda3\\lib\\site-packages\\matplotlib\\textpath.py:74: RuntimeWarning: Glyph 51452 missing from current font.\n",
      "  font.set_text(s, 0.0, flags=LOAD_NO_HINTING)\n",
      "C:\\Users\\user\\anaconda3\\lib\\site-packages\\matplotlib\\textpath.py:74: RuntimeWarning: Glyph 49884 missing from current font.\n",
      "  font.set_text(s, 0.0, flags=LOAD_NO_HINTING)\n",
      "C:\\Users\\user\\anaconda3\\lib\\site-packages\\matplotlib\\textpath.py:74: RuntimeWarning: Glyph 49436 missing from current font.\n",
      "  font.set_text(s, 0.0, flags=LOAD_NO_HINTING)\n",
      "C:\\Users\\user\\anaconda3\\lib\\site-packages\\matplotlib\\textpath.py:74: RuntimeWarning: Glyph 44480 missing from current font.\n",
      "  font.set_text(s, 0.0, flags=LOAD_NO_HINTING)\n",
      "C:\\Users\\user\\anaconda3\\lib\\site-packages\\matplotlib\\textpath.py:74: RuntimeWarning: Glyph 54252 missing from current font.\n",
      "  font.set_text(s, 0.0, flags=LOAD_NO_HINTING)\n",
      "C:\\Users\\user\\anaconda3\\lib\\site-packages\\matplotlib\\backends\\backend_agg.py:238: RuntimeWarning: Glyph 51228 missing from current font.\n",
      "  font.set_text(s, 0.0, flags=flags)\n",
      "C:\\Users\\user\\anaconda3\\lib\\site-packages\\matplotlib\\backends\\backend_agg.py:238: RuntimeWarning: Glyph 51452 missing from current font.\n",
      "  font.set_text(s, 0.0, flags=flags)\n",
      "C:\\Users\\user\\anaconda3\\lib\\site-packages\\matplotlib\\backends\\backend_agg.py:238: RuntimeWarning: Glyph 49884 missing from current font.\n",
      "  font.set_text(s, 0.0, flags=flags)\n",
      "C:\\Users\\user\\anaconda3\\lib\\site-packages\\matplotlib\\backends\\backend_agg.py:238: RuntimeWarning: Glyph 49436 missing from current font.\n",
      "  font.set_text(s, 0.0, flags=flags)\n",
      "C:\\Users\\user\\anaconda3\\lib\\site-packages\\matplotlib\\backends\\backend_agg.py:238: RuntimeWarning: Glyph 44480 missing from current font.\n",
      "  font.set_text(s, 0.0, flags=flags)\n",
      "C:\\Users\\user\\anaconda3\\lib\\site-packages\\matplotlib\\backends\\backend_agg.py:238: RuntimeWarning: Glyph 54252 missing from current font.\n",
      "  font.set_text(s, 0.0, flags=flags)\n",
      "C:\\Users\\user\\anaconda3\\lib\\site-packages\\matplotlib\\backends\\backend_agg.py:201: RuntimeWarning: Glyph 51228 missing from current font.\n",
      "  font.set_text(s, 0, flags=flags)\n",
      "C:\\Users\\user\\anaconda3\\lib\\site-packages\\matplotlib\\backends\\backend_agg.py:201: RuntimeWarning: Glyph 51452 missing from current font.\n",
      "  font.set_text(s, 0, flags=flags)\n",
      "C:\\Users\\user\\anaconda3\\lib\\site-packages\\matplotlib\\backends\\backend_agg.py:201: RuntimeWarning: Glyph 49884 missing from current font.\n",
      "  font.set_text(s, 0, flags=flags)\n",
      "C:\\Users\\user\\anaconda3\\lib\\site-packages\\matplotlib\\backends\\backend_agg.py:201: RuntimeWarning: Glyph 49436 missing from current font.\n",
      "  font.set_text(s, 0, flags=flags)\n",
      "C:\\Users\\user\\anaconda3\\lib\\site-packages\\matplotlib\\backends\\backend_agg.py:201: RuntimeWarning: Glyph 44480 missing from current font.\n",
      "  font.set_text(s, 0, flags=flags)\n",
      "C:\\Users\\user\\anaconda3\\lib\\site-packages\\matplotlib\\backends\\backend_agg.py:201: RuntimeWarning: Glyph 54252 missing from current font.\n",
      "  font.set_text(s, 0, flags=flags)\n"
     ]
    },
    {
     "data": {
      "application/vnd.jupyter.widget-view+json": {
       "model_id": "ca51ca652bd64cc3883dcb2024915b8a",
       "version_major": 2,
       "version_minor": 0
      },
      "text/plain": [
       "Render HTML:   0%|          | 0/1 [00:00<?, ?it/s]"
      ]
     },
     "metadata": {},
     "output_type": "display_data"
    },
    {
     "data": {
      "application/vnd.jupyter.widget-view+json": {
       "model_id": "f65a5b764e794ae58d61acaebe06e8f2",
       "version_major": 2,
       "version_minor": 0
      },
      "text/plain": [
       "Export report to file:   0%|          | 0/1 [00:00<?, ?it/s]"
      ]
     },
     "metadata": {},
     "output_type": "display_data"
    }
   ],
   "source": [
    "# EDA Report 생성\n",
    "profile = ProfileReport(\n",
    "            card,\n",
    "            minimal=False,\n",
    "            explorative=True,\n",
    "            title='Card Spending Profiling',\n",
    "            plot={'histogram': {'bins': 8}},\n",
    "            pool_size=4,\n",
    "            progress_bar=True)\n",
    "\n",
    "# Report 결과 경로에 저장\n",
    "profile.to_file(output_file=\"card_profiling.html\")"
   ]
  },
  {
   "cell_type": "code",
   "execution_count": null,
   "id": "02084607",
   "metadata": {},
   "outputs": [],
   "source": []
  }
 ],
 "metadata": {
  "kernelspec": {
   "display_name": "Python 3",
   "language": "python",
   "name": "python3"
  },
  "language_info": {
   "codemirror_mode": {
    "name": "ipython",
    "version": 3
   },
   "file_extension": ".py",
   "mimetype": "text/x-python",
   "name": "python",
   "nbconvert_exporter": "python",
   "pygments_lexer": "ipython3",
   "version": "3.8.8"
  }
 },
 "nbformat": 4,
 "nbformat_minor": 5
}
