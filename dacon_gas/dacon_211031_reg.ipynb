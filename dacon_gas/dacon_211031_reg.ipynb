{
  "nbformat": 4,
  "nbformat_minor": 0,
  "metadata": {
    "colab": {
      "name": "dacon_211031_reg.ipynb",
      "provenance": []
    },
    "kernelspec": {
      "name": "python3",
      "display_name": "Python 3"
    },
    "language_info": {
      "name": "python"
    }
  },
  "cells": [
    {
      "cell_type": "code",
      "metadata": {
        "colab": {
          "base_uri": "https://localhost:8080/"
        },
        "id": "iR00b-0pGLyh",
        "outputId": "770b3075-e2cd-4ff9-e55e-2348dcd0a316"
      },
      "source": [
        "from google.colab import drive\n",
        "drive.mount('/content/drive')"
      ],
      "execution_count": 1,
      "outputs": [
        {
          "output_type": "stream",
          "name": "stdout",
          "text": [
            "Mounted at /content/drive\n"
          ]
        }
      ]
    },
    {
      "cell_type": "code",
      "metadata": {
        "id": "xS2nrPVMGQ3i"
      },
      "source": [
        "import pandas as pd\n",
        "import numpy as np\n",
        "import matplotlib.pyplot as plt\n",
        "import seaborn as sns\n",
        "\n",
        "import matplotlib as mpl\n",
        "mpl.rc('font', family='NanumGothic')\n",
        "mpl.rc('axes', unicode_minus=False)\n",
        "\n",
        "import warnings\n",
        "warnings.filterwarnings(\"ignore\")"
      ],
      "execution_count": 2,
      "outputs": []
    },
    {
      "cell_type": "code",
      "metadata": {
        "id": "C8TLwgEeGQ65"
      },
      "source": [
        "PATH = '/content/drive/MyDrive/DACON/'\n",
        "total = pd.read_csv(PATH+'한국가스공사_시간별 공급량_20181231.csv', encoding='cp949')\n",
        "test = pd.read_csv(PATH+'test.csv')\n",
        "sub = pd.read_csv(PATH+'sample_submission.csv')"
      ],
      "execution_count": 3,
      "outputs": []
    },
    {
      "cell_type": "markdown",
      "metadata": {
        "id": "Aqj7EmR3Hy_g"
      },
      "source": [
        "# 전처리"
      ]
    },
    {
      "cell_type": "code",
      "metadata": {
        "id": "MKRPyEi7GQ9r"
      },
      "source": [
        "# 연월일 -> 시계열(연/월/일/요일) 변수 생성\n",
        "total['연월일'] = pd.to_datetime(total['연월일'])\n",
        "total['year'] = total['연월일'].dt.year\n",
        "total['month'] = total['연월일'].dt.month\n",
        "total['day'] = total['연월일'].dt.day\n",
        "total['weekday'] = total['연월일'].dt.weekday"
      ],
      "execution_count": 4,
      "outputs": []
    },
    {
      "cell_type": "code",
      "metadata": {
        "id": "14OLyfwRGRB9"
      },
      "source": [
        "def season(x):\n",
        "  if x in [3, 4, 5]:\n",
        "    return 0        # 0: 봄\n",
        "  elif x in [6, 7, 8]:\n",
        "    return 1        # 1: 여름\n",
        "  elif x in [9, 10, 11]:\n",
        "    return 2        # 2: 가을\n",
        "  else:\n",
        "    return 3        # 3: 겨울  "
      ],
      "execution_count": 5,
      "outputs": []
    },
    {
      "cell_type": "code",
      "metadata": {
        "id": "Bgx1-7f8GRFt"
      },
      "source": [
        "total['season'] = total['month'].apply(season)\n",
        "total['workday'] = total['weekday'].apply(lambda x: 1 if x in [0,1,2,3,4] else 0)"
      ],
      "execution_count": 6,
      "outputs": []
    },
    {
      "cell_type": "code",
      "metadata": {
        "id": "jTvhk9pGGRLc"
      },
      "source": [
        "d_map = {}\n",
        "\n",
        "for i, d in enumerate(total['구분'].unique()):\n",
        "    d_map[d] = i\n",
        "total['구분'] = total['구분'].map(d_map)"
      ],
      "execution_count": 7,
      "outputs": []
    },
    {
      "cell_type": "code",
      "metadata": {
        "id": "PzJWWwTxIAHx"
      },
      "source": [
        "train_years = [2013,2014,2015,2016,2017]\n",
        "val_years = [2018]\n",
        "\n",
        "train = total[total['year'].isin(train_years)]\n",
        "val = total[total['year'].isin(val_years)]"
      ],
      "execution_count": 8,
      "outputs": []
    },
    {
      "cell_type": "code",
      "metadata": {
        "id": "5hI5e4MpGRTr"
      },
      "source": [
        "features = ['시간', '구분', 'year', 'month', 'day', 'weekday', 'season', 'workday']\n",
        "\n",
        "train_x = train[features]\n",
        "train_y = train['공급량']\n",
        "\n",
        "val_x = val[features]\n",
        "val_y = val['공급량']"
      ],
      "execution_count": 9,
      "outputs": []
    },
    {
      "cell_type": "markdown",
      "metadata": {
        "id": "McZyUp5jH3Kj"
      },
      "source": [
        "# 회귀분석"
      ]
    },
    {
      "cell_type": "code",
      "metadata": {
        "id": "I67gGgtkKkdZ"
      },
      "source": [
        "from statsmodels.formula.api import ols"
      ],
      "execution_count": 11,
      "outputs": []
    },
    {
      "cell_type": "code",
      "metadata": {
        "colab": {
          "base_uri": "https://localhost:8080/",
          "height": 528
        },
        "id": "8a3RTWfWKkgB",
        "outputId": "d3eb0604-cdc0-46f1-c204-0bc8887f66d6"
      },
      "source": [
        "model = ols('공급량 ~ 시간+구분+month+day+weekday', data=train).fit()\n",
        "model.summary()"
      ],
      "execution_count": 18,
      "outputs": [
        {
          "output_type": "execute_result",
          "data": {
            "text/html": [
              "<table class=\"simpletable\">\n",
              "<caption>OLS Regression Results</caption>\n",
              "<tr>\n",
              "  <th>Dep. Variable:</th>           <td>공급량</td>       <th>  R-squared:         </th>  <td>   0.038</td>  \n",
              "</tr>\n",
              "<tr>\n",
              "  <th>Model:</th>                   <td>OLS</td>       <th>  Adj. R-squared:    </th>  <td>   0.038</td>  \n",
              "</tr>\n",
              "<tr>\n",
              "  <th>Method:</th>             <td>Least Squares</td>  <th>  F-statistic:       </th>  <td>   2397.</td>  \n",
              "</tr>\n",
              "<tr>\n",
              "  <th>Date:</th>             <td>Sun, 31 Oct 2021</td> <th>  Prob (F-statistic):</th>   <td>  0.00</td>   \n",
              "</tr>\n",
              "<tr>\n",
              "  <th>Time:</th>                 <td>11:56:22</td>     <th>  Log-Likelihood:    </th> <td>-2.5193e+06</td>\n",
              "</tr>\n",
              "<tr>\n",
              "  <th>No. Observations:</th>      <td>306768</td>      <th>  AIC:               </th>  <td>5.039e+06</td> \n",
              "</tr>\n",
              "<tr>\n",
              "  <th>Df Residuals:</th>          <td>306762</td>      <th>  BIC:               </th>  <td>5.039e+06</td> \n",
              "</tr>\n",
              "<tr>\n",
              "  <th>Df Model:</th>              <td>     5</td>      <th>                     </th>      <td> </td>     \n",
              "</tr>\n",
              "<tr>\n",
              "  <th>Covariance Type:</th>      <td>nonrobust</td>    <th>                     </th>      <td> </td>     \n",
              "</tr>\n",
              "</table>\n",
              "<table class=\"simpletable\">\n",
              "<tr>\n",
              "      <td></td>         <th>coef</th>     <th>std err</th>      <th>t</th>      <th>P>|t|</th>  <th>[0.025</th>    <th>0.975]</th>  \n",
              "</tr>\n",
              "<tr>\n",
              "  <th>Intercept</th> <td> 1017.4936</td> <td>    6.335</td> <td>  160.627</td> <td> 0.000</td> <td> 1005.078</td> <td> 1029.909</td>\n",
              "</tr>\n",
              "<tr>\n",
              "  <th>시간</th>        <td>   13.2365</td> <td>    0.233</td> <td>   56.892</td> <td> 0.000</td> <td>   12.781</td> <td>   13.693</td>\n",
              "</tr>\n",
              "<tr>\n",
              "  <th>구분</th>        <td>   23.8199</td> <td>    0.805</td> <td>   29.580</td> <td> 0.000</td> <td>   22.242</td> <td>   25.398</td>\n",
              "</tr>\n",
              "<tr>\n",
              "  <th>month</th>     <td>  -39.9815</td> <td>    0.467</td> <td>  -85.606</td> <td> 0.000</td> <td>  -40.897</td> <td>  -39.066</td>\n",
              "</tr>\n",
              "<tr>\n",
              "  <th>day</th>       <td>   -0.1376</td> <td>    0.183</td> <td>   -0.752</td> <td> 0.452</td> <td>   -0.496</td> <td>    0.221</td>\n",
              "</tr>\n",
              "<tr>\n",
              "  <th>weekday</th>   <td>  -18.8432</td> <td>    0.806</td> <td>  -23.392</td> <td> 0.000</td> <td>  -20.422</td> <td>  -17.264</td>\n",
              "</tr>\n",
              "</table>\n",
              "<table class=\"simpletable\">\n",
              "<tr>\n",
              "  <th>Omnibus:</th>       <td>70230.741</td> <th>  Durbin-Watson:     </th>  <td>   0.024</td> \n",
              "</tr>\n",
              "<tr>\n",
              "  <th>Prob(Omnibus):</th>  <td> 0.000</td>   <th>  Jarque-Bera (JB):  </th> <td>141520.308</td>\n",
              "</tr>\n",
              "<tr>\n",
              "  <th>Skew:</th>           <td> 1.379</td>   <th>  Prob(JB):          </th>  <td>    0.00</td> \n",
              "</tr>\n",
              "<tr>\n",
              "  <th>Kurtosis:</th>       <td> 4.863</td>   <th>  Cond. No.          </th>  <td>    90.4</td> \n",
              "</tr>\n",
              "</table><br/><br/>Warnings:<br/>[1] Standard Errors assume that the covariance matrix of the errors is correctly specified."
            ],
            "text/plain": [
              "<class 'statsmodels.iolib.summary.Summary'>\n",
              "\"\"\"\n",
              "                            OLS Regression Results                            \n",
              "==============================================================================\n",
              "Dep. Variable:                    공급량   R-squared:                       0.038\n",
              "Model:                            OLS   Adj. R-squared:                  0.038\n",
              "Method:                 Least Squares   F-statistic:                     2397.\n",
              "Date:                Sun, 31 Oct 2021   Prob (F-statistic):               0.00\n",
              "Time:                        11:56:22   Log-Likelihood:            -2.5193e+06\n",
              "No. Observations:              306768   AIC:                         5.039e+06\n",
              "Df Residuals:                  306762   BIC:                         5.039e+06\n",
              "Df Model:                           5                                         \n",
              "Covariance Type:            nonrobust                                         \n",
              "==============================================================================\n",
              "                 coef    std err          t      P>|t|      [0.025      0.975]\n",
              "------------------------------------------------------------------------------\n",
              "Intercept   1017.4936      6.335    160.627      0.000    1005.078    1029.909\n",
              "시간            13.2365      0.233     56.892      0.000      12.781      13.693\n",
              "구분            23.8199      0.805     29.580      0.000      22.242      25.398\n",
              "month        -39.9815      0.467    -85.606      0.000     -40.897     -39.066\n",
              "day           -0.1376      0.183     -0.752      0.452      -0.496       0.221\n",
              "weekday      -18.8432      0.806    -23.392      0.000     -20.422     -17.264\n",
              "==============================================================================\n",
              "Omnibus:                    70230.741   Durbin-Watson:                   0.024\n",
              "Prob(Omnibus):                  0.000   Jarque-Bera (JB):           141520.308\n",
              "Skew:                           1.379   Prob(JB):                         0.00\n",
              "Kurtosis:                       4.863   Cond. No.                         90.4\n",
              "==============================================================================\n",
              "\n",
              "Warnings:\n",
              "[1] Standard Errors assume that the covariance matrix of the errors is correctly specified.\n",
              "\"\"\""
            ]
          },
          "metadata": {},
          "execution_count": 18
        }
      ]
    },
    {
      "cell_type": "markdown",
      "metadata": {
        "id": "c52r1rGuMHoW"
      },
      "source": [
        "* 일단 직접 만든 변수(season, workday) 제외하고 기본 변수로만 회귀돌림\n",
        "* day 빼고는 다 유의하게 나왔고 모형도 유의함  \n",
        "* 근데 결정계수 0.038???????이라는 처참한 값을 얻음 "
      ]
    },
    {
      "cell_type": "code",
      "metadata": {
        "colab": {
          "base_uri": "https://localhost:8080/",
          "height": 507
        },
        "id": "ZKRLCElnKkjE",
        "outputId": "6b4249c7-7e46-4394-8a35-f0389bdfef79"
      },
      "source": [
        "model = ols('공급량 ~ 시간+구분+month+weekday', data=train).fit()\n",
        "model.summary()"
      ],
      "execution_count": 17,
      "outputs": [
        {
          "output_type": "execute_result",
          "data": {
            "text/html": [
              "<table class=\"simpletable\">\n",
              "<caption>OLS Regression Results</caption>\n",
              "<tr>\n",
              "  <th>Dep. Variable:</th>           <td>공급량</td>       <th>  R-squared:         </th>  <td>   0.038</td>  \n",
              "</tr>\n",
              "<tr>\n",
              "  <th>Model:</th>                   <td>OLS</td>       <th>  Adj. R-squared:    </th>  <td>   0.038</td>  \n",
              "</tr>\n",
              "<tr>\n",
              "  <th>Method:</th>             <td>Least Squares</td>  <th>  F-statistic:       </th>  <td>   2996.</td>  \n",
              "</tr>\n",
              "<tr>\n",
              "  <th>Date:</th>             <td>Sun, 31 Oct 2021</td> <th>  Prob (F-statistic):</th>   <td>  0.00</td>   \n",
              "</tr>\n",
              "<tr>\n",
              "  <th>Time:</th>                 <td>11:56:15</td>     <th>  Log-Likelihood:    </th> <td>-2.5193e+06</td>\n",
              "</tr>\n",
              "<tr>\n",
              "  <th>No. Observations:</th>      <td>306768</td>      <th>  AIC:               </th>  <td>5.039e+06</td> \n",
              "</tr>\n",
              "<tr>\n",
              "  <th>Df Residuals:</th>          <td>306763</td>      <th>  BIC:               </th>  <td>5.039e+06</td> \n",
              "</tr>\n",
              "<tr>\n",
              "  <th>Df Model:</th>              <td>     4</td>      <th>                     </th>      <td> </td>     \n",
              "</tr>\n",
              "<tr>\n",
              "  <th>Covariance Type:</th>      <td>nonrobust</td>    <th>                     </th>      <td> </td>     \n",
              "</tr>\n",
              "</table>\n",
              "<table class=\"simpletable\">\n",
              "<tr>\n",
              "      <td></td>         <th>coef</th>     <th>std err</th>      <th>t</th>      <th>P>|t|</th>  <th>[0.025</th>    <th>0.975]</th>  \n",
              "</tr>\n",
              "<tr>\n",
              "  <th>Intercept</th> <td> 1015.3560</td> <td>    5.660</td> <td>  179.386</td> <td> 0.000</td> <td> 1004.262</td> <td> 1026.450</td>\n",
              "</tr>\n",
              "<tr>\n",
              "  <th>시간</th>        <td>   13.2365</td> <td>    0.233</td> <td>   56.892</td> <td> 0.000</td> <td>   12.781</td> <td>   13.693</td>\n",
              "</tr>\n",
              "<tr>\n",
              "  <th>구분</th>        <td>   23.8199</td> <td>    0.805</td> <td>   29.580</td> <td> 0.000</td> <td>   22.242</td> <td>   25.398</td>\n",
              "</tr>\n",
              "<tr>\n",
              "  <th>month</th>     <td>  -39.9853</td> <td>    0.467</td> <td>  -85.619</td> <td> 0.000</td> <td>  -40.901</td> <td>  -39.070</td>\n",
              "</tr>\n",
              "<tr>\n",
              "  <th>weekday</th>   <td>  -18.8437</td> <td>    0.806</td> <td>  -23.393</td> <td> 0.000</td> <td>  -20.423</td> <td>  -17.265</td>\n",
              "</tr>\n",
              "</table>\n",
              "<table class=\"simpletable\">\n",
              "<tr>\n",
              "  <th>Omnibus:</th>       <td>70225.761</td> <th>  Durbin-Watson:     </th>  <td>   0.024</td> \n",
              "</tr>\n",
              "<tr>\n",
              "  <th>Prob(Omnibus):</th>  <td> 0.000</td>   <th>  Jarque-Bera (JB):  </th> <td>141504.068</td>\n",
              "</tr>\n",
              "<tr>\n",
              "  <th>Skew:</th>           <td> 1.378</td>   <th>  Prob(JB):          </th>  <td>    0.00</td> \n",
              "</tr>\n",
              "<tr>\n",
              "  <th>Kurtosis:</th>       <td> 4.863</td>   <th>  Cond. No.          </th>  <td>    56.5</td> \n",
              "</tr>\n",
              "</table><br/><br/>Warnings:<br/>[1] Standard Errors assume that the covariance matrix of the errors is correctly specified."
            ],
            "text/plain": [
              "<class 'statsmodels.iolib.summary.Summary'>\n",
              "\"\"\"\n",
              "                            OLS Regression Results                            \n",
              "==============================================================================\n",
              "Dep. Variable:                    공급량   R-squared:                       0.038\n",
              "Model:                            OLS   Adj. R-squared:                  0.038\n",
              "Method:                 Least Squares   F-statistic:                     2996.\n",
              "Date:                Sun, 31 Oct 2021   Prob (F-statistic):               0.00\n",
              "Time:                        11:56:15   Log-Likelihood:            -2.5193e+06\n",
              "No. Observations:              306768   AIC:                         5.039e+06\n",
              "Df Residuals:                  306763   BIC:                         5.039e+06\n",
              "Df Model:                           4                                         \n",
              "Covariance Type:            nonrobust                                         \n",
              "==============================================================================\n",
              "                 coef    std err          t      P>|t|      [0.025      0.975]\n",
              "------------------------------------------------------------------------------\n",
              "Intercept   1015.3560      5.660    179.386      0.000    1004.262    1026.450\n",
              "시간            13.2365      0.233     56.892      0.000      12.781      13.693\n",
              "구분            23.8199      0.805     29.580      0.000      22.242      25.398\n",
              "month        -39.9853      0.467    -85.619      0.000     -40.901     -39.070\n",
              "weekday      -18.8437      0.806    -23.393      0.000     -20.423     -17.265\n",
              "==============================================================================\n",
              "Omnibus:                    70225.761   Durbin-Watson:                   0.024\n",
              "Prob(Omnibus):                  0.000   Jarque-Bera (JB):           141504.068\n",
              "Skew:                           1.378   Prob(JB):                         0.00\n",
              "Kurtosis:                       4.863   Cond. No.                         56.5\n",
              "==============================================================================\n",
              "\n",
              "Warnings:\n",
              "[1] Standard Errors assume that the covariance matrix of the errors is correctly specified.\n",
              "\"\"\""
            ]
          },
          "metadata": {},
          "execution_count": 17
        }
      ]
    },
    {
      "cell_type": "markdown",
      "metadata": {
        "id": "uHosd6ZDMugX"
      },
      "source": [
        "* day를 제거해도 모형 설명력이 좋아지진 않음"
      ]
    },
    {
      "cell_type": "code",
      "metadata": {
        "colab": {
          "base_uri": "https://localhost:8080/",
          "height": 465
        },
        "id": "wVXqSRDoMuFS",
        "outputId": "76974f89-11b8-4dcc-aa6b-17f417871adf"
      },
      "source": [
        "model = ols('공급량 ~ 시간+month', data=train).fit()\n",
        "model.summary()"
      ],
      "execution_count": 16,
      "outputs": [
        {
          "output_type": "execute_result",
          "data": {
            "text/html": [
              "<table class=\"simpletable\">\n",
              "<caption>OLS Regression Results</caption>\n",
              "<tr>\n",
              "  <th>Dep. Variable:</th>           <td>공급량</td>       <th>  R-squared:         </th>  <td>   0.033</td>  \n",
              "</tr>\n",
              "<tr>\n",
              "  <th>Model:</th>                   <td>OLS</td>       <th>  Adj. R-squared:    </th>  <td>   0.033</td>  \n",
              "</tr>\n",
              "<tr>\n",
              "  <th>Method:</th>             <td>Least Squares</td>  <th>  F-statistic:       </th>  <td>   5256.</td>  \n",
              "</tr>\n",
              "<tr>\n",
              "  <th>Date:</th>             <td>Sun, 31 Oct 2021</td> <th>  Prob (F-statistic):</th>   <td>  0.00</td>   \n",
              "</tr>\n",
              "<tr>\n",
              "  <th>Time:</th>                 <td>11:55:01</td>     <th>  Log-Likelihood:    </th> <td>-2.5200e+06</td>\n",
              "</tr>\n",
              "<tr>\n",
              "  <th>No. Observations:</th>      <td>306768</td>      <th>  AIC:               </th>  <td>5.040e+06</td> \n",
              "</tr>\n",
              "<tr>\n",
              "  <th>Df Residuals:</th>          <td>306765</td>      <th>  BIC:               </th>  <td>5.040e+06</td> \n",
              "</tr>\n",
              "<tr>\n",
              "  <th>Df Model:</th>              <td>     2</td>      <th>                     </th>      <td> </td>     \n",
              "</tr>\n",
              "<tr>\n",
              "  <th>Covariance Type:</th>      <td>nonrobust</td>    <th>                     </th>      <td> </td>     \n",
              "</tr>\n",
              "</table>\n",
              "<table class=\"simpletable\">\n",
              "<tr>\n",
              "      <td></td>         <th>coef</th>     <th>std err</th>      <th>t</th>      <th>P>|t|</th>  <th>[0.025</th>    <th>0.975]</th>  \n",
              "</tr>\n",
              "<tr>\n",
              "  <th>Intercept</th> <td> 1030.1483</td> <td>    4.520</td> <td>  227.924</td> <td> 0.000</td> <td> 1021.290</td> <td> 1039.007</td>\n",
              "</tr>\n",
              "<tr>\n",
              "  <th>시간</th>        <td>   13.2365</td> <td>    0.233</td> <td>   56.761</td> <td> 0.000</td> <td>   12.779</td> <td>   13.694</td>\n",
              "</tr>\n",
              "<tr>\n",
              "  <th>month</th>     <td>  -39.9692</td> <td>    0.468</td> <td>  -85.387</td> <td> 0.000</td> <td>  -40.887</td> <td>  -39.052</td>\n",
              "</tr>\n",
              "</table>\n",
              "<table class=\"simpletable\">\n",
              "<tr>\n",
              "  <th>Omnibus:</th>       <td>74699.338</td> <th>  Durbin-Watson:     </th>  <td>   0.024</td> \n",
              "</tr>\n",
              "<tr>\n",
              "  <th>Prob(Omnibus):</th>  <td> 0.000</td>   <th>  Jarque-Bera (JB):  </th> <td>158403.705</td>\n",
              "</tr>\n",
              "<tr>\n",
              "  <th>Skew:</th>           <td> 1.434</td>   <th>  Prob(JB):          </th>  <td>    0.00</td> \n",
              "</tr>\n",
              "<tr>\n",
              "  <th>Kurtosis:</th>       <td> 5.042</td>   <th>  Cond. No.          </th>  <td>    43.6</td> \n",
              "</tr>\n",
              "</table><br/><br/>Warnings:<br/>[1] Standard Errors assume that the covariance matrix of the errors is correctly specified."
            ],
            "text/plain": [
              "<class 'statsmodels.iolib.summary.Summary'>\n",
              "\"\"\"\n",
              "                            OLS Regression Results                            \n",
              "==============================================================================\n",
              "Dep. Variable:                    공급량   R-squared:                       0.033\n",
              "Model:                            OLS   Adj. R-squared:                  0.033\n",
              "Method:                 Least Squares   F-statistic:                     5256.\n",
              "Date:                Sun, 31 Oct 2021   Prob (F-statistic):               0.00\n",
              "Time:                        11:55:01   Log-Likelihood:            -2.5200e+06\n",
              "No. Observations:              306768   AIC:                         5.040e+06\n",
              "Df Residuals:                  306765   BIC:                         5.040e+06\n",
              "Df Model:                           2                                         \n",
              "Covariance Type:            nonrobust                                         \n",
              "==============================================================================\n",
              "                 coef    std err          t      P>|t|      [0.025      0.975]\n",
              "------------------------------------------------------------------------------\n",
              "Intercept   1030.1483      4.520    227.924      0.000    1021.290    1039.007\n",
              "시간            13.2365      0.233     56.761      0.000      12.779      13.694\n",
              "month        -39.9692      0.468    -85.387      0.000     -40.887     -39.052\n",
              "==============================================================================\n",
              "Omnibus:                    74699.338   Durbin-Watson:                   0.024\n",
              "Prob(Omnibus):                  0.000   Jarque-Bera (JB):           158403.705\n",
              "Skew:                           1.434   Prob(JB):                         0.00\n",
              "Kurtosis:                       5.042   Cond. No.                         43.6\n",
              "==============================================================================\n",
              "\n",
              "Warnings:\n",
              "[1] Standard Errors assume that the covariance matrix of the errors is correctly specified.\n",
              "\"\"\""
            ]
          },
          "metadata": {},
          "execution_count": 16
        }
      ]
    },
    {
      "cell_type": "markdown",
      "metadata": {
        "id": "D1myAMPeNAgT"
      },
      "source": [
        "* 베이스라인처럼 시간이랑 month만 두고 돌렸는데 더 쓰레기가 됨"
      ]
    },
    {
      "cell_type": "code",
      "metadata": {
        "colab": {
          "base_uri": "https://localhost:8080/",
          "height": 507
        },
        "id": "mBBALH_kMdTB",
        "outputId": "6fc1dbd5-22a1-448e-f87e-8de96e5ab119"
      },
      "source": [
        "model = ols('공급량 ~ 시간+구분+season+workday', data=train).fit()\n",
        "model.summary()"
      ],
      "execution_count": 22,
      "outputs": [
        {
          "output_type": "execute_result",
          "data": {
            "text/html": [
              "<table class=\"simpletable\">\n",
              "<caption>OLS Regression Results</caption>\n",
              "<tr>\n",
              "  <th>Dep. Variable:</th>           <td>공급량</td>       <th>  R-squared:         </th>  <td>   0.135</td>  \n",
              "</tr>\n",
              "<tr>\n",
              "  <th>Model:</th>                   <td>OLS</td>       <th>  Adj. R-squared:    </th>  <td>   0.135</td>  \n",
              "</tr>\n",
              "<tr>\n",
              "  <th>Method:</th>             <td>Least Squares</td>  <th>  F-statistic:       </th>  <td>1.192e+04</td> \n",
              "</tr>\n",
              "<tr>\n",
              "  <th>Date:</th>             <td>Sun, 31 Oct 2021</td> <th>  Prob (F-statistic):</th>   <td>  0.00</td>   \n",
              "</tr>\n",
              "<tr>\n",
              "  <th>Time:</th>                 <td>11:57:27</td>     <th>  Log-Likelihood:    </th> <td>-2.5030e+06</td>\n",
              "</tr>\n",
              "<tr>\n",
              "  <th>No. Observations:</th>      <td>306768</td>      <th>  AIC:               </th>  <td>5.006e+06</td> \n",
              "</tr>\n",
              "<tr>\n",
              "  <th>Df Residuals:</th>          <td>306763</td>      <th>  BIC:               </th>  <td>5.006e+06</td> \n",
              "</tr>\n",
              "<tr>\n",
              "  <th>Df Model:</th>              <td>     4</td>      <th>                     </th>      <td> </td>     \n",
              "</tr>\n",
              "<tr>\n",
              "  <th>Covariance Type:</th>      <td>nonrobust</td>    <th>                     </th>      <td> </td>     \n",
              "</tr>\n",
              "</table>\n",
              "<table class=\"simpletable\">\n",
              "<tr>\n",
              "      <td></td>         <th>coef</th>     <th>std err</th>      <th>t</th>      <th>P>|t|</th>  <th>[0.025</th>    <th>0.975]</th>  \n",
              "</tr>\n",
              "<tr>\n",
              "  <th>Intercept</th> <td>  204.3897</td> <td>    5.014</td> <td>   40.760</td> <td> 0.000</td> <td>  194.562</td> <td>  214.218</td>\n",
              "</tr>\n",
              "<tr>\n",
              "  <th>시간</th>        <td>   13.2365</td> <td>    0.221</td> <td>   59.994</td> <td> 0.000</td> <td>   12.804</td> <td>   13.669</td>\n",
              "</tr>\n",
              "<tr>\n",
              "  <th>구분</th>        <td>   23.8199</td> <td>    0.764</td> <td>   31.193</td> <td> 0.000</td> <td>   22.323</td> <td>   25.317</td>\n",
              "</tr>\n",
              "<tr>\n",
              "  <th>season</th>    <td>  280.5899</td> <td>    1.367</td> <td>  205.221</td> <td> 0.000</td> <td>  277.910</td> <td>  283.270</td>\n",
              "</tr>\n",
              "<tr>\n",
              "  <th>workday</th>   <td>  105.2074</td> <td>    3.380</td> <td>   31.125</td> <td> 0.000</td> <td>   98.582</td> <td>  111.832</td>\n",
              "</tr>\n",
              "</table>\n",
              "<table class=\"simpletable\">\n",
              "<tr>\n",
              "  <th>Omnibus:</th>       <td>49271.849</td> <th>  Durbin-Watson:     </th> <td>   0.027</td> \n",
              "</tr>\n",
              "<tr>\n",
              "  <th>Prob(Omnibus):</th>  <td> 0.000</td>   <th>  Jarque-Bera (JB):  </th> <td>81464.451</td>\n",
              "</tr>\n",
              "<tr>\n",
              "  <th>Skew:</th>           <td> 1.085</td>   <th>  Prob(JB):          </th> <td>    0.00</td> \n",
              "</tr>\n",
              "<tr>\n",
              "  <th>Kurtosis:</th>       <td> 4.292</td>   <th>  Cond. No.          </th> <td>    51.8</td> \n",
              "</tr>\n",
              "</table><br/><br/>Warnings:<br/>[1] Standard Errors assume that the covariance matrix of the errors is correctly specified."
            ],
            "text/plain": [
              "<class 'statsmodels.iolib.summary.Summary'>\n",
              "\"\"\"\n",
              "                            OLS Regression Results                            \n",
              "==============================================================================\n",
              "Dep. Variable:                    공급량   R-squared:                       0.135\n",
              "Model:                            OLS   Adj. R-squared:                  0.135\n",
              "Method:                 Least Squares   F-statistic:                 1.192e+04\n",
              "Date:                Sun, 31 Oct 2021   Prob (F-statistic):               0.00\n",
              "Time:                        11:57:27   Log-Likelihood:            -2.5030e+06\n",
              "No. Observations:              306768   AIC:                         5.006e+06\n",
              "Df Residuals:                  306763   BIC:                         5.006e+06\n",
              "Df Model:                           4                                         \n",
              "Covariance Type:            nonrobust                                         \n",
              "==============================================================================\n",
              "                 coef    std err          t      P>|t|      [0.025      0.975]\n",
              "------------------------------------------------------------------------------\n",
              "Intercept    204.3897      5.014     40.760      0.000     194.562     214.218\n",
              "시간            13.2365      0.221     59.994      0.000      12.804      13.669\n",
              "구분            23.8199      0.764     31.193      0.000      22.323      25.317\n",
              "season       280.5899      1.367    205.221      0.000     277.910     283.270\n",
              "workday      105.2074      3.380     31.125      0.000      98.582     111.832\n",
              "==============================================================================\n",
              "Omnibus:                    49271.849   Durbin-Watson:                   0.027\n",
              "Prob(Omnibus):                  0.000   Jarque-Bera (JB):            81464.451\n",
              "Skew:                           1.085   Prob(JB):                         0.00\n",
              "Kurtosis:                       4.292   Cond. No.                         51.8\n",
              "==============================================================================\n",
              "\n",
              "Warnings:\n",
              "[1] Standard Errors assume that the covariance matrix of the errors is correctly specified.\n",
              "\"\"\""
            ]
          },
          "metadata": {},
          "execution_count": 22
        }
      ]
    },
    {
      "cell_type": "markdown",
      "metadata": {
        "id": "-FPaVpazNpxw"
      },
      "source": [
        "* 그나마 높아지긴 했지만... 사실 stepwise 코드를 못 찾아서 제대로 모형 적합 못함\n",
        "* 아무튼 오늘은 시간+구분+season+workday 네 개 변수 가지고 해보기로 함"
      ]
    },
    {
      "cell_type": "code",
      "metadata": {
        "id": "WWnProXAGjel"
      },
      "source": [
        "from sklearn.linear_model import LinearRegression\n",
        "from sklearn.metrics import mean_squared_error, r2_score, mean_absolute_error"
      ],
      "execution_count": 24,
      "outputs": []
    },
    {
      "cell_type": "code",
      "metadata": {
        "colab": {
          "base_uri": "https://localhost:8080/"
        },
        "id": "3uxSAXX8GjhB",
        "outputId": "a1046aeb-b79a-454f-c702-991d50a3c9bf"
      },
      "source": [
        "features = ['시간', '구분', 'season', 'workday']\n",
        "\n",
        "train_x = train[features]\n",
        "train_y = train['공급량']\n",
        "\n",
        "val_x = val[features]\n",
        "val_y = val['공급량']\n",
        "\n",
        "lr = LinearRegression()\n",
        "lr.fit(train_x, train_y)\n",
        "y_preds = lr.predict(val_x)\n",
        "mse = mean_squared_error(val_y, y_preds)\n",
        "rmse = np.sqrt(mse)\n",
        "mae = mean_absolute_error(val_y, y_preds)\n",
        "\n",
        "print('MSE: {0:.3f}, RMSE: {1:.3f}, MAE: {1:.3f}'.format(mse, rmse, mae))\n",
        "print('Varinace score: {0:.3f}'.format(r2_score(val_y, y_preds)))"
      ],
      "execution_count": 25,
      "outputs": [
        {
          "output_type": "stream",
          "name": "stdout",
          "text": [
            "MSE: 875308.580, RMSE: 935.579, MAE: 935.579\n",
            "Varinace score: 0.141\n"
          ]
        }
      ]
    },
    {
      "cell_type": "markdown",
      "metadata": {
        "id": "PnUqt8eqOO_7"
      },
      "source": [
        "* 왜 이렇게 나오지? 정말 곤란해ㅜ"
      ]
    },
    {
      "cell_type": "code",
      "metadata": {
        "id": "z1SdaUwsGjjx"
      },
      "source": [
        "import numpy as np\n",
        "import pandas as pd\n",
        "from sklearn.datasets import load_boston\n",
        "from sklearn.linear_model import Ridge, Lasso, ElasticNet\n",
        "from sklearn.model_selection import GridSearchCV, cross_val_score\n",
        "from sklearn.model_selection import validation_curve, train_test_split\n",
        "from sklearn.metrics import r2_score\n",
        "from sklearn.preprocessing import StandardScaler\n",
        "\n",
        "features = ['시간', '구분', 'season', 'workday']\n",
        "y = total['공급량']\n",
        "#X = total.drop(['공급량', 'year', '연월일'], axis=1, inplace=False)\n",
        "X = total[features]\n",
        "\n",
        "X_train, X_test, y_train, y_test = train_test_split(X, y, test_size=0.3, random_state=1)\n",
        "std = StandardScaler()\n",
        "X_train_std = std.fit_transform(X_train)\n",
        "X_test_std = std.transform(X_test)"
      ],
      "execution_count": 10,
      "outputs": []
    },
    {
      "cell_type": "code",
      "metadata": {
        "colab": {
          "base_uri": "https://localhost:8080/"
        },
        "id": "do--C2BsGjmQ",
        "outputId": "75b6661d-3e08-4091-d245-24ad408ecbd1"
      },
      "source": [
        "# # Ridge + GridSearchCV\n",
        "# ridge = Ridge()\n",
        "# params = {'alpha': np.linspace(0.01, 1.0, 100)} # lambda의 역할과 동일\n",
        "# ridge_cv = GridSearchCV(ridge, params, scoring='r2', cv=5, n_jobs=-1)\n",
        "# ridge_cv.fit(X_train_std, y_train)\n",
        "# opt_r = ridge_cv.best_estimator_\n",
        "# r2_ridge = r2_score(y_test, opt_r.predict(X_test_std))\n",
        "\n",
        "# # Lasso + GridSearchCV\n",
        "# lasso = Lasso()\n",
        "# lasso_cv = GridSearchCV(lasso, params, scoring='r2', cv=5, n_jobs=-1)\n",
        "# lasso_cv.fit(X_train_std, y_train)\n",
        "# opt_l = lasso_cv.best_estimator_\n",
        "# r2_lasso = r2_score(y_test, opt_l.predict(X_test_std))\n",
        "\n",
        "# # Elasticnet + GridSearchCV\n",
        "# elastic = ElasticNet()\n",
        "# elastic_cv = GridSearchCV(elastic, params, scoring='r2', cv=5, n_jobs=-1)\n",
        "# elastic_cv.fit(X_train_std, y_train)\n",
        "# opt_e = elastic_cv.best_estimator_\n",
        "# r2_elastic = r2_score(y_test, opt_e.predict(X_test_std))\n",
        "\n",
        "# print('Ridge R^2 score: {0:.4f}, Lasso R^2 score: {1:.4f}, Elastic R^2 socre: {2:.4f}'.format(r2_ridge,r2_lasso,r2_elastic))"
      ],
      "execution_count": 32,
      "outputs": [
        {
          "output_type": "stream",
          "name": "stdout",
          "text": [
            "Ridge R^2 score: 0.1894, Lasso R^2 score: 0.1894, Elastic R^2 socre: 0.1894\n"
          ]
        }
      ]
    },
    {
      "cell_type": "markdown",
      "metadata": {
        "id": "KFrGIJpNQBEM"
      },
      "source": [
        "* 뭔가 잘못한건지 아님 원래 회귀로 돌리면 이따군지 잘 모르겠음^^;;"
      ]
    },
    {
      "cell_type": "markdown",
      "metadata": {
        "id": "DW7DOGIbQfWw"
      },
      "source": [
        "# 학습/예측/제출"
      ]
    },
    {
      "cell_type": "code",
      "metadata": {
        "colab": {
          "base_uri": "https://localhost:8080/"
        },
        "id": "THCfL2HJGjoz",
        "outputId": "0568edcc-61ad-4da6-ef97-32dc90f41b29"
      },
      "source": [
        "model = Lasso()\n",
        "params = {'alpha': np.linspace(0.01, 1.0, 100)} # lambda의 역할과 동일\n",
        "model_cv = GridSearchCV(model, params, scoring='r2', cv=5, n_jobs=-1)\n",
        "model_cv.fit(X_train_std, y_train)"
      ],
      "execution_count": 12,
      "outputs": [
        {
          "output_type": "execute_result",
          "data": {
            "text/plain": [
              "GridSearchCV(cv=5, error_score=nan,\n",
              "             estimator=Lasso(alpha=1.0, copy_X=True, fit_intercept=True,\n",
              "                             max_iter=1000, normalize=False, positive=False,\n",
              "                             precompute=False, random_state=None,\n",
              "                             selection='cyclic', tol=0.0001, warm_start=False),\n",
              "             iid='deprecated', n_jobs=-1,\n",
              "             param_grid={'alpha': array([0.01, 0.02, 0.03, 0.04, 0.05, 0.06, 0.07, 0.08, 0.09, 0.1 , 0.11,\n",
              "       0.12, 0.13, 0.14, 0.15, 0.1...\n",
              "       0.45, 0.46, 0.47, 0.48, 0.49, 0.5 , 0.51, 0.52, 0.53, 0.54, 0.55,\n",
              "       0.56, 0.57, 0.58, 0.59, 0.6 , 0.61, 0.62, 0.63, 0.64, 0.65, 0.66,\n",
              "       0.67, 0.68, 0.69, 0.7 , 0.71, 0.72, 0.73, 0.74, 0.75, 0.76, 0.77,\n",
              "       0.78, 0.79, 0.8 , 0.81, 0.82, 0.83, 0.84, 0.85, 0.86, 0.87, 0.88,\n",
              "       0.89, 0.9 , 0.91, 0.92, 0.93, 0.94, 0.95, 0.96, 0.97, 0.98, 0.99,\n",
              "       1.  ])},\n",
              "             pre_dispatch='2*n_jobs', refit=True, return_train_score=False,\n",
              "             scoring='r2', verbose=0)"
            ]
          },
          "metadata": {},
          "execution_count": 12
        }
      ]
    },
    {
      "cell_type": "code",
      "metadata": {
        "colab": {
          "base_uri": "https://localhost:8080/",
          "height": 419
        },
        "id": "syGTLA-ZUQ2M",
        "outputId": "89da689d-a91d-460d-c0f4-0c9d6809756d"
      },
      "source": [
        "test"
      ],
      "execution_count": 15,
      "outputs": [
        {
          "output_type": "execute_result",
          "data": {
            "text/html": [
              "<div>\n",
              "<style scoped>\n",
              "    .dataframe tbody tr th:only-of-type {\n",
              "        vertical-align: middle;\n",
              "    }\n",
              "\n",
              "    .dataframe tbody tr th {\n",
              "        vertical-align: top;\n",
              "    }\n",
              "\n",
              "    .dataframe thead th {\n",
              "        text-align: right;\n",
              "    }\n",
              "</style>\n",
              "<table border=\"1\" class=\"dataframe\">\n",
              "  <thead>\n",
              "    <tr style=\"text-align: right;\">\n",
              "      <th></th>\n",
              "      <th>일자|시간|구분</th>\n",
              "    </tr>\n",
              "  </thead>\n",
              "  <tbody>\n",
              "    <tr>\n",
              "      <th>0</th>\n",
              "      <td>2019-01-01 01 A</td>\n",
              "    </tr>\n",
              "    <tr>\n",
              "      <th>1</th>\n",
              "      <td>2019-01-01 02 A</td>\n",
              "    </tr>\n",
              "    <tr>\n",
              "      <th>2</th>\n",
              "      <td>2019-01-01 03 A</td>\n",
              "    </tr>\n",
              "    <tr>\n",
              "      <th>3</th>\n",
              "      <td>2019-01-01 04 A</td>\n",
              "    </tr>\n",
              "    <tr>\n",
              "      <th>4</th>\n",
              "      <td>2019-01-01 05 A</td>\n",
              "    </tr>\n",
              "    <tr>\n",
              "      <th>...</th>\n",
              "      <td>...</td>\n",
              "    </tr>\n",
              "    <tr>\n",
              "      <th>15115</th>\n",
              "      <td>2019-03-31 20 H</td>\n",
              "    </tr>\n",
              "    <tr>\n",
              "      <th>15116</th>\n",
              "      <td>2019-03-31 21 H</td>\n",
              "    </tr>\n",
              "    <tr>\n",
              "      <th>15117</th>\n",
              "      <td>2019-03-31 22 H</td>\n",
              "    </tr>\n",
              "    <tr>\n",
              "      <th>15118</th>\n",
              "      <td>2019-03-31 23 H</td>\n",
              "    </tr>\n",
              "    <tr>\n",
              "      <th>15119</th>\n",
              "      <td>2019-03-31 24 H</td>\n",
              "    </tr>\n",
              "  </tbody>\n",
              "</table>\n",
              "<p>15120 rows × 1 columns</p>\n",
              "</div>"
            ],
            "text/plain": [
              "              일자|시간|구분\n",
              "0      2019-01-01 01 A\n",
              "1      2019-01-01 02 A\n",
              "2      2019-01-01 03 A\n",
              "3      2019-01-01 04 A\n",
              "4      2019-01-01 05 A\n",
              "...                ...\n",
              "15115  2019-03-31 20 H\n",
              "15116  2019-03-31 21 H\n",
              "15117  2019-03-31 22 H\n",
              "15118  2019-03-31 23 H\n",
              "15119  2019-03-31 24 H\n",
              "\n",
              "[15120 rows x 1 columns]"
            ]
          },
          "metadata": {},
          "execution_count": 15
        }
      ]
    },
    {
      "cell_type": "code",
      "metadata": {
        "id": "Fgw3UzibUXyu"
      },
      "source": [
        "test['일자'] = test['일자|시간|구분'].str.split(' ').str[0]\n",
        "test['시간'] = test['일자|시간|구분'].str.split(' ').str[1].astype(int)\n",
        "test['구분'] = test['일자|시간|구분'].str.split(' ').str[2]"
      ],
      "execution_count": 16,
      "outputs": []
    },
    {
      "cell_type": "code",
      "metadata": {
        "id": "WrV4yEWbQjWw"
      },
      "source": [
        "test['구분'] = test['구분'].map(d_map)\n",
        "test['일자'] = pd.to_datetime(test['일자'])\n",
        "test['month'] = test['일자'].dt.month\n",
        "test['day'] = test['일자'].dt.day\n",
        "test['weekday'] = test['일자'].dt.weekday\n",
        "test['workday'] = test['weekday'].apply(lambda x: 1 if x in [0,1,2,3,4] else 0)\n",
        "test['season'] = test['month'].apply(season)"
      ],
      "execution_count": 17,
      "outputs": []
    },
    {
      "cell_type": "code",
      "metadata": {
        "id": "vyxJRtZ6QjZc"
      },
      "source": [
        "test_x = test[features]\n",
        "preds = model_cv.predict(test_x)"
      ],
      "execution_count": 19,
      "outputs": []
    },
    {
      "cell_type": "code",
      "metadata": {
        "colab": {
          "base_uri": "https://localhost:8080/",
          "height": 204
        },
        "id": "jpVyyB_BQjcO",
        "outputId": "5d29d4df-461e-41c7-9f49-f2a5e42dacaa"
      },
      "source": [
        "sub['공급량'] = preds\n",
        "sub.head()"
      ],
      "execution_count": 20,
      "outputs": [
        {
          "output_type": "execute_result",
          "data": {
            "text/html": [
              "<div>\n",
              "<style scoped>\n",
              "    .dataframe tbody tr th:only-of-type {\n",
              "        vertical-align: middle;\n",
              "    }\n",
              "\n",
              "    .dataframe tbody tr th {\n",
              "        vertical-align: top;\n",
              "    }\n",
              "\n",
              "    .dataframe thead th {\n",
              "        text-align: right;\n",
              "    }\n",
              "</style>\n",
              "<table border=\"1\" class=\"dataframe\">\n",
              "  <thead>\n",
              "    <tr style=\"text-align: right;\">\n",
              "      <th></th>\n",
              "      <th>일자|시간|구분</th>\n",
              "      <th>공급량</th>\n",
              "    </tr>\n",
              "  </thead>\n",
              "  <tbody>\n",
              "    <tr>\n",
              "      <th>0</th>\n",
              "      <td>2019-01-01 01 A</td>\n",
              "      <td>2056.480110</td>\n",
              "    </tr>\n",
              "    <tr>\n",
              "      <th>1</th>\n",
              "      <td>2019-01-01 02 A</td>\n",
              "      <td>2148.955668</td>\n",
              "    </tr>\n",
              "    <tr>\n",
              "      <th>2</th>\n",
              "      <td>2019-01-01 03 A</td>\n",
              "      <td>2241.431226</td>\n",
              "    </tr>\n",
              "    <tr>\n",
              "      <th>3</th>\n",
              "      <td>2019-01-01 04 A</td>\n",
              "      <td>2333.906783</td>\n",
              "    </tr>\n",
              "    <tr>\n",
              "      <th>4</th>\n",
              "      <td>2019-01-01 05 A</td>\n",
              "      <td>2426.382341</td>\n",
              "    </tr>\n",
              "  </tbody>\n",
              "</table>\n",
              "</div>"
            ],
            "text/plain": [
              "          일자|시간|구분          공급량\n",
              "0  2019-01-01 01 A  2056.480110\n",
              "1  2019-01-01 02 A  2148.955668\n",
              "2  2019-01-01 03 A  2241.431226\n",
              "3  2019-01-01 04 A  2333.906783\n",
              "4  2019-01-01 05 A  2426.382341"
            ]
          },
          "metadata": {},
          "execution_count": 20
        }
      ]
    },
    {
      "cell_type": "code",
      "metadata": {
        "id": "Dq2ID9nRQoLk"
      },
      "source": [
        "sub.to_csv('jk_1031_lasso.csv', index=False)"
      ],
      "execution_count": 21,
      "outputs": []
    },
    {
      "cell_type": "code",
      "metadata": {
        "id": "hHIg9NKeTGDu"
      },
      "source": [
        ""
      ],
      "execution_count": null,
      "outputs": []
    }
  ]
}