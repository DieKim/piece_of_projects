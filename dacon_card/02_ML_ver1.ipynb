{
 "cells": [
  {
   "cell_type": "markdown",
   "metadata": {},
   "source": [
    "# 목표 \n",
    "신용카드 사용자들의 개인 신상정보 데이터를 이용해 사용자의 신용카드 대금 연체 정도 예측 "
   ]
  },
  {
   "cell_type": "markdown",
   "metadata": {},
   "source": [
    "# 고려할 점\n",
    "* 중복 데이터를 어떻게 처리할지\n",
    "* credit의 클래스 불균형을 어떻게 처리할지\n",
    "* occyp_type의 결측치를 어떻게 처리할지\n",
    "* family_size와 child_num의 이상치를 어떻게 처리할지 "
   ]
  },
  {
   "cell_type": "markdown",
   "metadata": {},
   "source": [
    "# 1. 라이브러리 불러오기"
   ]
  },
  {
   "cell_type": "code",
   "execution_count": 1,
   "metadata": {},
   "outputs": [],
   "source": [
    "import numpy as np\n",
    "import pandas as pd\n",
    "\n",
    "import matplotlib.pyplot as plt\n",
    "%matplotlib inline\n",
    "\n",
    "import seaborn as sns\n",
    "sns.set_style(\"whitegrid\")\n",
    "\n",
    "import warnings\n",
    "warnings.filterwarnings('ignore')\n",
    "\n",
    "data_path = 'C:/Users/USER/DACON/creditcard/'"
   ]
  },
  {
   "cell_type": "markdown",
   "metadata": {},
   "source": [
    "# 2. 데이터 불러오기"
   ]
  },
  {
   "cell_type": "code",
   "execution_count": 2,
   "metadata": {},
   "outputs": [],
   "source": [
    "train = pd.read_csv(data_path+'train.csv')\n",
    "test = pd.read_csv(data_path+'test.csv')\n",
    "submission = pd.read_csv(data_path+'sample_submission.csv')"
   ]
  },
  {
   "cell_type": "markdown",
   "metadata": {},
   "source": [
    "# 3. 데이터 전처리"
   ]
  },
  {
   "cell_type": "markdown",
   "metadata": {},
   "source": [
    "## (1) 데이터 준비하기"
   ]
  },
  {
   "cell_type": "code",
   "execution_count": 3,
   "metadata": {},
   "outputs": [],
   "source": [
    "# credit 변수 저장 및 제거\n",
    "y = train.credit\n",
    "train = train.drop('credit', axis=1, inplace=False)"
   ]
  },
  {
   "cell_type": "code",
   "execution_count": 4,
   "metadata": {},
   "outputs": [],
   "source": [
    "# train과 test data 합치기\n",
    "df = pd.concat([train, test], axis=0)"
   ]
  },
  {
   "cell_type": "code",
   "execution_count": 5,
   "metadata": {},
   "outputs": [],
   "source": [
    "# 인덱스 변수 제거\n",
    "df = df.drop('index', axis=1, inplace=False)"
   ]
  },
  {
   "cell_type": "code",
   "execution_count": 6,
   "metadata": {},
   "outputs": [],
   "source": [
    "# FLAG_MOBIL 변수 제거\n",
    "df = df.drop('FLAG_MOBIL', axis=1, inplace=False)"
   ]
  },
  {
   "cell_type": "markdown",
   "metadata": {},
   "source": [
    "## (2) 결측값 및 중복열 처리하기"
   ]
  },
  {
   "cell_type": "markdown",
   "metadata": {},
   "source": [
    "### 결측값"
   ]
  },
  {
   "cell_type": "code",
   "execution_count": 7,
   "metadata": {},
   "outputs": [
    {
     "data": {
      "text/plain": [
       "gender               0\n",
       "car                  0\n",
       "reality              0\n",
       "child_num            0\n",
       "income_total         0\n",
       "income_type          0\n",
       "edu_type             0\n",
       "family_type          0\n",
       "house_type           0\n",
       "DAYS_BIRTH           0\n",
       "DAYS_EMPLOYED        0\n",
       "work_phone           0\n",
       "phone                0\n",
       "email                0\n",
       "occyp_type       11323\n",
       "family_size          0\n",
       "begin_month          0\n",
       "dtype: int64"
      ]
     },
     "execution_count": 7,
     "metadata": {},
     "output_type": "execute_result"
    }
   ],
   "source": [
    "df.isnull().sum()"
   ]
  },
  {
   "cell_type": "code",
   "execution_count": 8,
   "metadata": {},
   "outputs": [],
   "source": [
    "# # 방법1; 직업유형 변수의 null값을 무직으로 대체\n",
    "# df['occyp_type'] = df['occyp_type'].fillna('inoccupation')\n",
    "# df.isnull().sum()"
   ]
  },
  {
   "cell_type": "code",
   "execution_count": 9,
   "metadata": {},
   "outputs": [],
   "source": [
    "# 방법2; 그냥 직업유형 변수 drop 하기\n",
    "df = df.drop('occyp_type', axis=1, inplace=False)"
   ]
  },
  {
   "cell_type": "markdown",
   "metadata": {},
   "source": [
    "### 중복열"
   ]
  },
  {
   "cell_type": "code",
   "execution_count": 115,
   "metadata": {},
   "outputs": [
    {
     "data": {
      "text/plain": [
       "4342"
      ]
     },
     "execution_count": 115,
     "metadata": {},
     "output_type": "execute_result"
    }
   ],
   "source": [
    "# 너무 많은 중복열 존재... test set까지 포함하면 더 많아질 듯\n",
    "# 일단은 무시하고 진행하지만지만, 좀더 생각해봐야 되는 부분\n",
    "duplicate=df[df.duplicated()]\n",
    "len(duplicate)"
   ]
  },
  {
   "cell_type": "markdown",
   "metadata": {},
   "source": [
    "## (3) Encoding\n",
    "\n",
    "* https://m.blog.naver.com/bosongmoon/221807518210\n",
    "* https://dacon.io/competitions/official/235713/codeshare/2510?page=1&dtype=recent\n",
    "* https://techblog-history-younghunjo1.tistory.com/99"
   ]
  },
  {
   "cell_type": "code",
   "execution_count": 116,
   "metadata": {},
   "outputs": [
    {
     "data": {
      "text/plain": [
       "gender            object\n",
       "car               object\n",
       "reality           object\n",
       "child_num          int64\n",
       "income_total     float64\n",
       "income_type       object\n",
       "edu_type          object\n",
       "family_type       object\n",
       "house_type        object\n",
       "DAYS_BIRTH         int64\n",
       "DAYS_EMPLOYED      int64\n",
       "work_phone         int64\n",
       "phone              int64\n",
       "email              int64\n",
       "family_size      float64\n",
       "begin_month      float64\n",
       "dtype: object"
      ]
     },
     "execution_count": 116,
     "metadata": {},
     "output_type": "execute_result"
    }
   ],
   "source": [
    "df.dtypes"
   ]
  },
  {
   "cell_type": "markdown",
   "metadata": {},
   "source": [
    "### Binary"
   ]
  },
  {
   "cell_type": "markdown",
   "metadata": {},
   "source": [
    "* Binary: gender/car/reality/work_phone/phone/email\n",
    "* 이때, work_phone/phone/email은 이미 자료가 인코딩된 상태로 입력됨\n",
    "* 인코딩 방법: Label Encoding"
   ]
  },
  {
   "cell_type": "code",
   "execution_count": 10,
   "metadata": {},
   "outputs": [
    {
     "data": {
      "text/html": [
       "<div>\n",
       "<style scoped>\n",
       "    .dataframe tbody tr th:only-of-type {\n",
       "        vertical-align: middle;\n",
       "    }\n",
       "\n",
       "    .dataframe tbody tr th {\n",
       "        vertical-align: top;\n",
       "    }\n",
       "\n",
       "    .dataframe thead th {\n",
       "        text-align: right;\n",
       "    }\n",
       "</style>\n",
       "<table border=\"1\" class=\"dataframe\">\n",
       "  <thead>\n",
       "    <tr style=\"text-align: right;\">\n",
       "      <th></th>\n",
       "      <th>gender</th>\n",
       "      <th>car</th>\n",
       "      <th>reality</th>\n",
       "      <th>child_num</th>\n",
       "      <th>income_total</th>\n",
       "      <th>income_type</th>\n",
       "      <th>edu_type</th>\n",
       "      <th>family_type</th>\n",
       "      <th>house_type</th>\n",
       "      <th>DAYS_BIRTH</th>\n",
       "      <th>DAYS_EMPLOYED</th>\n",
       "      <th>work_phone</th>\n",
       "      <th>phone</th>\n",
       "      <th>email</th>\n",
       "      <th>family_size</th>\n",
       "      <th>begin_month</th>\n",
       "    </tr>\n",
       "  </thead>\n",
       "  <tbody>\n",
       "    <tr>\n",
       "      <th>0</th>\n",
       "      <td>0</td>\n",
       "      <td>0</td>\n",
       "      <td>0</td>\n",
       "      <td>0</td>\n",
       "      <td>202500.0</td>\n",
       "      <td>Commercial associate</td>\n",
       "      <td>Higher education</td>\n",
       "      <td>Married</td>\n",
       "      <td>Municipal apartment</td>\n",
       "      <td>-13899</td>\n",
       "      <td>-4709</td>\n",
       "      <td>0</td>\n",
       "      <td>0</td>\n",
       "      <td>0</td>\n",
       "      <td>2.0</td>\n",
       "      <td>-6.0</td>\n",
       "    </tr>\n",
       "    <tr>\n",
       "      <th>1</th>\n",
       "      <td>0</td>\n",
       "      <td>0</td>\n",
       "      <td>1</td>\n",
       "      <td>1</td>\n",
       "      <td>247500.0</td>\n",
       "      <td>Commercial associate</td>\n",
       "      <td>Secondary / secondary special</td>\n",
       "      <td>Civil marriage</td>\n",
       "      <td>House / apartment</td>\n",
       "      <td>-11380</td>\n",
       "      <td>-1540</td>\n",
       "      <td>0</td>\n",
       "      <td>0</td>\n",
       "      <td>1</td>\n",
       "      <td>3.0</td>\n",
       "      <td>-5.0</td>\n",
       "    </tr>\n",
       "    <tr>\n",
       "      <th>2</th>\n",
       "      <td>1</td>\n",
       "      <td>1</td>\n",
       "      <td>1</td>\n",
       "      <td>0</td>\n",
       "      <td>450000.0</td>\n",
       "      <td>Working</td>\n",
       "      <td>Higher education</td>\n",
       "      <td>Married</td>\n",
       "      <td>House / apartment</td>\n",
       "      <td>-19087</td>\n",
       "      <td>-4434</td>\n",
       "      <td>0</td>\n",
       "      <td>1</td>\n",
       "      <td>0</td>\n",
       "      <td>2.0</td>\n",
       "      <td>-22.0</td>\n",
       "    </tr>\n",
       "    <tr>\n",
       "      <th>3</th>\n",
       "      <td>0</td>\n",
       "      <td>0</td>\n",
       "      <td>1</td>\n",
       "      <td>0</td>\n",
       "      <td>202500.0</td>\n",
       "      <td>Commercial associate</td>\n",
       "      <td>Secondary / secondary special</td>\n",
       "      <td>Married</td>\n",
       "      <td>House / apartment</td>\n",
       "      <td>-15088</td>\n",
       "      <td>-2092</td>\n",
       "      <td>0</td>\n",
       "      <td>1</td>\n",
       "      <td>0</td>\n",
       "      <td>2.0</td>\n",
       "      <td>-37.0</td>\n",
       "    </tr>\n",
       "    <tr>\n",
       "      <th>4</th>\n",
       "      <td>0</td>\n",
       "      <td>1</td>\n",
       "      <td>1</td>\n",
       "      <td>0</td>\n",
       "      <td>157500.0</td>\n",
       "      <td>State servant</td>\n",
       "      <td>Higher education</td>\n",
       "      <td>Married</td>\n",
       "      <td>House / apartment</td>\n",
       "      <td>-15037</td>\n",
       "      <td>-2105</td>\n",
       "      <td>0</td>\n",
       "      <td>0</td>\n",
       "      <td>0</td>\n",
       "      <td>2.0</td>\n",
       "      <td>-26.0</td>\n",
       "    </tr>\n",
       "  </tbody>\n",
       "</table>\n",
       "</div>"
      ],
      "text/plain": [
       "   gender  car  reality  child_num  income_total           income_type  \\\n",
       "0       0    0        0          0      202500.0  Commercial associate   \n",
       "1       0    0        1          1      247500.0  Commercial associate   \n",
       "2       1    1        1          0      450000.0               Working   \n",
       "3       0    0        1          0      202500.0  Commercial associate   \n",
       "4       0    1        1          0      157500.0         State servant   \n",
       "\n",
       "                        edu_type     family_type           house_type  \\\n",
       "0               Higher education         Married  Municipal apartment   \n",
       "1  Secondary / secondary special  Civil marriage    House / apartment   \n",
       "2               Higher education         Married    House / apartment   \n",
       "3  Secondary / secondary special         Married    House / apartment   \n",
       "4               Higher education         Married    House / apartment   \n",
       "\n",
       "   DAYS_BIRTH  DAYS_EMPLOYED  work_phone  phone  email  family_size  \\\n",
       "0      -13899          -4709           0      0      0          2.0   \n",
       "1      -11380          -1540           0      0      1          3.0   \n",
       "2      -19087          -4434           0      1      0          2.0   \n",
       "3      -15088          -2092           0      1      0          2.0   \n",
       "4      -15037          -2105           0      0      0          2.0   \n",
       "\n",
       "   begin_month  \n",
       "0         -6.0  \n",
       "1         -5.0  \n",
       "2        -22.0  \n",
       "3        -37.0  \n",
       "4        -26.0  "
      ]
     },
     "execution_count": 10,
     "metadata": {},
     "output_type": "execute_result"
    }
   ],
   "source": [
    "from sklearn.preprocessing import LabelEncoder\n",
    "\n",
    "encoder = LabelEncoder()\n",
    "\n",
    "df['gender'] = encoder.fit_transform(df['gender'])\n",
    "df['car'] = encoder.fit_transform(df['car'])\n",
    "df['reality'] = encoder.fit_transform(df['reality'])\n",
    "\n",
    "df.head()"
   ]
  },
  {
   "cell_type": "markdown",
   "metadata": {},
   "source": [
    "### Ordinal"
   ]
  },
  {
   "cell_type": "markdown",
   "metadata": {},
   "source": [
    "* Ordinal; edu_type\n",
    "* 인코딩 방법: Mapping"
   ]
  },
  {
   "cell_type": "code",
   "execution_count": 118,
   "metadata": {},
   "outputs": [
    {
     "data": {
      "text/plain": [
       "array(['Higher education', 'Secondary / secondary special',\n",
       "       'Incomplete higher', 'Lower secondary', 'Academic degree'],\n",
       "      dtype=object)"
      ]
     },
     "execution_count": 118,
     "metadata": {},
     "output_type": "execute_result"
    }
   ],
   "source": [
    "df.edu_type.unique()"
   ]
  },
  {
   "cell_type": "code",
   "execution_count": 11,
   "metadata": {},
   "outputs": [],
   "source": [
    "edu_order = {\n",
    "    'Lower secondary' : 0, # 중학교 미만\n",
    "    'Secondary / secondary special' : 1, # 중학교\n",
    "    'Incomplete higher' : 2, # 고등학교 중퇴\n",
    "    'Higher education' : 3, # 고등학교 졸업\n",
    "     'Academic degree' : 4 # 학사 이상\n",
    "}"
   ]
  },
  {
   "cell_type": "code",
   "execution_count": 120,
   "metadata": {},
   "outputs": [
    {
     "data": {
      "text/plain": [
       "0    3\n",
       "1    1\n",
       "2    3\n",
       "3    1\n",
       "4    3\n",
       "Name: edu_type, dtype: int64"
      ]
     },
     "execution_count": 120,
     "metadata": {},
     "output_type": "execute_result"
    }
   ],
   "source": [
    "df.edu_type = df.edu_type.map(edu_order)\n",
    "df.edu_type.head()"
   ]
  },
  {
   "cell_type": "markdown",
   "metadata": {},
   "source": [
    "### Nominal"
   ]
  },
  {
   "cell_type": "markdown",
   "metadata": {},
   "source": [
    "* Nominal: income_type/family_type/house_type/occyp_type\n",
    "* 인코딩 방법: pd.get_dummies()"
   ]
  },
  {
   "cell_type": "code",
   "execution_count": 12,
   "metadata": {},
   "outputs": [
    {
     "data": {
      "text/html": [
       "<div>\n",
       "<style scoped>\n",
       "    .dataframe tbody tr th:only-of-type {\n",
       "        vertical-align: middle;\n",
       "    }\n",
       "\n",
       "    .dataframe tbody tr th {\n",
       "        vertical-align: top;\n",
       "    }\n",
       "\n",
       "    .dataframe thead th {\n",
       "        text-align: right;\n",
       "    }\n",
       "</style>\n",
       "<table border=\"1\" class=\"dataframe\">\n",
       "  <thead>\n",
       "    <tr style=\"text-align: right;\">\n",
       "      <th></th>\n",
       "      <th>gender</th>\n",
       "      <th>car</th>\n",
       "      <th>reality</th>\n",
       "      <th>child_num</th>\n",
       "      <th>income_total</th>\n",
       "      <th>DAYS_BIRTH</th>\n",
       "      <th>DAYS_EMPLOYED</th>\n",
       "      <th>work_phone</th>\n",
       "      <th>phone</th>\n",
       "      <th>email</th>\n",
       "      <th>...</th>\n",
       "      <th>family_type_Married</th>\n",
       "      <th>family_type_Separated</th>\n",
       "      <th>family_type_Single / not married</th>\n",
       "      <th>family_type_Widow</th>\n",
       "      <th>house_type_Co-op apartment</th>\n",
       "      <th>house_type_House / apartment</th>\n",
       "      <th>house_type_Municipal apartment</th>\n",
       "      <th>house_type_Office apartment</th>\n",
       "      <th>house_type_Rented apartment</th>\n",
       "      <th>house_type_With parents</th>\n",
       "    </tr>\n",
       "  </thead>\n",
       "  <tbody>\n",
       "    <tr>\n",
       "      <th>0</th>\n",
       "      <td>0</td>\n",
       "      <td>0</td>\n",
       "      <td>0</td>\n",
       "      <td>0</td>\n",
       "      <td>202500.0</td>\n",
       "      <td>-13899</td>\n",
       "      <td>-4709</td>\n",
       "      <td>0</td>\n",
       "      <td>0</td>\n",
       "      <td>0</td>\n",
       "      <td>...</td>\n",
       "      <td>1</td>\n",
       "      <td>0</td>\n",
       "      <td>0</td>\n",
       "      <td>0</td>\n",
       "      <td>0</td>\n",
       "      <td>0</td>\n",
       "      <td>1</td>\n",
       "      <td>0</td>\n",
       "      <td>0</td>\n",
       "      <td>0</td>\n",
       "    </tr>\n",
       "    <tr>\n",
       "      <th>1</th>\n",
       "      <td>0</td>\n",
       "      <td>0</td>\n",
       "      <td>1</td>\n",
       "      <td>1</td>\n",
       "      <td>247500.0</td>\n",
       "      <td>-11380</td>\n",
       "      <td>-1540</td>\n",
       "      <td>0</td>\n",
       "      <td>0</td>\n",
       "      <td>1</td>\n",
       "      <td>...</td>\n",
       "      <td>0</td>\n",
       "      <td>0</td>\n",
       "      <td>0</td>\n",
       "      <td>0</td>\n",
       "      <td>0</td>\n",
       "      <td>1</td>\n",
       "      <td>0</td>\n",
       "      <td>0</td>\n",
       "      <td>0</td>\n",
       "      <td>0</td>\n",
       "    </tr>\n",
       "    <tr>\n",
       "      <th>2</th>\n",
       "      <td>1</td>\n",
       "      <td>1</td>\n",
       "      <td>1</td>\n",
       "      <td>0</td>\n",
       "      <td>450000.0</td>\n",
       "      <td>-19087</td>\n",
       "      <td>-4434</td>\n",
       "      <td>0</td>\n",
       "      <td>1</td>\n",
       "      <td>0</td>\n",
       "      <td>...</td>\n",
       "      <td>1</td>\n",
       "      <td>0</td>\n",
       "      <td>0</td>\n",
       "      <td>0</td>\n",
       "      <td>0</td>\n",
       "      <td>1</td>\n",
       "      <td>0</td>\n",
       "      <td>0</td>\n",
       "      <td>0</td>\n",
       "      <td>0</td>\n",
       "    </tr>\n",
       "    <tr>\n",
       "      <th>3</th>\n",
       "      <td>0</td>\n",
       "      <td>0</td>\n",
       "      <td>1</td>\n",
       "      <td>0</td>\n",
       "      <td>202500.0</td>\n",
       "      <td>-15088</td>\n",
       "      <td>-2092</td>\n",
       "      <td>0</td>\n",
       "      <td>1</td>\n",
       "      <td>0</td>\n",
       "      <td>...</td>\n",
       "      <td>1</td>\n",
       "      <td>0</td>\n",
       "      <td>0</td>\n",
       "      <td>0</td>\n",
       "      <td>0</td>\n",
       "      <td>1</td>\n",
       "      <td>0</td>\n",
       "      <td>0</td>\n",
       "      <td>0</td>\n",
       "      <td>0</td>\n",
       "    </tr>\n",
       "    <tr>\n",
       "      <th>4</th>\n",
       "      <td>0</td>\n",
       "      <td>1</td>\n",
       "      <td>1</td>\n",
       "      <td>0</td>\n",
       "      <td>157500.0</td>\n",
       "      <td>-15037</td>\n",
       "      <td>-2105</td>\n",
       "      <td>0</td>\n",
       "      <td>0</td>\n",
       "      <td>0</td>\n",
       "      <td>...</td>\n",
       "      <td>1</td>\n",
       "      <td>0</td>\n",
       "      <td>0</td>\n",
       "      <td>0</td>\n",
       "      <td>0</td>\n",
       "      <td>1</td>\n",
       "      <td>0</td>\n",
       "      <td>0</td>\n",
       "      <td>0</td>\n",
       "      <td>0</td>\n",
       "    </tr>\n",
       "  </tbody>\n",
       "</table>\n",
       "<p>5 rows × 33 columns</p>\n",
       "</div>"
      ],
      "text/plain": [
       "   gender  car  reality  child_num  income_total  DAYS_BIRTH  DAYS_EMPLOYED  \\\n",
       "0       0    0        0          0      202500.0      -13899          -4709   \n",
       "1       0    0        1          1      247500.0      -11380          -1540   \n",
       "2       1    1        1          0      450000.0      -19087          -4434   \n",
       "3       0    0        1          0      202500.0      -15088          -2092   \n",
       "4       0    1        1          0      157500.0      -15037          -2105   \n",
       "\n",
       "   work_phone  phone  email  ...  family_type_Married  family_type_Separated  \\\n",
       "0           0      0      0  ...                    1                      0   \n",
       "1           0      0      1  ...                    0                      0   \n",
       "2           0      1      0  ...                    1                      0   \n",
       "3           0      1      0  ...                    1                      0   \n",
       "4           0      0      0  ...                    1                      0   \n",
       "\n",
       "   family_type_Single / not married  family_type_Widow  \\\n",
       "0                                 0                  0   \n",
       "1                                 0                  0   \n",
       "2                                 0                  0   \n",
       "3                                 0                  0   \n",
       "4                                 0                  0   \n",
       "\n",
       "   house_type_Co-op apartment  house_type_House / apartment  \\\n",
       "0                           0                             0   \n",
       "1                           0                             1   \n",
       "2                           0                             1   \n",
       "3                           0                             1   \n",
       "4                           0                             1   \n",
       "\n",
       "   house_type_Municipal apartment  house_type_Office apartment  \\\n",
       "0                               1                            0   \n",
       "1                               0                            0   \n",
       "2                               0                            0   \n",
       "3                               0                            0   \n",
       "4                               0                            0   \n",
       "\n",
       "   house_type_Rented apartment  house_type_With parents  \n",
       "0                            0                        0  \n",
       "1                            0                        0  \n",
       "2                            0                        0  \n",
       "3                            0                        0  \n",
       "4                            0                        0  \n",
       "\n",
       "[5 rows x 33 columns]"
      ]
     },
     "execution_count": 12,
     "metadata": {},
     "output_type": "execute_result"
    }
   ],
   "source": [
    "df = pd.get_dummies(df)\n",
    "df.head()"
   ]
  },
  {
   "cell_type": "markdown",
   "metadata": {},
   "source": [
    "### Numerical"
   ]
  },
  {
   "cell_type": "markdown",
   "metadata": {},
   "source": [
    "* Numerical: child_num/family_size/income_total/DAYS_BIRTH/DAYS_EMPLOYED/begin_month\n",
    "* child_num/family_size: 이상치 처리 \n",
    "* income_total: 로그변환\n",
    "* DAYS_BIRTH/DAYS_EMPLOYED/begin_month: 데이터 변환 "
   ]
  },
  {
   "cell_type": "code",
   "execution_count": 122,
   "metadata": {},
   "outputs": [],
   "source": [
    "# # DAYS_BIRTH -> Age(년)\n",
    "\n",
    "# # 날짜를 나이로 바꿔주는 사용자 정의 함수\n",
    "# def days_to_age(x):\n",
    "#     res = (x*-1)/365\n",
    "#     return res\n",
    "\n",
    "# # Age 변수 생성\n",
    "# df['Age'] = df['DAYS_BIRTH'].apply(days_to_age)\n",
    "# df = df.astype({'Age':'int'})\n",
    "\n",
    "# # DAYS_BIRTH 변수 제거\n",
    "# df = df.drop('DAYS_BIRTH', axis=1, inplace=False)"
   ]
  },
  {
   "cell_type": "code",
   "execution_count": 13,
   "metadata": {},
   "outputs": [],
   "source": [
    "# DAYS_BIRTH -> Age(개월)\n",
    "\n",
    "# 날짜를 나이로 바꿔주는 사용자 정의 함수\n",
    "def days_to_age(x):\n",
    "    res = (x*-1)/30\n",
    "    return res\n",
    "\n",
    "# Age 변수 생성\n",
    "df['Age'] = df['DAYS_BIRTH'].apply(days_to_age)\n",
    "df = df.astype({'Age':'int'})\n",
    "\n",
    "# DAYS_BIRTH 변수 제거\n",
    "df = df.drop('DAYS_BIRTH', axis=1, inplace=False)"
   ]
  },
  {
   "cell_type": "code",
   "execution_count": 124,
   "metadata": {},
   "outputs": [],
   "source": [
    "# # DAYS_EMPLOYED -> Employed(년)\n",
    "\n",
    "# # 양수는 무직이므로 0으로 대체\n",
    "# df['Employed'] = df['DAYS_EMPLOYED'].map(lambda  x: 0 if x>0 else x)\n",
    "\n",
    "# # Employed 변수 생성\n",
    "# df['Employed'] = df['DAYS_EMPLOYED'].apply(days_to_age)\n",
    "# df = df.astype({'Employed':'int'})\n",
    "\n",
    "# # DAYS_EMPLOYED 변수 제거\n",
    "# df = df.drop('DAYS_EMPLOYED', axis=1, inplace=False)"
   ]
  },
  {
   "cell_type": "code",
   "execution_count": 14,
   "metadata": {},
   "outputs": [],
   "source": [
    "# DAYS_EMPLOYED -> Employed(개월)\n",
    "\n",
    "# 날짜를 개월로 바꿔주는 사용자 정의 함수\n",
    "def days_to_month(x):\n",
    "    res = (x*-1)/30\n",
    "    return res\n",
    "\n",
    "# 양수는 무직이므로 0으로 대체\n",
    "df['Employed'] = df['DAYS_EMPLOYED'].map(lambda  x: 0 if x>0 else x)\n",
    "\n",
    "# Employed 변수 생성\n",
    "df['Employed'] = df['DAYS_EMPLOYED'].apply(days_to_month)\n",
    "df = df.astype({'Employed':'int'})\n",
    "\n",
    "# DAYS_EMPLOYED 변수 제거\n",
    "df = df.drop('DAYS_EMPLOYED', axis=1, inplace=False)"
   ]
  },
  {
   "cell_type": "code",
   "execution_count": 126,
   "metadata": {},
   "outputs": [],
   "source": [
    "# begin_month -> Month\n",
    "\n",
    "# 음수값이므로 양수로 변환\n",
    "df['Month'] = abs(df['begin_month'])\n",
    "\n",
    "# Month 변수 생성\n",
    "df = df.astype({'Month': 'int'})\n",
    "\n",
    "# begin month 변수 제거\n",
    "df = df.drop('begin_month', axis=1, inplace=False)"
   ]
  },
  {
   "cell_type": "markdown",
   "metadata": {},
   "source": [
    "## (4) Scaling"
   ]
  },
  {
   "cell_type": "markdown",
   "metadata": {},
   "source": [
    "### cf. child_num vs family_size 중 하나만 살리기"
   ]
  },
  {
   "cell_type": "code",
   "execution_count": 127,
   "metadata": {},
   "outputs": [],
   "source": [
    "# df = df.drop('child_num', axis=1, inplace=False)"
   ]
  },
  {
   "cell_type": "markdown",
   "metadata": {},
   "source": [
    "### cf. income_total 로그변환"
   ]
  },
  {
   "cell_type": "code",
   "execution_count": 16,
   "metadata": {},
   "outputs": [],
   "source": [
    "df['income_total'] = df['income_total'].apply(np.log)"
   ]
  },
  {
   "cell_type": "markdown",
   "metadata": {},
   "source": [
    "### 표준화\n",
    "\n",
    "* StandardScaler: 평균 0, 분산 1인 정규분포를 따르도록 변환"
   ]
  },
  {
   "cell_type": "code",
   "execution_count": 128,
   "metadata": {},
   "outputs": [],
   "source": [
    "from sklearn.preprocessing import StandardScaler\n",
    "\n",
    "# StandardScaler 객체 생성\n",
    "scaler = StandardScaler()\n",
    "\n",
    "# StandardScaler로 표준화\n",
    "scaled = scaler.fit_transform(df)\n",
    "\n",
    "# Numpy ndarray -> DataFrame 변환\n",
    "df_scaled = pd.DataFrame(data=scaled, columns=df.columns) "
   ]
  },
  {
   "cell_type": "code",
   "execution_count": 129,
   "metadata": {},
   "outputs": [],
   "source": [
    "# # 원본 데이터(df) 확인\n",
    "# print('feature들의 평균')\n",
    "# print(df.mean())\n",
    "# print('feature들의 분산')\n",
    "# print(df.var())"
   ]
  },
  {
   "cell_type": "code",
   "execution_count": 96,
   "metadata": {},
   "outputs": [],
   "source": [
    "# # 변환된 데이터(df_scaled) 확인\n",
    "# print('feature들의 평균')\n",
    "# print(df_scaled.mean())\n",
    "# print('feature들의 분산')\n",
    "# print(df_scaled.var())"
   ]
  },
  {
   "cell_type": "markdown",
   "metadata": {},
   "source": [
    "### 이상치 제거"
   ]
  },
  {
   "cell_type": "markdown",
   "metadata": {},
   "source": [
    "* child_num/family_size 변수에 대해서 이상치 제거\n",
    "* 표준화된 z값이 95% 신뢰구간 내에 있는 데이터만 선택  "
   ]
  },
  {
   "cell_type": "code",
   "execution_count": 97,
   "metadata": {},
   "outputs": [],
   "source": [
    "# zscore 변수 생성\n",
    "from scipy import stats\n",
    "df['zscore_child'] = stats.zscore(df['child_num'])\n",
    "df['zscore_family'] = stats.zscore(df['family_size'])\n",
    "\n",
    "# 95% 신뢰구간 내에 있는 데이터만 선택\n",
    "df = df[df['zscore_child'].between(-2, 2)]\n",
    "df = df[df['zscore_family'].between(-2, 2)]\n",
    "\n",
    "# zscore 변수 제거\n",
    "df = df.drop('zscore_child', axis=1, inplace=False)\n",
    "df = df.drop('zscore_family', axis=1, inplace=False)"
   ]
  },
  {
   "cell_type": "code",
   "execution_count": 130,
   "metadata": {},
   "outputs": [],
   "source": [
    "# # 근데 이상치가 없는 건지 차이가 없음\n",
    "# df['zscore_family'] = stats.zscore(df['family_size'])\n",
    "# df = df[df['zscore_family'].between(-2, 2)]\n",
    "# df = df.drop('zscore_family', axis=1, inplace=False)"
   ]
  },
  {
   "cell_type": "markdown",
   "metadata": {},
   "source": [
    "### 정규화"
   ]
  },
  {
   "cell_type": "markdown",
   "metadata": {},
   "source": [
    "* MinMaxScaler: 데이터를 0~1 사이의 값으로 변환"
   ]
  },
  {
   "cell_type": "code",
   "execution_count": 131,
   "metadata": {},
   "outputs": [],
   "source": [
    "from sklearn.preprocessing import MinMaxScaler\n",
    "\n",
    "# MinMaxScaler 객체 생성\n",
    "scaler = MinMaxScaler()\n",
    "\n",
    "# MinMaxScaler로 표준화\n",
    "scaled2 = scaler.fit_transform(df_scaled)\n",
    "\n",
    "# Numpy ndarray -> DataFrame 변환\n",
    "df_scaled2 = pd.DataFrame(data=scaled2, columns=df.columns) "
   ]
  },
  {
   "cell_type": "code",
   "execution_count": 132,
   "metadata": {},
   "outputs": [],
   "source": [
    "# # 원본 데이터(df_scaled) 확인\n",
    "# print('feature들의 최소값')\n",
    "# print(df_scaled.min())\n",
    "# print('feature들의 최대값')\n",
    "# print(df_scaled.max())"
   ]
  },
  {
   "cell_type": "code",
   "execution_count": 101,
   "metadata": {
    "scrolled": true
   },
   "outputs": [],
   "source": [
    "# # 변환된 데이터(df_scaled2) 확인\n",
    "# print('feature들의 최소값')\n",
    "# print(df_scaled2.min())\n",
    "# print('feature들의 최대값')\n",
    "# print(df_scaled2.max())"
   ]
  },
  {
   "cell_type": "markdown",
   "metadata": {},
   "source": [
    "## (5) 변수 준비하기"
   ]
  },
  {
   "cell_type": "code",
   "execution_count": 133,
   "metadata": {
    "scrolled": true
   },
   "outputs": [],
   "source": [
    "# # train/test 나누기(scaling O)\n",
    "# train = df_scaled2[:-10000] # 뒤에서 10000개 제외\n",
    "# test = df_scaled2[-10000:] # 앞에서 10000개 제외"
   ]
  },
  {
   "cell_type": "code",
   "execution_count": 17,
   "metadata": {},
   "outputs": [],
   "source": [
    "# train/test 나누기(scaling X)\n",
    "train = df[:-10000] \n",
    "test = df[-10000:]"
   ]
  },
  {
   "cell_type": "code",
   "execution_count": 18,
   "metadata": {},
   "outputs": [],
   "source": [
    "# X/y 나누기\n",
    "X = train\n",
    "y = y.astype({'credit':'int'})"
   ]
  },
  {
   "cell_type": "code",
   "execution_count": 41,
   "metadata": {
    "scrolled": true
   },
   "outputs": [
    {
     "name": "stdout",
     "output_type": "stream",
     "text": [
      "Original dataset shape Counter({2: 16968, 1: 6267, 0: 3222})\n",
      "Resampled dataset shape Counter({1: 16968, 2: 16968, 0: 16968})\n"
     ]
    },
    {
     "data": {
      "text/plain": [
       "<matplotlib.axes._subplots.AxesSubplot at 0x23f6cd526a0>"
      ]
     },
     "execution_count": 41,
     "metadata": {},
     "output_type": "execute_result"
    },
    {
     "data": {
      "image/png": "[encoded data removed]",
      "text/plain": [
       "<Figure size 432x288 with 1 Axes>"
      ]
     },
     "metadata": {},
     "output_type": "display_data"
    }
   ],
   "source": [
    "# # 불균형 데이터 처리\n",
    "# from imblearn.over_sampling import RandomOverSampler\n",
    "# from collections import Counter\n",
    "\n",
    "# randomsample = RandomOverSampler()\n",
    "# X_new, y_new = randomsample.fit_sample(X, y)\n",
    "\n",
    "# print('Original dataset shape {}'.format(Counter(y)))\n",
    "# print('Resampled dataset shape {}'.format(Counter(y_new)))\n",
    "# sns.countplot(y_new)"
   ]
  },
  {
   "cell_type": "markdown",
   "metadata": {},
   "source": [
    "# 4. 모델 학습\n",
    " \n",
    "* 여러가지 ML 분류 모델\n",
    "* 추후 딥러닝 모델도 고려"
   ]
  },
  {
   "cell_type": "markdown",
   "metadata": {},
   "source": [
    "## (1) 랜덤 포레스트"
   ]
  },
  {
   "cell_type": "markdown",
   "metadata": {},
   "source": [
    "### 기본 모델"
   ]
  },
  {
   "cell_type": "code",
   "execution_count": 273,
   "metadata": {},
   "outputs": [],
   "source": [
    "# train/val set 분리 \n",
    "from sklearn.model_selection import train_test_split\n",
    "X_train, X_val, y_train, y_val = train_test_split(X_new, y_new, stratify=y_new, test_size=0.25, random_state=2)"
   ]
  },
  {
   "cell_type": "code",
   "execution_count": 274,
   "metadata": {},
   "outputs": [
    {
     "data": {
      "text/plain": [
       "RandomForestClassifier(random_state=2)"
      ]
     },
     "execution_count": 274,
     "metadata": {},
     "output_type": "execute_result"
    }
   ],
   "source": [
    "from sklearn.ensemble import RandomForestClassifier\n",
    "\n",
    "# 객체 생성\n",
    "clf = RandomForestClassifier(random_state=2)\n",
    "\n",
    "# 모델 학습\n",
    "clf.fit(X_train, y_train)"
   ]
  },
  {
   "cell_type": "code",
   "execution_count": 275,
   "metadata": {},
   "outputs": [
    {
     "data": {
      "text/plain": [
       "array([[0.04     , 0.855    , 0.105    ],\n",
       "       [0.1927381, 0.125    , 0.6822619],\n",
       "       [0.03     , 0.97     , 0.       ],\n",
       "       ...,\n",
       "       [0.       , 0.99     , 0.01     ],\n",
       "       [0.06     , 0.7      , 0.24     ],\n",
       "       [0.       , 0.02     , 0.98     ]])"
      ]
     },
     "execution_count": 275,
     "metadata": {},
     "output_type": "execute_result"
    }
   ],
   "source": [
    "# 예측확률 \n",
    "y_proba = clf.predict_proba(X_val)\n",
    "y_proba"
   ]
  },
  {
   "cell_type": "code",
   "execution_count": 276,
   "metadata": {},
   "outputs": [
    {
     "data": {
      "text/html": [
       "<div>\n",
       "<style scoped>\n",
       "    .dataframe tbody tr th:only-of-type {\n",
       "        vertical-align: middle;\n",
       "    }\n",
       "\n",
       "    .dataframe tbody tr th {\n",
       "        vertical-align: top;\n",
       "    }\n",
       "\n",
       "    .dataframe thead th {\n",
       "        text-align: right;\n",
       "    }\n",
       "</style>\n",
       "<table border=\"1\" class=\"dataframe\">\n",
       "  <thead>\n",
       "    <tr style=\"text-align: right;\">\n",
       "      <th></th>\n",
       "      <th>0</th>\n",
       "      <th>1</th>\n",
       "      <th>2</th>\n",
       "    </tr>\n",
       "  </thead>\n",
       "  <tbody>\n",
       "    <tr>\n",
       "      <th>43870</th>\n",
       "      <td>0</td>\n",
       "      <td>1</td>\n",
       "      <td>0</td>\n",
       "    </tr>\n",
       "    <tr>\n",
       "      <th>17624</th>\n",
       "      <td>0</td>\n",
       "      <td>0</td>\n",
       "      <td>1</td>\n",
       "    </tr>\n",
       "    <tr>\n",
       "      <th>48159</th>\n",
       "      <td>0</td>\n",
       "      <td>1</td>\n",
       "      <td>0</td>\n",
       "    </tr>\n",
       "    <tr>\n",
       "      <th>30125</th>\n",
       "      <td>1</td>\n",
       "      <td>0</td>\n",
       "      <td>0</td>\n",
       "    </tr>\n",
       "    <tr>\n",
       "      <th>37244</th>\n",
       "      <td>1</td>\n",
       "      <td>0</td>\n",
       "      <td>0</td>\n",
       "    </tr>\n",
       "  </tbody>\n",
       "</table>\n",
       "</div>"
      ],
      "text/plain": [
       "       0  1  2\n",
       "43870  0  1  0\n",
       "17624  0  0  1\n",
       "48159  0  1  0\n",
       "30125  1  0  0\n",
       "37244  1  0  0"
      ]
     },
     "execution_count": 276,
     "metadata": {},
     "output_type": "execute_result"
    }
   ],
   "source": [
    "# 예측값 \n",
    "y_val_onehot = pd.get_dummies(y_val)\n",
    "y_val_onehot.head()"
   ]
  },
  {
   "cell_type": "code",
   "execution_count": 277,
   "metadata": {},
   "outputs": [
    {
     "data": {
      "text/plain": [
       "0.49399598558710794"
      ]
     },
     "execution_count": 277,
     "metadata": {},
     "output_type": "execute_result"
    }
   ],
   "source": [
    "# Logloss \n",
    "from sklearn.metrics import log_loss\n",
    "log_loss(y_val_onehot, y_proba)"
   ]
  },
  {
   "cell_type": "code",
   "execution_count": 278,
   "metadata": {},
   "outputs": [
    {
     "data": {
      "text/html": [
       "<div>\n",
       "<style scoped>\n",
       "    .dataframe tbody tr th:only-of-type {\n",
       "        vertical-align: middle;\n",
       "    }\n",
       "\n",
       "    .dataframe tbody tr th {\n",
       "        vertical-align: top;\n",
       "    }\n",
       "\n",
       "    .dataframe thead th {\n",
       "        text-align: right;\n",
       "    }\n",
       "</style>\n",
       "<table border=\"1\" class=\"dataframe\">\n",
       "  <thead>\n",
       "    <tr style=\"text-align: right;\">\n",
       "      <th></th>\n",
       "      <th>index</th>\n",
       "      <th>0</th>\n",
       "      <th>1</th>\n",
       "      <th>2</th>\n",
       "    </tr>\n",
       "  </thead>\n",
       "  <tbody>\n",
       "    <tr>\n",
       "      <th>0</th>\n",
       "      <td>26457</td>\n",
       "      <td>0.000000</td>\n",
       "      <td>0.220000</td>\n",
       "      <td>0.780000</td>\n",
       "    </tr>\n",
       "    <tr>\n",
       "      <th>1</th>\n",
       "      <td>26458</td>\n",
       "      <td>0.716667</td>\n",
       "      <td>0.043333</td>\n",
       "      <td>0.240000</td>\n",
       "    </tr>\n",
       "    <tr>\n",
       "      <th>2</th>\n",
       "      <td>26459</td>\n",
       "      <td>0.030000</td>\n",
       "      <td>0.050000</td>\n",
       "      <td>0.920000</td>\n",
       "    </tr>\n",
       "    <tr>\n",
       "      <th>3</th>\n",
       "      <td>26460</td>\n",
       "      <td>0.117460</td>\n",
       "      <td>0.078000</td>\n",
       "      <td>0.804540</td>\n",
       "    </tr>\n",
       "    <tr>\n",
       "      <th>4</th>\n",
       "      <td>26461</td>\n",
       "      <td>0.139621</td>\n",
       "      <td>0.342167</td>\n",
       "      <td>0.518212</td>\n",
       "    </tr>\n",
       "  </tbody>\n",
       "</table>\n",
       "</div>"
      ],
      "text/plain": [
       "   index         0         1         2\n",
       "0  26457  0.000000  0.220000  0.780000\n",
       "1  26458  0.716667  0.043333  0.240000\n",
       "2  26459  0.030000  0.050000  0.920000\n",
       "3  26460  0.117460  0.078000  0.804540\n",
       "4  26461  0.139621  0.342167  0.518212"
      ]
     },
     "execution_count": 278,
     "metadata": {},
     "output_type": "execute_result"
    }
   ],
   "source": [
    "# for submission\n",
    "submission = pd.read_csv(data_path+'sample_submission.csv')\n",
    "submission.iloc[:,1:] = clf.predict_proba(test)\n",
    "submission.to_csv(\"_sub_01.csv\", index=False)\n",
    "submission.head()"
   ]
  },
  {
   "cell_type": "markdown",
   "metadata": {},
   "source": [
    "### StratifiedKFold 이용"
   ]
  },
  {
   "cell_type": "code",
   "execution_count": 279,
   "metadata": {},
   "outputs": [],
   "source": [
    "# StratifiedKFold 준비\n",
    "from sklearn.model_selection import StratifiedKFold\n",
    "folds = StratifiedKFold(n_splits=5, shuffle=True, random_state=2)"
   ]
  },
  {
   "cell_type": "code",
   "execution_count": 280,
   "metadata": {},
   "outputs": [
    {
     "data": {
      "text/plain": [
       "0.48036150302150454"
      ]
     },
     "execution_count": 280,
     "metadata": {},
     "output_type": "execute_result"
    }
   ],
   "source": [
    "# train set 으로 검증\n",
    "outcomes = []\n",
    "for n_fold, (train_index, val_index)  in enumerate(folds.split(X_new, y_new)):\n",
    "    X_train, X_val = X_new.iloc[train_index], X_new.iloc[val_index]\n",
    "    y_train, y_val = y_new.iloc[train_index], y_new.iloc[val_index]\n",
    "    clf = RandomForestClassifier(random_state=2)\n",
    "    clf.fit(X_train, y_train)\n",
    "    predictions = clf.predict_proba(X_val)\n",
    "    y_val_onehot = pd.get_dummies(y_val)\n",
    "\n",
    "    logloss = log_loss(y_val_onehot, predictions)\n",
    "    outcomes.append(logloss)\n",
    "    \n",
    "np.mean(outcomes)"
   ]
  },
  {
   "cell_type": "code",
   "execution_count": 71,
   "metadata": {},
   "outputs": [
    {
     "data": {
      "text/plain": [
       "0.49869831332016856"
      ]
     },
     "execution_count": 71,
     "metadata": {},
     "output_type": "execute_result"
    }
   ],
   "source": [
    "# test set 으로 예측\n",
    "outcomes = []\n",
    "sub = np.zeros((test.shape[0],3))\n",
    "for n_fold, (train_index, val_index)  in enumerate(folds.split(X_new, y_new)):\n",
    "    X_train, X_val = X_new.iloc[train_index], X_new.iloc[val_index]\n",
    "    y_train, y_val = y_new.iloc[train_index], y_new.iloc[val_index]\n",
    "    clf = RandomForestClassifier(random_state=2)\n",
    "    clf.fit(X_train, y_train)\n",
    "    predictions = clf.predict_proba(X_val)\n",
    "    y_val_onehot = pd.get_dummies(y_val)\n",
    "\n",
    "    sub += clf.predict_proba(test)\n",
    "\n",
    "    logloss = log_loss(y_val_onehot, predictions)\n",
    "    outcomes.append(logloss)\n",
    "\n",
    "sub = sub / 5\n",
    "   \n",
    "np.mean(outcomes)"
   ]
  },
  {
   "cell_type": "code",
   "execution_count": 72,
   "metadata": {},
   "outputs": [],
   "source": [
    "# for submission\n",
    "submission = pd.read_csv(data_path+'sample_submission.csv')\n",
    "submission.iloc[:,1:] =  sub\n",
    "submission.to_csv(\"_sub_02.csv\", index = False)"
   ]
  },
  {
   "cell_type": "markdown",
   "metadata": {},
   "source": [
    "## (2) K-NN"
   ]
  },
  {
   "cell_type": "markdown",
   "metadata": {},
   "source": [
    "### GridSearchCV 이용"
   ]
  },
  {
   "cell_type": "code",
   "execution_count": 97,
   "metadata": {},
   "outputs": [
    {
     "name": "stdout",
     "output_type": "stream",
     "text": [
      "best hyper parameter: {'n_neighbors': 3}\n",
      "best score: 0.8116\n"
     ]
    }
   ],
   "source": [
    "from sklearn.neighbors import KNeighborsClassifier\n",
    "from sklearn.model_selection import GridSearchCV\n",
    "\n",
    "knn = KNeighborsClassifier(weights='distance', metric='euclidean')\n",
    "param_grid = [{'n_neighbors': range(3,12)}]\n",
    "knn_grid = GridSearchCV(estimator=knn, param_grid=param_grid, cv=5, n_jobs=-1)\n",
    "knn_grid.fit(X_train, y_train)\n",
    "\n",
    "print('best hyper parameter:', knn_grid.best_params_)\n",
    "print('best score: {0:.4f}'.format(knn_grid.best_score_))"
   ]
  },
  {
   "cell_type": "code",
   "execution_count": 99,
   "metadata": {},
   "outputs": [
    {
     "data": {
      "text/plain": [
       "array([[0.        , 1.        , 0.        ],\n",
       "       [0.19101772, 0.        , 0.80898228],\n",
       "       [0.        , 1.        , 0.        ],\n",
       "       ...,\n",
       "       [0.        , 1.        , 0.        ],\n",
       "       [0.        , 1.        , 0.        ],\n",
       "       [0.        , 0.        , 1.        ]])"
      ]
     },
     "execution_count": 99,
     "metadata": {},
     "output_type": "execute_result"
    }
   ],
   "source": [
    "# 예측확률 \n",
    "y_proba = knn_grid.predict_proba(X_val)\n",
    "y_proba"
   ]
  },
  {
   "cell_type": "code",
   "execution_count": 100,
   "metadata": {},
   "outputs": [
    {
     "data": {
      "text/html": [
       "<div>\n",
       "<style scoped>\n",
       "    .dataframe tbody tr th:only-of-type {\n",
       "        vertical-align: middle;\n",
       "    }\n",
       "\n",
       "    .dataframe tbody tr th {\n",
       "        vertical-align: top;\n",
       "    }\n",
       "\n",
       "    .dataframe thead th {\n",
       "        text-align: right;\n",
       "    }\n",
       "</style>\n",
       "<table border=\"1\" class=\"dataframe\">\n",
       "  <thead>\n",
       "    <tr style=\"text-align: right;\">\n",
       "      <th></th>\n",
       "      <th>0</th>\n",
       "      <th>1</th>\n",
       "      <th>2</th>\n",
       "    </tr>\n",
       "  </thead>\n",
       "  <tbody>\n",
       "    <tr>\n",
       "      <th>43870</th>\n",
       "      <td>0</td>\n",
       "      <td>1</td>\n",
       "      <td>0</td>\n",
       "    </tr>\n",
       "    <tr>\n",
       "      <th>17624</th>\n",
       "      <td>0</td>\n",
       "      <td>0</td>\n",
       "      <td>1</td>\n",
       "    </tr>\n",
       "    <tr>\n",
       "      <th>48159</th>\n",
       "      <td>0</td>\n",
       "      <td>1</td>\n",
       "      <td>0</td>\n",
       "    </tr>\n",
       "    <tr>\n",
       "      <th>30125</th>\n",
       "      <td>1</td>\n",
       "      <td>0</td>\n",
       "      <td>0</td>\n",
       "    </tr>\n",
       "    <tr>\n",
       "      <th>37244</th>\n",
       "      <td>1</td>\n",
       "      <td>0</td>\n",
       "      <td>0</td>\n",
       "    </tr>\n",
       "  </tbody>\n",
       "</table>\n",
       "</div>"
      ],
      "text/plain": [
       "       0  1  2\n",
       "43870  0  1  0\n",
       "17624  0  0  1\n",
       "48159  0  1  0\n",
       "30125  1  0  0\n",
       "37244  1  0  0"
      ]
     },
     "execution_count": 100,
     "metadata": {},
     "output_type": "execute_result"
    }
   ],
   "source": [
    "# 예측값 \n",
    "y_val_onehot = pd.get_dummies(y_val)\n",
    "y_val_onehot.head()"
   ]
  },
  {
   "cell_type": "code",
   "execution_count": 101,
   "metadata": {},
   "outputs": [
    {
     "data": {
      "text/plain": [
       "3.3402601300551718"
      ]
     },
     "execution_count": 101,
     "metadata": {},
     "output_type": "execute_result"
    }
   ],
   "source": [
    "# Logloss \n",
    "from sklearn.metrics import log_loss\n",
    "log_loss(y_val_onehot, y_proba)"
   ]
  },
  {
   "cell_type": "code",
   "execution_count": 102,
   "metadata": {},
   "outputs": [
    {
     "data": {
      "text/html": [
       "<div>\n",
       "<style scoped>\n",
       "    .dataframe tbody tr th:only-of-type {\n",
       "        vertical-align: middle;\n",
       "    }\n",
       "\n",
       "    .dataframe tbody tr th {\n",
       "        vertical-align: top;\n",
       "    }\n",
       "\n",
       "    .dataframe thead th {\n",
       "        text-align: right;\n",
       "    }\n",
       "</style>\n",
       "<table border=\"1\" class=\"dataframe\">\n",
       "  <thead>\n",
       "    <tr style=\"text-align: right;\">\n",
       "      <th></th>\n",
       "      <th>index</th>\n",
       "      <th>0</th>\n",
       "      <th>1</th>\n",
       "      <th>2</th>\n",
       "    </tr>\n",
       "  </thead>\n",
       "  <tbody>\n",
       "    <tr>\n",
       "      <th>0</th>\n",
       "      <td>26457</td>\n",
       "      <td>0.0</td>\n",
       "      <td>0.249414</td>\n",
       "      <td>0.750586</td>\n",
       "    </tr>\n",
       "    <tr>\n",
       "      <th>1</th>\n",
       "      <td>26458</td>\n",
       "      <td>1.0</td>\n",
       "      <td>0.000000</td>\n",
       "      <td>0.000000</td>\n",
       "    </tr>\n",
       "    <tr>\n",
       "      <th>2</th>\n",
       "      <td>26459</td>\n",
       "      <td>0.0</td>\n",
       "      <td>0.467061</td>\n",
       "      <td>0.532939</td>\n",
       "    </tr>\n",
       "    <tr>\n",
       "      <th>3</th>\n",
       "      <td>26460</td>\n",
       "      <td>0.0</td>\n",
       "      <td>0.000000</td>\n",
       "      <td>1.000000</td>\n",
       "    </tr>\n",
       "    <tr>\n",
       "      <th>4</th>\n",
       "      <td>26461</td>\n",
       "      <td>0.0</td>\n",
       "      <td>0.815744</td>\n",
       "      <td>0.184256</td>\n",
       "    </tr>\n",
       "  </tbody>\n",
       "</table>\n",
       "</div>"
      ],
      "text/plain": [
       "   index    0         1         2\n",
       "0  26457  0.0  0.249414  0.750586\n",
       "1  26458  1.0  0.000000  0.000000\n",
       "2  26459  0.0  0.467061  0.532939\n",
       "3  26460  0.0  0.000000  1.000000\n",
       "4  26461  0.0  0.815744  0.184256"
      ]
     },
     "execution_count": 102,
     "metadata": {},
     "output_type": "execute_result"
    }
   ],
   "source": [
    "# for submission\n",
    "submission = pd.read_csv(data_path+'sample_submission.csv')\n",
    "submission.iloc[:,1:] = knn_grid.predict_proba(test)\n",
    "submission.to_csv(\"_sub_03.csv\", index=False)\n",
    "submission.head()"
   ]
  },
  {
   "cell_type": "markdown",
   "metadata": {},
   "source": [
    "## (3) SVC\n",
    "* 너~무 오래 걸려서 일단 패스"
   ]
  },
  {
   "cell_type": "code",
   "execution_count": 49,
   "metadata": {},
   "outputs": [],
   "source": [
    "from sklearn import svm\n",
    "from sklearn.svm import SVC\n",
    "from sklearn.model_selection import cross_val_score, cross_validate"
   ]
  },
  {
   "cell_type": "markdown",
   "metadata": {},
   "source": [
    "### 선형 분리모델"
   ]
  },
  {
   "cell_type": "code",
   "execution_count": null,
   "metadata": {},
   "outputs": [],
   "source": [
    "svc_linear = SVC(kernel='linear', random_state=2)\n",
    "\n",
    "# 교차검증\n",
    "scores = cross_val_score(svc_linear, X_new, y_new, cv=5)\n",
    "\n",
    "print('검증 결과 점수:', scores)\n",
    "print('검증 결과 점수 평균:', scores.mean())"
   ]
  },
  {
   "cell_type": "code",
   "execution_count": null,
   "metadata": {},
   "outputs": [],
   "source": [
    "# GridSesarchCV\n",
    "param_grid = {'C': [0.001, 0.01, 0.1, 1, 10, 25, 50, 100]}\n",
    "svc_grid = GridSearchCV(svc_linear, param_grid=param_grid, cv=5)\n",
    "svc_grid.fit(X_train, y_train)\n",
    "y_proba = svc_grid.predict_proba(X_val)\n",
    "log_loss(y_val_onehot, y_proba)"
   ]
  },
  {
   "cell_type": "code",
   "execution_count": null,
   "metadata": {},
   "outputs": [],
   "source": [
    "# for submission\n",
    "submission = pd.read_csv(data_path+'sample_submission.csv')\n",
    "submission.iloc[:,1:] = svc_grid.predict_proba(test)\n",
    "submission.to_csv(\"_sub_03.csv\", index=False)\n",
    "submission.head()"
   ]
  },
  {
   "cell_type": "markdown",
   "metadata": {},
   "source": [
    "### 비선형 분리모델"
   ]
  },
  {
   "cell_type": "code",
   "execution_count": null,
   "metadata": {},
   "outputs": [],
   "source": [
    "svc_rbf = SVC(kernel='rbf', gamma='auto', random_state=2)\n",
    "\n",
    "# 교차검증\n",
    "scores = cross_val_score(svc_rbf, X_new, y_new, cv=5)\n",
    "\n",
    "print('검증 결과 점수:', scores)\n",
    "print('검증 결과 점수 평균:', scores.mean())"
   ]
  },
  {
   "cell_type": "code",
   "execution_count": null,
   "metadata": {},
   "outputs": [],
   "source": [
    "# GridSesarchCV\n",
    "param_grid = {'C': [0.001, 0.01, 0.1, 1, 10, 25, 50, 100]}\n",
    "svc_grid = GridSearchCV(svc_rbf, param_grid=param_grid, cv=5)\n",
    "svc_grid.fit(X_train, y_train)\n",
    "y_proba = svc_grid.predict_proba(X_val)\n",
    "log_loss(y_val_onehot, y_proba)"
   ]
  },
  {
   "cell_type": "code",
   "execution_count": null,
   "metadata": {},
   "outputs": [],
   "source": [
    "# for submission\n",
    "submission = pd.read_csv(data_path+'sample_submission.csv')\n",
    "submission.iloc[:,1:] = svc_grid.predict_proba(test)\n",
    "submission.to_csv(\"_sub_06.csv\", index=False)\n",
    "submission.head()"
   ]
  },
  {
   "cell_type": "markdown",
   "metadata": {},
   "source": [
    "## (4) Logistic Regression\n",
    "* https://woosa7.github.io/Classification_Regression/"
   ]
  },
  {
   "cell_type": "code",
   "execution_count": 74,
   "metadata": {},
   "outputs": [],
   "source": [
    "from sklearn.linear_model import LogisticRegression\n",
    "from sklearn.metrics import log_loss\n",
    "\n",
    "# train/val set 분리 \n",
    "from sklearn.model_selection import train_test_split\n",
    "X_train, X_val, y_train, y_val = train_test_split(X_new, y_new, stratify=y_new, test_size=0.25, random_state=2)\n",
    "\n",
    "# StratifiedKFold 준비\n",
    "from sklearn.model_selection import StratifiedKFold\n",
    "folds = StratifiedKFold(n_splits=5, shuffle=True, random_state=2)"
   ]
  },
  {
   "cell_type": "markdown",
   "metadata": {},
   "source": [
    "### Lasso\n",
    "* 변수 선택 O"
   ]
  },
  {
   "cell_type": "code",
   "execution_count": 75,
   "metadata": {},
   "outputs": [
    {
     "data": {
      "text/plain": [
       "1.0792063539093084"
      ]
     },
     "execution_count": 75,
     "metadata": {},
     "output_type": "execute_result"
    }
   ],
   "source": [
    "# StratifiedKFold\n",
    "outcomes = []\n",
    "sub = np.zeros((test.shape[0],3))\n",
    "for n_fold, (train_index, val_index)  in enumerate(folds.split(X_new, y_new)):\n",
    "    X_train, X_val = X_new.iloc[train_index], X_new.iloc[val_index]\n",
    "    y_train, y_val = y_new.iloc[train_index], y_new.iloc[val_index]\n",
    "    lasso = LogisticRegression(penalty='l1', solver='liblinear', C=1, random_state=2)   \n",
    "    lasso.fit(X_train, y_train)\n",
    "    predictions = lasso.predict_proba(X_val)\n",
    "    y_val_onehot = pd.get_dummies(y_val)\n",
    "\n",
    "    sub += lasso.predict_proba(test)\n",
    "\n",
    "    logloss = log_loss(y_val_onehot, predictions)\n",
    "    outcomes.append(logloss)\n",
    "\n",
    "sub = sub / 5\n",
    "   \n",
    "np.mean(outcomes)"
   ]
  },
  {
   "cell_type": "code",
   "execution_count": 76,
   "metadata": {},
   "outputs": [],
   "source": [
    "# for submission\n",
    "submission = pd.read_csv(data_path+'sample_submission.csv')\n",
    "submission.iloc[:,1:] =  sub\n",
    "submission.to_csv(\"_sub_04.csv\", index = False)"
   ]
  },
  {
   "cell_type": "markdown",
   "metadata": {},
   "source": [
    "### Ridge\n",
    "* 변수 선택 X"
   ]
  },
  {
   "cell_type": "code",
   "execution_count": 46,
   "metadata": {},
   "outputs": [
    {
     "data": {
      "text/plain": [
       "1.0775150054771618"
      ]
     },
     "execution_count": 46,
     "metadata": {},
     "output_type": "execute_result"
    }
   ],
   "source": [
    "# StratifiedKFold\n",
    "outcomes = []\n",
    "sub = np.zeros((test.shape[0],3))\n",
    "for n_fold, (train_index, val_index)  in enumerate(folds.split(X_new, y_new)):\n",
    "    X_train, X_val = X_new.iloc[train_index], X_new.iloc[val_index]\n",
    "    y_train, y_val = y_new.iloc[train_index], y_new.iloc[val_index]\n",
    "    ridge = LogisticRegression(penalty='l2', C=2, random_state=2)   \n",
    "    ridge.fit(X_train, y_train)\n",
    "    predictions = ridge.predict_proba(X_val)\n",
    "    y_val_onehot = pd.get_dummies(y_val)\n",
    "\n",
    "    sub += ridge.predict_proba(test)\n",
    "\n",
    "    logloss = log_loss(y_val_onehot, predictions)\n",
    "    outcomes.append(logloss)\n",
    "\n",
    "sub = sub / 5\n",
    "   \n",
    "np.mean(outcomes)"
   ]
  },
  {
   "cell_type": "code",
   "execution_count": 47,
   "metadata": {},
   "outputs": [],
   "source": [
    "# for submission\n",
    "submission = pd.read_csv(data_path+'sample_submission.csv')\n",
    "submission.iloc[:,1:] =  sub\n",
    "submission.to_csv(\"_sub_05.csv\", index = False)"
   ]
  },
  {
   "cell_type": "markdown",
   "metadata": {},
   "source": [
    "## (5) LightGBM"
   ]
  },
  {
   "cell_type": "markdown",
   "metadata": {},
   "source": [
    "* XGBoost와 함께 부스팅 계열 알고리즘 중 가장 각광받는 중\n",
    "* XGBoost보다 학습이 빠르지만 성능은 크게 차이나지 않음 "
   ]
  },
  {
   "cell_type": "code",
   "execution_count": 21,
   "metadata": {},
   "outputs": [],
   "source": [
    "from lightgbm import LGBMClassifier\n",
    "from sklearn.metrics import log_loss\n",
    "\n",
    "# train/val set 분리 \n",
    "from sklearn.model_selection import train_test_split\n",
    "X_train, X_val, y_train, y_val = train_test_split(X, y, stratify=y, test_size=0.25, random_state=2)\n",
    "\n",
    "# StratifiedKFold 준비\n",
    "from sklearn.model_selection import StratifiedKFold\n",
    "folds = StratifiedKFold(n_splits=10, shuffle=True, random_state=2)"
   ]
  },
  {
   "cell_type": "code",
   "execution_count": 22,
   "metadata": {},
   "outputs": [
    {
     "name": "stdout",
     "output_type": "stream",
     "text": [
      "Training until validation scores don't improve for 30 rounds\n",
      "[100]\ttraining's multi_logloss: 0.683907\tvalid_1's multi_logloss: 0.772166\n",
      "[200]\ttraining's multi_logloss: 0.616941\tvalid_1's multi_logloss: 0.760626\n",
      "[300]\ttraining's multi_logloss: 0.565108\tvalid_1's multi_logloss: 0.757645\n",
      "Early stopping, best iteration is:\n",
      "[365]\ttraining's multi_logloss: 0.536178\tvalid_1's multi_logloss: 0.756734\n",
      "Training until validation scores don't improve for 30 rounds\n",
      "[100]\ttraining's multi_logloss: 0.685912\tvalid_1's multi_logloss: 0.769248\n",
      "[200]\ttraining's multi_logloss: 0.61698\tvalid_1's multi_logloss: 0.752648\n",
      "[300]\ttraining's multi_logloss: 0.565361\tvalid_1's multi_logloss: 0.746154\n",
      "Early stopping, best iteration is:\n",
      "[308]\ttraining's multi_logloss: 0.561606\tvalid_1's multi_logloss: 0.745345\n",
      "Training until validation scores don't improve for 30 rounds\n",
      "[100]\ttraining's multi_logloss: 0.687207\tvalid_1's multi_logloss: 0.762461\n",
      "[200]\ttraining's multi_logloss: 0.619637\tvalid_1's multi_logloss: 0.746879\n",
      "[300]\ttraining's multi_logloss: 0.565822\tvalid_1's multi_logloss: 0.73839\n",
      "Early stopping, best iteration is:\n",
      "[347]\ttraining's multi_logloss: 0.545529\tvalid_1's multi_logloss: 0.735293\n",
      "Training until validation scores don't improve for 30 rounds\n",
      "[100]\ttraining's multi_logloss: 0.688407\tvalid_1's multi_logloss: 0.75799\n",
      "[200]\ttraining's multi_logloss: 0.621487\tvalid_1's multi_logloss: 0.739096\n",
      "[300]\ttraining's multi_logloss: 0.570034\tvalid_1's multi_logloss: 0.728478\n",
      "[400]\ttraining's multi_logloss: 0.526851\tvalid_1's multi_logloss: 0.724284\n",
      "[500]\ttraining's multi_logloss: 0.489563\tvalid_1's multi_logloss: 0.722262\n",
      "Early stopping, best iteration is:\n",
      "[545]\ttraining's multi_logloss: 0.474107\tvalid_1's multi_logloss: 0.720694\n",
      "Training until validation scores don't improve for 30 rounds\n",
      "[100]\ttraining's multi_logloss: 0.688339\tvalid_1's multi_logloss: 0.764969\n",
      "[200]\ttraining's multi_logloss: 0.621119\tvalid_1's multi_logloss: 0.747571\n",
      "[300]\ttraining's multi_logloss: 0.569686\tvalid_1's multi_logloss: 0.734614\n",
      "[400]\ttraining's multi_logloss: 0.527056\tvalid_1's multi_logloss: 0.729084\n",
      "Early stopping, best iteration is:\n",
      "[430]\ttraining's multi_logloss: 0.516305\tvalid_1's multi_logloss: 0.72828\n",
      "Training until validation scores don't improve for 30 rounds\n",
      "[100]\ttraining's multi_logloss: 0.687002\tvalid_1's multi_logloss: 0.763303\n",
      "[200]\ttraining's multi_logloss: 0.619323\tvalid_1's multi_logloss: 0.746134\n",
      "[300]\ttraining's multi_logloss: 0.56709\tvalid_1's multi_logloss: 0.737537\n",
      "[400]\ttraining's multi_logloss: 0.523701\tvalid_1's multi_logloss: 0.733733\n",
      "Early stopping, best iteration is:\n",
      "[468]\ttraining's multi_logloss: 0.497911\tvalid_1's multi_logloss: 0.732321\n",
      "Training until validation scores don't improve for 30 rounds\n",
      "[100]\ttraining's multi_logloss: 0.687768\tvalid_1's multi_logloss: 0.758773\n",
      "[200]\ttraining's multi_logloss: 0.618073\tvalid_1's multi_logloss: 0.742386\n",
      "[300]\ttraining's multi_logloss: 0.565157\tvalid_1's multi_logloss: 0.733115\n",
      "Early stopping, best iteration is:\n",
      "[359]\ttraining's multi_logloss: 0.538468\tvalid_1's multi_logloss: 0.729714\n",
      "Training until validation scores don't improve for 30 rounds\n",
      "[100]\ttraining's multi_logloss: 0.687913\tvalid_1's multi_logloss: 0.755713\n",
      "[200]\ttraining's multi_logloss: 0.618071\tvalid_1's multi_logloss: 0.743511\n",
      "[300]\ttraining's multi_logloss: 0.566848\tvalid_1's multi_logloss: 0.73542\n",
      "[400]\ttraining's multi_logloss: 0.524149\tvalid_1's multi_logloss: 0.731367\n",
      "Early stopping, best iteration is:\n",
      "[407]\ttraining's multi_logloss: 0.521148\tvalid_1's multi_logloss: 0.731204\n",
      "Training until validation scores don't improve for 30 rounds\n",
      "[100]\ttraining's multi_logloss: 0.68846\tvalid_1's multi_logloss: 0.763748\n",
      "[200]\ttraining's multi_logloss: 0.620176\tvalid_1's multi_logloss: 0.74625\n",
      "[300]\ttraining's multi_logloss: 0.567606\tvalid_1's multi_logloss: 0.73901\n",
      "Early stopping, best iteration is:\n",
      "[343]\ttraining's multi_logloss: 0.548304\tvalid_1's multi_logloss: 0.736812\n",
      "Training until validation scores don't improve for 30 rounds\n",
      "[100]\ttraining's multi_logloss: 0.688519\tvalid_1's multi_logloss: 0.749665\n",
      "[200]\ttraining's multi_logloss: 0.620277\tvalid_1's multi_logloss: 0.730734\n",
      "[300]\ttraining's multi_logloss: 0.567751\tvalid_1's multi_logloss: 0.720432\n",
      "[400]\ttraining's multi_logloss: 0.52455\tvalid_1's multi_logloss: 0.715279\n",
      "[500]\ttraining's multi_logloss: 0.488176\tvalid_1's multi_logloss: 0.713542\n",
      "Early stopping, best iteration is:\n",
      "[481]\ttraining's multi_logloss: 0.494477\tvalid_1's multi_logloss: 0.712949\n"
     ]
    },
    {
     "data": {
      "text/plain": [
       "0.7329346108505829"
      ]
     },
     "execution_count": 22,
     "metadata": {},
     "output_type": "execute_result"
    }
   ],
   "source": [
    "# StratifiedKFold\n",
    "outcomes = []\n",
    "sub = np.zeros((test.shape[0],3))\n",
    "for n_fold, (train_index, val_index)  in enumerate(folds.split(X, y)):\n",
    "    X_train, X_val = X.iloc[train_index], X.iloc[val_index]\n",
    "    y_train, y_val = y.iloc[train_index], y.iloc[val_index]\n",
    "    lgb = LGBMClassifier(n_estimators=1000, random_state=2)\n",
    "    lgb.fit(X_train, y_train,\n",
    "           eval_set=[(X_train,y_train),(X_val,y_val)],\n",
    "           early_stopping_rounds=30,\n",
    "           verbose=100)\n",
    "    predictions = lgb.predict_proba(X_val)\n",
    "    y_val_onehot = pd.get_dummies(y_val)\n",
    "\n",
    "    sub += lgb.predict_proba(test)\n",
    "\n",
    "    logloss = log_loss(y_val_onehot, predictions)\n",
    "    outcomes.append(logloss)\n",
    "\n",
    "sub = sub / 10\n",
    "   \n",
    "np.mean(outcomes)"
   ]
  },
  {
   "cell_type": "code",
   "execution_count": 43,
   "metadata": {
    "collapsed": true
   },
   "outputs": [
    {
     "name": "stdout",
     "output_type": "stream",
     "text": [
      "Training until validation scores don't improve for 30 rounds\n",
      "[100]\ttraining's multi_logloss: 0.865059\tvalid_1's multi_logloss: 0.886666\n",
      "[200]\ttraining's multi_logloss: 0.768352\tvalid_1's multi_logloss: 0.806635\n",
      "[300]\ttraining's multi_logloss: 0.695699\tvalid_1's multi_logloss: 0.746666\n",
      "[400]\ttraining's multi_logloss: 0.637229\tvalid_1's multi_logloss: 0.698267\n",
      "[500]\ttraining's multi_logloss: 0.588987\tvalid_1's multi_logloss: 0.660012\n",
      "[600]\ttraining's multi_logloss: 0.546403\tvalid_1's multi_logloss: 0.625846\n",
      "[700]\ttraining's multi_logloss: 0.508511\tvalid_1's multi_logloss: 0.595138\n",
      "[800]\ttraining's multi_logloss: 0.47405\tvalid_1's multi_logloss: 0.567434\n",
      "[900]\ttraining's multi_logloss: 0.44311\tvalid_1's multi_logloss: 0.542874\n",
      "[1000]\ttraining's multi_logloss: 0.416223\tvalid_1's multi_logloss: 0.521581\n",
      "Did not meet early stopping. Best iteration is:\n",
      "[1000]\ttraining's multi_logloss: 0.416223\tvalid_1's multi_logloss: 0.521581\n",
      "Training until validation scores don't improve for 30 rounds\n",
      "[100]\ttraining's multi_logloss: 0.863889\tvalid_1's multi_logloss: 0.90465\n",
      "[200]\ttraining's multi_logloss: 0.766526\tvalid_1's multi_logloss: 0.827818\n",
      "[300]\ttraining's multi_logloss: 0.695676\tvalid_1's multi_logloss: 0.772287\n",
      "[400]\ttraining's multi_logloss: 0.637863\tvalid_1's multi_logloss: 0.724179\n",
      "[500]\ttraining's multi_logloss: 0.587563\tvalid_1's multi_logloss: 0.684081\n",
      "[600]\ttraining's multi_logloss: 0.542643\tvalid_1's multi_logloss: 0.646294\n",
      "[700]\ttraining's multi_logloss: 0.504196\tvalid_1's multi_logloss: 0.613726\n",
      "[800]\ttraining's multi_logloss: 0.472694\tvalid_1's multi_logloss: 0.587808\n",
      "[900]\ttraining's multi_logloss: 0.443075\tvalid_1's multi_logloss: 0.563089\n",
      "[1000]\ttraining's multi_logloss: 0.416567\tvalid_1's multi_logloss: 0.540632\n",
      "Did not meet early stopping. Best iteration is:\n",
      "[1000]\ttraining's multi_logloss: 0.416567\tvalid_1's multi_logloss: 0.540632\n",
      "Training until validation scores don't improve for 30 rounds\n",
      "[100]\ttraining's multi_logloss: 0.864948\tvalid_1's multi_logloss: 0.896803\n",
      "[200]\ttraining's multi_logloss: 0.766028\tvalid_1's multi_logloss: 0.817696\n",
      "[300]\ttraining's multi_logloss: 0.692799\tvalid_1's multi_logloss: 0.758475\n",
      "[400]\ttraining's multi_logloss: 0.631024\tvalid_1's multi_logloss: 0.707289\n",
      "[500]\ttraining's multi_logloss: 0.582303\tvalid_1's multi_logloss: 0.666523\n",
      "[600]\ttraining's multi_logloss: 0.541393\tvalid_1's multi_logloss: 0.633099\n",
      "[700]\ttraining's multi_logloss: 0.503375\tvalid_1's multi_logloss: 0.601402\n",
      "[800]\ttraining's multi_logloss: 0.470623\tvalid_1's multi_logloss: 0.575416\n",
      "[900]\ttraining's multi_logloss: 0.441475\tvalid_1's multi_logloss: 0.550901\n",
      "[1000]\ttraining's multi_logloss: 0.412279\tvalid_1's multi_logloss: 0.527578\n",
      "Did not meet early stopping. Best iteration is:\n",
      "[1000]\ttraining's multi_logloss: 0.412279\tvalid_1's multi_logloss: 0.527578\n",
      "Training until validation scores don't improve for 30 rounds\n",
      "[100]\ttraining's multi_logloss: 0.867357\tvalid_1's multi_logloss: 0.897187\n",
      "[200]\ttraining's multi_logloss: 0.765837\tvalid_1's multi_logloss: 0.815433\n",
      "[300]\ttraining's multi_logloss: 0.693662\tvalid_1's multi_logloss: 0.755857\n",
      "[400]\ttraining's multi_logloss: 0.635116\tvalid_1's multi_logloss: 0.708818\n",
      "[500]\ttraining's multi_logloss: 0.586584\tvalid_1's multi_logloss: 0.669146\n",
      "[600]\ttraining's multi_logloss: 0.541818\tvalid_1's multi_logloss: 0.631447\n",
      "[700]\ttraining's multi_logloss: 0.505101\tvalid_1's multi_logloss: 0.602213\n",
      "[800]\ttraining's multi_logloss: 0.472946\tvalid_1's multi_logloss: 0.575238\n",
      "[900]\ttraining's multi_logloss: 0.443256\tvalid_1's multi_logloss: 0.551169\n",
      "[1000]\ttraining's multi_logloss: 0.417288\tvalid_1's multi_logloss: 0.529302\n",
      "Did not meet early stopping. Best iteration is:\n",
      "[1000]\ttraining's multi_logloss: 0.417288\tvalid_1's multi_logloss: 0.529302\n",
      "Training until validation scores don't improve for 30 rounds\n",
      "[100]\ttraining's multi_logloss: 0.866719\tvalid_1's multi_logloss: 0.89503\n",
      "[200]\ttraining's multi_logloss: 0.771645\tvalid_1's multi_logloss: 0.818493\n",
      "[300]\ttraining's multi_logloss: 0.695234\tvalid_1's multi_logloss: 0.756686\n",
      "[400]\ttraining's multi_logloss: 0.637799\tvalid_1's multi_logloss: 0.711236\n",
      "[500]\ttraining's multi_logloss: 0.588551\tvalid_1's multi_logloss: 0.670808\n",
      "[600]\ttraining's multi_logloss: 0.544553\tvalid_1's multi_logloss: 0.635424\n",
      "[700]\ttraining's multi_logloss: 0.506749\tvalid_1's multi_logloss: 0.60416\n",
      "[800]\ttraining's multi_logloss: 0.473029\tvalid_1's multi_logloss: 0.576307\n",
      "[900]\ttraining's multi_logloss: 0.443452\tvalid_1's multi_logloss: 0.552714\n",
      "[1000]\ttraining's multi_logloss: 0.41651\tvalid_1's multi_logloss: 0.531296\n",
      "Did not meet early stopping. Best iteration is:\n",
      "[1000]\ttraining's multi_logloss: 0.41651\tvalid_1's multi_logloss: 0.531296\n",
      "Training until validation scores don't improve for 30 rounds\n",
      "[100]\ttraining's multi_logloss: 0.865388\tvalid_1's multi_logloss: 0.901549\n",
      "[200]\ttraining's multi_logloss: 0.766125\tvalid_1's multi_logloss: 0.822571\n",
      "[300]\ttraining's multi_logloss: 0.692951\tvalid_1's multi_logloss: 0.765055\n",
      "[400]\ttraining's multi_logloss: 0.630868\tvalid_1's multi_logloss: 0.715778\n",
      "[500]\ttraining's multi_logloss: 0.582566\tvalid_1's multi_logloss: 0.676315\n",
      "[600]\ttraining's multi_logloss: 0.539069\tvalid_1's multi_logloss: 0.640797\n",
      "[700]\ttraining's multi_logloss: 0.502314\tvalid_1's multi_logloss: 0.611156\n",
      "[800]\ttraining's multi_logloss: 0.466946\tvalid_1's multi_logloss: 0.582295\n",
      "[900]\ttraining's multi_logloss: 0.438372\tvalid_1's multi_logloss: 0.559941\n",
      "[1000]\ttraining's multi_logloss: 0.412058\tvalid_1's multi_logloss: 0.539732\n",
      "Did not meet early stopping. Best iteration is:\n",
      "[1000]\ttraining's multi_logloss: 0.412058\tvalid_1's multi_logloss: 0.539732\n",
      "Training until validation scores don't improve for 30 rounds\n",
      "[100]\ttraining's multi_logloss: 0.864753\tvalid_1's multi_logloss: 0.902591\n",
      "[200]\ttraining's multi_logloss: 0.770075\tvalid_1's multi_logloss: 0.826888\n",
      "[300]\ttraining's multi_logloss: 0.694484\tvalid_1's multi_logloss: 0.764714\n",
      "[400]\ttraining's multi_logloss: 0.633402\tvalid_1's multi_logloss: 0.715597\n",
      "[500]\ttraining's multi_logloss: 0.580144\tvalid_1's multi_logloss: 0.673571\n",
      "[600]\ttraining's multi_logloss: 0.535536\tvalid_1's multi_logloss: 0.638006\n",
      "[700]\ttraining's multi_logloss: 0.499107\tvalid_1's multi_logloss: 0.609112\n",
      "[800]\ttraining's multi_logloss: 0.466749\tvalid_1's multi_logloss: 0.581647\n",
      "[900]\ttraining's multi_logloss: 0.436225\tvalid_1's multi_logloss: 0.556213\n",
      "[1000]\ttraining's multi_logloss: 0.41123\tvalid_1's multi_logloss: 0.535786\n",
      "Did not meet early stopping. Best iteration is:\n",
      "[1000]\ttraining's multi_logloss: 0.41123\tvalid_1's multi_logloss: 0.535786\n",
      "Training until validation scores don't improve for 30 rounds\n",
      "[100]\ttraining's multi_logloss: 0.866448\tvalid_1's multi_logloss: 0.899106\n",
      "[200]\ttraining's multi_logloss: 0.766932\tvalid_1's multi_logloss: 0.819391\n",
      "[300]\ttraining's multi_logloss: 0.693617\tvalid_1's multi_logloss: 0.761812\n",
      "[400]\ttraining's multi_logloss: 0.632721\tvalid_1's multi_logloss: 0.713407\n",
      "[500]\ttraining's multi_logloss: 0.582325\tvalid_1's multi_logloss: 0.673211\n",
      "[600]\ttraining's multi_logloss: 0.540072\tvalid_1's multi_logloss: 0.639802\n",
      "[700]\ttraining's multi_logloss: 0.503827\tvalid_1's multi_logloss: 0.610217\n",
      "[800]\ttraining's multi_logloss: 0.471739\tvalid_1's multi_logloss: 0.584284\n",
      "[900]\ttraining's multi_logloss: 0.443697\tvalid_1's multi_logloss: 0.561217\n",
      "[1000]\ttraining's multi_logloss: 0.417424\tvalid_1's multi_logloss: 0.539597\n",
      "Did not meet early stopping. Best iteration is:\n",
      "[1000]\ttraining's multi_logloss: 0.417424\tvalid_1's multi_logloss: 0.539597\n",
      "Training until validation scores don't improve for 30 rounds\n",
      "[100]\ttraining's multi_logloss: 0.865139\tvalid_1's multi_logloss: 0.889433\n",
      "[200]\ttraining's multi_logloss: 0.768108\tvalid_1's multi_logloss: 0.807454\n",
      "[300]\ttraining's multi_logloss: 0.696344\tvalid_1's multi_logloss: 0.748107\n",
      "[400]\ttraining's multi_logloss: 0.637316\tvalid_1's multi_logloss: 0.70212\n",
      "[500]\ttraining's multi_logloss: 0.587612\tvalid_1's multi_logloss: 0.66314\n",
      "[600]\ttraining's multi_logloss: 0.545779\tvalid_1's multi_logloss: 0.62939\n",
      "[700]\ttraining's multi_logloss: 0.507748\tvalid_1's multi_logloss: 0.59982\n",
      "[800]\ttraining's multi_logloss: 0.473777\tvalid_1's multi_logloss: 0.571548\n",
      "[900]\ttraining's multi_logloss: 0.442695\tvalid_1's multi_logloss: 0.545503\n"
     ]
    },
    {
     "name": "stdout",
     "output_type": "stream",
     "text": [
      "[1000]\ttraining's multi_logloss: 0.413317\tvalid_1's multi_logloss: 0.521135\n",
      "Did not meet early stopping. Best iteration is:\n",
      "[1000]\ttraining's multi_logloss: 0.413317\tvalid_1's multi_logloss: 0.521135\n",
      "Training until validation scores don't improve for 30 rounds\n",
      "[100]\ttraining's multi_logloss: 0.864051\tvalid_1's multi_logloss: 0.90324\n",
      "[200]\ttraining's multi_logloss: 0.768086\tvalid_1's multi_logloss: 0.826542\n",
      "[300]\ttraining's multi_logloss: 0.693671\tvalid_1's multi_logloss: 0.766993\n",
      "[400]\ttraining's multi_logloss: 0.636513\tvalid_1's multi_logloss: 0.721197\n",
      "[500]\ttraining's multi_logloss: 0.587115\tvalid_1's multi_logloss: 0.679933\n",
      "[600]\ttraining's multi_logloss: 0.54313\tvalid_1's multi_logloss: 0.644362\n",
      "[700]\ttraining's multi_logloss: 0.504153\tvalid_1's multi_logloss: 0.614151\n",
      "[800]\ttraining's multi_logloss: 0.470405\tvalid_1's multi_logloss: 0.587752\n",
      "[900]\ttraining's multi_logloss: 0.440206\tvalid_1's multi_logloss: 0.563092\n",
      "[1000]\ttraining's multi_logloss: 0.413737\tvalid_1's multi_logloss: 0.541635\n",
      "Did not meet early stopping. Best iteration is:\n",
      "[1000]\ttraining's multi_logloss: 0.413737\tvalid_1's multi_logloss: 0.541635\n"
     ]
    },
    {
     "data": {
      "text/plain": [
       "0.5328274295441762"
      ]
     },
     "execution_count": 43,
     "metadata": {},
     "output_type": "execute_result"
    }
   ],
   "source": [
    "# # 불균형데이터 처리 후 StratifiedKFold\n",
    "# # 오히려 overfitting이 발생하는 듯??\n",
    "# outcomes = []\n",
    "# sub = np.zeros((test.shape[0],3))\n",
    "# for n_fold, (train_index, val_index)  in enumerate(folds.split(X_new, y_new)):\n",
    "#     X_train, X_val = X_new.iloc[train_index], X_new.iloc[val_index]\n",
    "#     y_train, y_val = y_new.iloc[train_index], y_new.iloc[val_index]\n",
    "#     lgb = LGBMClassifier(n_estimators=1000, random_state=2)\n",
    "#     lgb.fit(X_train, y_train,\n",
    "#            eval_set=[(X_train,y_train),(X_val,y_val)],\n",
    "#            early_stopping_rounds=30,\n",
    "#            verbose=100)\n",
    "#     predictions = lgb.predict_proba(X_val)\n",
    "#     y_val_onehot = pd.get_dummies(y_val)\n",
    "\n",
    "#     sub += lgb.predict_proba(test)\n",
    "\n",
    "#     logloss = log_loss(y_val_onehot, predictions)\n",
    "#     outcomes.append(logloss)\n",
    "\n",
    "# sub = sub / 10\n",
    "   \n",
    "# np.mean(outcomes)"
   ]
  },
  {
   "cell_type": "code",
   "execution_count": 23,
   "metadata": {},
   "outputs": [],
   "source": [
    "# for submission\n",
    "submission = pd.read_csv(data_path+'sample_submission.csv')\n",
    "submission.iloc[:,1:] =  sub\n",
    "submission.to_csv(\"_sub_08.csv\", index = False)"
   ]
  },
  {
   "cell_type": "code",
   "execution_count": null,
   "metadata": {},
   "outputs": [],
   "source": [
    "# 내일 _sub_07 제출해보기 -> 0.8118 ㅠㅠ\n",
    "# 불균형 데이터 처리 + StratifiedKFold(10) + LGBM "
   ]
  },
  {
   "attachments": {
    "111.PNG": {
     "image/png": "[encoded data removed]"
    }
   },
   "cell_type": "markdown",
   "metadata": {},
   "source": [
    "![111.PNG](attachment:111.PNG)"
   ]
  }
 ],
 "metadata": {
  "kernelspec": {
   "display_name": "Python 3",
   "language": "python",
   "name": "python3"
  },
  "language_info": {
   "codemirror_mode": {
    "name": "ipython",
    "version": 3
   },
   "file_extension": ".py",
   "mimetype": "text/x-python",
   "name": "python",
   "nbconvert_exporter": "python",
   "pygments_lexer": "ipython3",
   "version": "3.7.3"
  }
 },
 "nbformat": 4,
 "nbformat_minor": 2
}
